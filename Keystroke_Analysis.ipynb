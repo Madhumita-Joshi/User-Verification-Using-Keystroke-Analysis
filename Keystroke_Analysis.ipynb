{
  "nbformat": 4,
  "nbformat_minor": 0,
  "metadata": {
    "colab": {
      "name": "Group 2 Keystroke Analysis",
      "provenance": [],
      "collapsed_sections": [],
      "include_colab_link": true
    },
    "kernelspec": {
      "name": "python3",
      "display_name": "Python 3"
    },
    "language_info": {
      "name": "python"
    }
  },
  "cells": [
    {
      "cell_type": "markdown",
      "metadata": {
        "id": "view-in-github",
        "colab_type": "text"
      },
      "source": [
        "<a href=\"https://colab.research.google.com/github/Madhumita-Joshi/User-Verification-Using-Keystroke-Analysis/blob/main/Keystroke_Analysis.ipynb\" target=\"_parent\"><img src=\"https://colab.research.google.com/assets/colab-badge.svg\" alt=\"Open In Colab\"/></a>"
      ]
    },
    {
      "cell_type": "markdown",
      "metadata": {
        "id": "eR6d9XEjnFfM"
      },
      "source": [
        "**Biometric Mini Project**\n",
        "\n",
        "Group members :\n",
        "\n",
        "Shubham Bagdare ( N003 )\n",
        "\n",
        "Madhumita Joshi ( N015 )\n",
        "\n",
        "Harsh Kharabe ( N017 )"
      ]
    },
    {
      "cell_type": "markdown",
      "metadata": {
        "id": "4mUAVDAfxUIZ"
      },
      "source": [
        "<h2>Application of Keystroke Biometrics to build a 2 class classifier </h2>\n"
      ]
    },
    {
      "cell_type": "code",
      "metadata": {
        "id": "RxLgelo_CYgP"
      },
      "source": [
        "# Importing keystroke dataset\n",
        "# password :  .tie5Roanl\n",
        "import numpy as np\n",
        "import pandas as pd\n",
        "from sklearn.metrics import classification_report\n",
        "from sklearn.metrics import confusion_matrix\n",
        "import seaborn as sn\n",
        "data=pd.read_csv(\"Keystroke.csv\")\n",
        "data = pd.DataFrame(data)\n",
        "subjects = data[\"subject\"].unique()\n"
      ],
      "execution_count": null,
      "outputs": []
    },
    {
      "cell_type": "markdown",
      "metadata": {
        "id": "xIIO7Er_jr7o"
      },
      "source": [
        "**Data Exploration**"
      ]
    },
    {
      "cell_type": "code",
      "metadata": {
        "colab": {
          "base_uri": "https://localhost:8080/"
        },
        "id": "JHT2sCGK6c8f",
        "outputId": "e30edc7e-a961-425f-cbbd-14664dc1a51a"
      },
      "source": [
        "data.info()"
      ],
      "execution_count": null,
      "outputs": [
        {
          "output_type": "stream",
          "name": "stdout",
          "text": [
            "<class 'pandas.core.frame.DataFrame'>\n",
            "RangeIndex: 20400 entries, 0 to 20399\n",
            "Data columns (total 34 columns):\n",
            " #   Column           Non-Null Count  Dtype  \n",
            "---  ------           --------------  -----  \n",
            " 0   subject          20400 non-null  object \n",
            " 1   sessionIndex     20400 non-null  int64  \n",
            " 2   rep              20400 non-null  int64  \n",
            " 3   H.period         20400 non-null  float64\n",
            " 4   DD.period.t      20400 non-null  float64\n",
            " 5   UD.period.t      20400 non-null  float64\n",
            " 6   H.t              20400 non-null  float64\n",
            " 7   DD.t.i           20400 non-null  float64\n",
            " 8   UD.t.i           20400 non-null  float64\n",
            " 9   H.i              20400 non-null  float64\n",
            " 10  DD.i.e           20400 non-null  float64\n",
            " 11  UD.i.e           20400 non-null  float64\n",
            " 12  H.e              20400 non-null  float64\n",
            " 13  DD.e.five        20400 non-null  float64\n",
            " 14  UD.e.five        20400 non-null  float64\n",
            " 15  H.five           20400 non-null  float64\n",
            " 16  DD.five.Shift.r  20400 non-null  float64\n",
            " 17  UD.five.Shift.r  20400 non-null  float64\n",
            " 18  H.Shift.r        20400 non-null  float64\n",
            " 19  DD.Shift.r.o     20400 non-null  float64\n",
            " 20  UD.Shift.r.o     20400 non-null  float64\n",
            " 21  H.o              20400 non-null  float64\n",
            " 22  DD.o.a           20400 non-null  float64\n",
            " 23  UD.o.a           20400 non-null  float64\n",
            " 24  H.a              20400 non-null  float64\n",
            " 25  DD.a.n           20400 non-null  float64\n",
            " 26  UD.a.n           20400 non-null  float64\n",
            " 27  H.n              20400 non-null  float64\n",
            " 28  DD.n.l           20400 non-null  float64\n",
            " 29  UD.n.l           20400 non-null  float64\n",
            " 30  H.l              20400 non-null  float64\n",
            " 31  DD.l.Return      20400 non-null  float64\n",
            " 32  UD.l.Return      20400 non-null  float64\n",
            " 33  H.Return         20400 non-null  float64\n",
            "dtypes: float64(31), int64(2), object(1)\n",
            "memory usage: 5.3+ MB\n"
          ]
        }
      ]
    },
    {
      "cell_type": "code",
      "metadata": {
        "colab": {
          "base_uri": "https://localhost:8080/",
          "height": 222
        },
        "id": "CkFZ--bPDJlI",
        "outputId": "089ee5d4-3fd5-4f57-dccf-b63fe07943e9"
      },
      "source": [
        "data.head()"
      ],
      "execution_count": null,
      "outputs": [
        {
          "output_type": "execute_result",
          "data": {
            "text/html": [
              "<div>\n",
              "<style scoped>\n",
              "    .dataframe tbody tr th:only-of-type {\n",
              "        vertical-align: middle;\n",
              "    }\n",
              "\n",
              "    .dataframe tbody tr th {\n",
              "        vertical-align: top;\n",
              "    }\n",
              "\n",
              "    .dataframe thead th {\n",
              "        text-align: right;\n",
              "    }\n",
              "</style>\n",
              "<table border=\"1\" class=\"dataframe\">\n",
              "  <thead>\n",
              "    <tr style=\"text-align: right;\">\n",
              "      <th></th>\n",
              "      <th>subject</th>\n",
              "      <th>sessionIndex</th>\n",
              "      <th>rep</th>\n",
              "      <th>H.period</th>\n",
              "      <th>DD.period.t</th>\n",
              "      <th>UD.period.t</th>\n",
              "      <th>H.t</th>\n",
              "      <th>DD.t.i</th>\n",
              "      <th>UD.t.i</th>\n",
              "      <th>H.i</th>\n",
              "      <th>DD.i.e</th>\n",
              "      <th>UD.i.e</th>\n",
              "      <th>H.e</th>\n",
              "      <th>DD.e.five</th>\n",
              "      <th>UD.e.five</th>\n",
              "      <th>H.five</th>\n",
              "      <th>DD.five.Shift.r</th>\n",
              "      <th>UD.five.Shift.r</th>\n",
              "      <th>H.Shift.r</th>\n",
              "      <th>DD.Shift.r.o</th>\n",
              "      <th>UD.Shift.r.o</th>\n",
              "      <th>H.o</th>\n",
              "      <th>DD.o.a</th>\n",
              "      <th>UD.o.a</th>\n",
              "      <th>H.a</th>\n",
              "      <th>DD.a.n</th>\n",
              "      <th>UD.a.n</th>\n",
              "      <th>H.n</th>\n",
              "      <th>DD.n.l</th>\n",
              "      <th>UD.n.l</th>\n",
              "      <th>H.l</th>\n",
              "      <th>DD.l.Return</th>\n",
              "      <th>UD.l.Return</th>\n",
              "      <th>H.Return</th>\n",
              "    </tr>\n",
              "  </thead>\n",
              "  <tbody>\n",
              "    <tr>\n",
              "      <th>0</th>\n",
              "      <td>s002</td>\n",
              "      <td>1</td>\n",
              "      <td>1</td>\n",
              "      <td>0.1491</td>\n",
              "      <td>0.3979</td>\n",
              "      <td>0.2488</td>\n",
              "      <td>0.1069</td>\n",
              "      <td>0.1674</td>\n",
              "      <td>0.0605</td>\n",
              "      <td>0.1169</td>\n",
              "      <td>0.2212</td>\n",
              "      <td>0.1043</td>\n",
              "      <td>0.1417</td>\n",
              "      <td>1.1885</td>\n",
              "      <td>1.0468</td>\n",
              "      <td>0.1146</td>\n",
              "      <td>1.6055</td>\n",
              "      <td>1.4909</td>\n",
              "      <td>0.1067</td>\n",
              "      <td>0.7590</td>\n",
              "      <td>0.6523</td>\n",
              "      <td>0.1016</td>\n",
              "      <td>0.2136</td>\n",
              "      <td>0.1120</td>\n",
              "      <td>0.1349</td>\n",
              "      <td>0.1484</td>\n",
              "      <td>0.0135</td>\n",
              "      <td>0.0932</td>\n",
              "      <td>0.3515</td>\n",
              "      <td>0.2583</td>\n",
              "      <td>0.1338</td>\n",
              "      <td>0.3509</td>\n",
              "      <td>0.2171</td>\n",
              "      <td>0.0742</td>\n",
              "    </tr>\n",
              "    <tr>\n",
              "      <th>1</th>\n",
              "      <td>s002</td>\n",
              "      <td>1</td>\n",
              "      <td>2</td>\n",
              "      <td>0.1111</td>\n",
              "      <td>0.3451</td>\n",
              "      <td>0.2340</td>\n",
              "      <td>0.0694</td>\n",
              "      <td>0.1283</td>\n",
              "      <td>0.0589</td>\n",
              "      <td>0.0908</td>\n",
              "      <td>0.1357</td>\n",
              "      <td>0.0449</td>\n",
              "      <td>0.0829</td>\n",
              "      <td>1.1970</td>\n",
              "      <td>1.1141</td>\n",
              "      <td>0.0689</td>\n",
              "      <td>0.7822</td>\n",
              "      <td>0.7133</td>\n",
              "      <td>0.1570</td>\n",
              "      <td>0.7877</td>\n",
              "      <td>0.6307</td>\n",
              "      <td>0.1066</td>\n",
              "      <td>0.1684</td>\n",
              "      <td>0.0618</td>\n",
              "      <td>0.1412</td>\n",
              "      <td>0.2558</td>\n",
              "      <td>0.1146</td>\n",
              "      <td>0.1146</td>\n",
              "      <td>0.2642</td>\n",
              "      <td>0.1496</td>\n",
              "      <td>0.0839</td>\n",
              "      <td>0.2756</td>\n",
              "      <td>0.1917</td>\n",
              "      <td>0.0747</td>\n",
              "    </tr>\n",
              "    <tr>\n",
              "      <th>2</th>\n",
              "      <td>s002</td>\n",
              "      <td>1</td>\n",
              "      <td>3</td>\n",
              "      <td>0.1328</td>\n",
              "      <td>0.2072</td>\n",
              "      <td>0.0744</td>\n",
              "      <td>0.0731</td>\n",
              "      <td>0.1291</td>\n",
              "      <td>0.0560</td>\n",
              "      <td>0.0821</td>\n",
              "      <td>0.1542</td>\n",
              "      <td>0.0721</td>\n",
              "      <td>0.0808</td>\n",
              "      <td>1.0408</td>\n",
              "      <td>0.9600</td>\n",
              "      <td>0.0892</td>\n",
              "      <td>0.6203</td>\n",
              "      <td>0.5311</td>\n",
              "      <td>0.1454</td>\n",
              "      <td>0.7195</td>\n",
              "      <td>0.5741</td>\n",
              "      <td>0.1365</td>\n",
              "      <td>0.2931</td>\n",
              "      <td>0.1566</td>\n",
              "      <td>0.1621</td>\n",
              "      <td>0.2332</td>\n",
              "      <td>0.0711</td>\n",
              "      <td>0.1172</td>\n",
              "      <td>0.2705</td>\n",
              "      <td>0.1533</td>\n",
              "      <td>0.1085</td>\n",
              "      <td>0.2847</td>\n",
              "      <td>0.1762</td>\n",
              "      <td>0.0945</td>\n",
              "    </tr>\n",
              "    <tr>\n",
              "      <th>3</th>\n",
              "      <td>s002</td>\n",
              "      <td>1</td>\n",
              "      <td>4</td>\n",
              "      <td>0.1291</td>\n",
              "      <td>0.2515</td>\n",
              "      <td>0.1224</td>\n",
              "      <td>0.1059</td>\n",
              "      <td>0.2495</td>\n",
              "      <td>0.1436</td>\n",
              "      <td>0.1040</td>\n",
              "      <td>0.2038</td>\n",
              "      <td>0.0998</td>\n",
              "      <td>0.0900</td>\n",
              "      <td>1.0556</td>\n",
              "      <td>0.9656</td>\n",
              "      <td>0.0913</td>\n",
              "      <td>1.2564</td>\n",
              "      <td>1.1651</td>\n",
              "      <td>0.1454</td>\n",
              "      <td>0.7550</td>\n",
              "      <td>0.6096</td>\n",
              "      <td>0.0956</td>\n",
              "      <td>0.1530</td>\n",
              "      <td>0.0574</td>\n",
              "      <td>0.1457</td>\n",
              "      <td>0.1629</td>\n",
              "      <td>0.0172</td>\n",
              "      <td>0.0866</td>\n",
              "      <td>0.2341</td>\n",
              "      <td>0.1475</td>\n",
              "      <td>0.0845</td>\n",
              "      <td>0.3232</td>\n",
              "      <td>0.2387</td>\n",
              "      <td>0.0813</td>\n",
              "    </tr>\n",
              "    <tr>\n",
              "      <th>4</th>\n",
              "      <td>s002</td>\n",
              "      <td>1</td>\n",
              "      <td>5</td>\n",
              "      <td>0.1249</td>\n",
              "      <td>0.2317</td>\n",
              "      <td>0.1068</td>\n",
              "      <td>0.0895</td>\n",
              "      <td>0.1676</td>\n",
              "      <td>0.0781</td>\n",
              "      <td>0.0903</td>\n",
              "      <td>0.1589</td>\n",
              "      <td>0.0686</td>\n",
              "      <td>0.0805</td>\n",
              "      <td>0.8629</td>\n",
              "      <td>0.7824</td>\n",
              "      <td>0.0742</td>\n",
              "      <td>0.8955</td>\n",
              "      <td>0.8213</td>\n",
              "      <td>0.1243</td>\n",
              "      <td>0.7632</td>\n",
              "      <td>0.6389</td>\n",
              "      <td>0.0430</td>\n",
              "      <td>0.1975</td>\n",
              "      <td>0.1545</td>\n",
              "      <td>0.1312</td>\n",
              "      <td>0.1582</td>\n",
              "      <td>0.0270</td>\n",
              "      <td>0.0884</td>\n",
              "      <td>0.2517</td>\n",
              "      <td>0.1633</td>\n",
              "      <td>0.0903</td>\n",
              "      <td>0.2517</td>\n",
              "      <td>0.1614</td>\n",
              "      <td>0.0818</td>\n",
              "    </tr>\n",
              "  </tbody>\n",
              "</table>\n",
              "</div>"
            ],
            "text/plain": [
              "  subject  sessionIndex  rep  ...  DD.l.Return  UD.l.Return  H.Return\n",
              "0    s002             1    1  ...       0.3509       0.2171    0.0742\n",
              "1    s002             1    2  ...       0.2756       0.1917    0.0747\n",
              "2    s002             1    3  ...       0.2847       0.1762    0.0945\n",
              "3    s002             1    4  ...       0.3232       0.2387    0.0813\n",
              "4    s002             1    5  ...       0.2517       0.1614    0.0818\n",
              "\n",
              "[5 rows x 34 columns]"
            ]
          },
          "metadata": {},
          "execution_count": 132
        }
      ]
    },
    {
      "cell_type": "code",
      "metadata": {
        "colab": {
          "base_uri": "https://localhost:8080/"
        },
        "id": "dDZPFFnrDLwD",
        "outputId": "419554a1-4ad7-43e0-c8ed-80589bedd190"
      },
      "source": [
        "data.shape"
      ],
      "execution_count": null,
      "outputs": [
        {
          "output_type": "execute_result",
          "data": {
            "text/plain": [
              "(20400, 34)"
            ]
          },
          "metadata": {},
          "execution_count": 133
        }
      ]
    },
    {
      "cell_type": "code",
      "metadata": {
        "colab": {
          "base_uri": "https://localhost:8080/"
        },
        "id": "YedOTmIwDT4T",
        "outputId": "0c95a857-4016-4934-f071-176a7df634cf"
      },
      "source": [
        "subjects"
      ],
      "execution_count": null,
      "outputs": [
        {
          "output_type": "execute_result",
          "data": {
            "text/plain": [
              "array(['s002', 's003', 's004', 's005', 's007', 's008', 's010', 's011',\n",
              "       's012', 's013', 's015', 's016', 's017', 's018', 's019', 's020',\n",
              "       's021', 's022', 's024', 's025', 's026', 's027', 's028', 's029',\n",
              "       's030', 's031', 's032', 's033', 's034', 's035', 's036', 's037',\n",
              "       's038', 's039', 's040', 's041', 's042', 's043', 's044', 's046',\n",
              "       's047', 's048', 's049', 's050', 's051', 's052', 's053', 's054',\n",
              "       's055', 's056', 's057'], dtype=object)"
            ]
          },
          "metadata": {},
          "execution_count": 134
        }
      ]
    },
    {
      "cell_type": "code",
      "metadata": {
        "colab": {
          "base_uri": "https://localhost:8080/"
        },
        "id": "ezkLSAWqDmBW",
        "outputId": "1746f6aa-a262-4a26-852e-76b3a0ebad89"
      },
      "source": [
        "len(subjects)  # 51 unique users "
      ],
      "execution_count": null,
      "outputs": [
        {
          "output_type": "execute_result",
          "data": {
            "text/plain": [
              "51"
            ]
          },
          "metadata": {},
          "execution_count": 135
        }
      ]
    },
    {
      "cell_type": "code",
      "metadata": {
        "id": "FTqUoCyOBIBR"
      },
      "source": [
        "from sklearn.metrics import roc_curve\n",
        "def evaluateEER(user_scores, imposter_scores):\n",
        "    block = []\n",
        "    labels = [0]*len(user_scores) + [1]*len(imposter_scores)\n",
        "    fpr, tpr, threshold = roc_curve(labels, user_scores + imposter_scores)\n",
        "    fnr = 1 - tpr\n",
        "    farates = fpr\n",
        "       \n",
        "    eer = fpr[np.nanargmin(np.absolute((fnr - fpr)))]\n",
        "    eer_threshold = threshold[np.nanargmin(np.absolute((fnr - fpr)))]\n",
        "\n",
        "    block.append(eer)\n",
        "    block.append(eer_threshold)\n",
        "    \n",
        "\n",
        "    return block"
      ],
      "execution_count": null,
      "outputs": []
    },
    {
      "cell_type": "markdown",
      "metadata": {
        "id": "9VZkEGAvkLKN"
      },
      "source": [
        "**Unfiltered Manhattan Detector**"
      ]
    },
    {
      "cell_type": "code",
      "metadata": {
        "colab": {
          "base_uri": "https://localhost:8080/"
        },
        "id": "S-tb2skDDjZ-",
        "outputId": "b3761339-8fd3-439b-eaae-ce953817a4b5"
      },
      "source": [
        "from scipy.spatial.distance import cityblock\n",
        "import numpy as np\n",
        "np.set_printoptions(suppress = True)\n",
        "import pandas\n",
        "import math\n",
        "class UnfilteredManhattanDetector:\n",
        "  \n",
        "    def __init__(self, subjects):\n",
        "        self.user_scores = []\n",
        "        self.imposter_scores = []\n",
        "        self.mean_vector = []\n",
        "        self.subjects = subjects\n",
        "  \n",
        "    def training(self):\n",
        "        self.mean_vector = self.train.mean().values\n",
        "        \n",
        "        \n",
        "    def testing(self):\n",
        "        #   Calculates city block distance bw 2 arrays\n",
        "        \n",
        "        for i in range(self.test_genuine.shape[0]):\n",
        "            cur_score = cityblock(self.test_genuine.iloc[i].values, \\\n",
        "                                   self.mean_vector)\n",
        "            self.user_scores.append(cur_score)\n",
        "  \n",
        "        for i in range(self.test_imposter.shape[0]):\n",
        "            cur_score = cityblock(self.test_imposter.iloc[i].values, \\\n",
        "                                   self.mean_vector)\n",
        "            self.imposter_scores.append(cur_score)\n",
        "  \n",
        "    def evaluate(self):\n",
        "        system_data = []\n",
        "        eers = []\n",
        "        thresholds = []\n",
        "        for subject in subjects:        \n",
        "            genuine_user_data = data.loc[data.subject == subject, \\\n",
        "                                         \"H.period\":\"H.Return\"]\n",
        "            imposter_data = data.loc[data.subject != subject, :]\n",
        "             \n",
        "            # Splitting data into train test set (80-20 split, starting from first row)\n",
        "            '''\n",
        "            self.train = genuine_user_data[:320]\n",
        "            self.test_genuine = genuine_user_data[320:]\n",
        "            '''\n",
        "\n",
        "            # Splitting data into train test split (80-20 split, random)\n",
        "            \n",
        "            self.train=genuine_user_data.sample(frac=0.8, random_state=0) #random state is a seed value\n",
        "            self.test_genuine=genuine_user_data.drop(self.train.index)\n",
        "            \n",
        "\n",
        "            self.test_imposter = imposter_data.groupby(\"subject\"). \\\n",
        "                                 head(5).loc[:, \"H.period\":\"H.Return\"]\n",
        "         \n",
        "            self.training()  \n",
        "            self.testing()\n",
        "            system_data.append(evaluateEER(self.user_scores,self.imposter_scores))\n",
        "          \n",
        "        \n",
        "        for i in range(len(system_data)):\n",
        "          if i%2 == 1:\n",
        "            eers.append(system_data[i][0])\n",
        "          else:\n",
        "            thresholds.append(system_data[i][1])\n",
        "        \n",
        "        eer = np.mean(eers)\n",
        "        threshold = np.mean(thresholds)\n",
        "        print (\"EER for UnfilteredManhattanDetector :\",eer)\n",
        "        print (\"Threshold for UnfilteredManhattanDetector :\",threshold)\n",
        "\n",
        "        \n",
        " \n",
        "\n",
        "UnfilteredManhattanDetector(subjects).evaluate()"
      ],
      "execution_count": null,
      "outputs": [
        {
          "output_type": "stream",
          "name": "stdout",
          "text": [
            "EER for UnfilteredManhattanDetector : 0.14327413051026502\n",
            "Threshold for UnfilteredManhattanDetector : 2.0144775360576928\n"
          ]
        }
      ]
    },
    {
      "cell_type": "markdown",
      "metadata": {
        "id": "nePSOdx5GlON"
      },
      "source": [
        "**Unfiltered Euclidean**"
      ]
    },
    {
      "cell_type": "code",
      "metadata": {
        "colab": {
          "base_uri": "https://localhost:8080/"
        },
        "id": "0OmPeBpMGj9x",
        "outputId": "31cd9ea1-803c-48b7-b4d0-c8ba8b773f8a"
      },
      "source": [
        "from scipy.spatial.distance import cityblock\n",
        "from scipy.spatial.distance import euclidean\n",
        "import numpy as np\n",
        "np.set_printoptions(suppress = True)\n",
        "import pandas\n",
        "import math\n",
        "class UnfilteredEuclideanDetector:\n",
        "  \n",
        "    def __init__(self, subjects):\n",
        "        self.user_scores = []\n",
        "        self.imposter_scores = []\n",
        "        self.mean_vector = []\n",
        "        self.subjects = subjects\n",
        "  \n",
        "    def training(self):\n",
        "        self.mean_vector = self.train.mean().values\n",
        "        \n",
        "        \n",
        "    def testing(self):\n",
        "        #   Calculates city block distance bw 2 arrays\n",
        "        \n",
        "        for i in range(self.test_genuine.shape[0]):\n",
        "            cur_score = euclidean(self.test_genuine.iloc[i].values, \\\n",
        "                                   self.mean_vector)\n",
        "            self.user_scores.append(cur_score)\n",
        "  \n",
        "        for i in range(self.test_imposter.shape[0]):\n",
        "            cur_score = euclidean(self.test_imposter.iloc[i].values, \\\n",
        "                                   self.mean_vector)\n",
        "            self.imposter_scores.append(cur_score)\n",
        "  \n",
        "    def evaluate(self):\n",
        "        system_data = []\n",
        "        eers = []\n",
        "        thresholds = []\n",
        "        for subject in subjects:        \n",
        "            genuine_user_data = data.loc[data.subject == subject, \\\n",
        "                                         \"H.period\":\"H.Return\"]\n",
        "            imposter_data = data.loc[data.subject != subject, :]\n",
        "             \n",
        "            # Splitting data into train test set\n",
        "            '''\n",
        "            self.train = genuine_user_data[:320]\n",
        "            self.test_genuine = genuine_user_data[320:]\n",
        "            '''\n",
        "\n",
        "            # Splitting data into train test split (80-20 split, random)\n",
        "            \n",
        "            self.train=genuine_user_data.sample(frac=0.8, random_state=0) #random state is a seed value\n",
        "            self.test_genuine=genuine_user_data.drop(self.train.index)\n",
        "            \n",
        "\n",
        "            self.test_imposter = imposter_data.groupby(\"subject\"). \\\n",
        "                                 head(5).loc[:, \"H.period\":\"H.Return\"]\n",
        "         \n",
        "            self.training()  \n",
        "            self.testing()\n",
        "            system_data.append(evaluateEER(self.user_scores,self.imposter_scores))\n",
        "          \n",
        "        \n",
        "        for i in range(len(system_data)):\n",
        "          if i%2 == 1:\n",
        "            eers.append(system_data[i][0])\n",
        "          else:\n",
        "            thresholds.append(system_data[i][1])\n",
        "        \n",
        "        eer = np.mean(eers)\n",
        "        threshold = np.mean(thresholds)\n",
        "        print (\"EER for UnfilteredEuclideanDetector :\",eer)\n",
        "        print (\"Threshold for Unfiltered Euclidean Detector :\",threshold)\n",
        "\n",
        "        \n",
        " \n",
        "\n",
        "UnfilteredEuclideanDetector(subjects).evaluate()"
      ],
      "execution_count": null,
      "outputs": [
        {
          "output_type": "stream",
          "name": "stdout",
          "text": [
            "EER for UnfilteredEuclideanDetector : 0.17715755246712575\n",
            "Threshold for Unfiltered Euclidean Detector : 0.586452384678851\n"
          ]
        }
      ]
    },
    {
      "cell_type": "markdown",
      "metadata": {
        "id": "GakzrxIMNoV1"
      },
      "source": [
        "**Filtered Manhattan**"
      ]
    },
    {
      "cell_type": "code",
      "metadata": {
        "colab": {
          "base_uri": "https://localhost:8080/"
        },
        "id": "eYI6NE_eNjGJ",
        "outputId": "199e9646-d3be-4f83-c1b4-1d9346f4755d"
      },
      "source": [
        "from scipy.spatial.distance import cityblock\n",
        "import numpy as np\n",
        "np.set_printoptions(suppress = True)\n",
        "import pandas\n",
        "import math\n",
        "class FilteredManhattanDetector:\n",
        "  \n",
        "    def __init__(self, subjects):\n",
        "        self.user_scores = []\n",
        "        self.imposter_scores = []\n",
        "        self.mean_vector = []\n",
        "        self.subjects = subjects\n",
        "  \n",
        "    def training(self):\n",
        "        self.mean_vector = self.train.mean().values\n",
        "        self.std_vector = self.train.std().values\n",
        "        dropping_indices = []\n",
        "        \n",
        "        for i in range(self.train.shape[0]):\n",
        "            cur_score = euclidean(self.train.iloc[i].values, \n",
        "                                   self.mean_vector)\n",
        "            \n",
        "            if (cur_score > 3*self.std_vector).all() == True:\n",
        "                dropping_indices.append(i)\n",
        "        \n",
        "        \n",
        "        \n",
        "        self.train = self.train.drop(self.train.index[dropping_indices])\n",
        "        \n",
        "\n",
        "        self.mean_vector = self.train.mean().values\n",
        "        \n",
        "        \n",
        "    def testing(self):\n",
        "        #   Calculates city block distance bw 2 arrays\n",
        "        \n",
        "        for i in range(self.test_genuine.shape[0]):\n",
        "            cur_score = cityblock(self.test_genuine.iloc[i].values, \\\n",
        "                                   self.mean_vector)\n",
        "            self.user_scores.append(cur_score)\n",
        "  \n",
        "        for i in range(self.test_imposter.shape[0]):\n",
        "            cur_score = cityblock(self.test_imposter.iloc[i].values, \\\n",
        "                                   self.mean_vector)\n",
        "            self.imposter_scores.append(cur_score)\n",
        "  \n",
        "    def evaluate(self):\n",
        "        system_data = []\n",
        "        eers = []\n",
        "        thresholds = []\n",
        "        for subject in subjects:        \n",
        "            genuine_user_data = data.loc[data.subject == subject, \\\n",
        "                                         \"H.period\":\"H.Return\"]\n",
        "            imposter_data = data.loc[data.subject != subject, :]\n",
        "             \n",
        "            # Splitting data into train test set\n",
        "            self.train = genuine_user_data[:320]\n",
        "            self.test_genuine = genuine_user_data[320:]\n",
        "            self.test_imposter = imposter_data.groupby(\"subject\"). \\\n",
        "                                 head(5).loc[:, \"H.period\":\"H.Return\"]\n",
        "         \n",
        "            self.training()  \n",
        "            self.testing()\n",
        "            system_data.append(evaluateEER(self.user_scores,self.imposter_scores))\n",
        "          \n",
        "        \n",
        "        for i in range(len(system_data)):\n",
        "          if i%2 == 1:\n",
        "            eers.append(system_data[i][0])\n",
        "          else:\n",
        "            thresholds.append(system_data[i][1])\n",
        "        \n",
        "        eer = np.mean(eers)\n",
        "        threshold = np.mean(thresholds)\n",
        "        print (\"EER for FilteredManhattanDetector :\",eer)\n",
        "        print (\"Threshold for FilteredManhattanDetector :\",threshold)\n",
        "\n",
        "        \n",
        " \n",
        "\n",
        "FilteredManhattanDetector(subjects).evaluate()"
      ],
      "execution_count": null,
      "outputs": [
        {
          "output_type": "stream",
          "name": "stdout",
          "text": [
            "EER for FilteredManhattanDetector : 0.13296795258306177\n",
            "Threshold for FilteredManhattanDetector : 2.0117471167703433\n"
          ]
        }
      ]
    },
    {
      "cell_type": "markdown",
      "metadata": {
        "id": "Du80DgITZjsQ"
      },
      "source": [
        "**Filtered Euclidean**"
      ]
    },
    {
      "cell_type": "code",
      "metadata": {
        "colab": {
          "base_uri": "https://localhost:8080/"
        },
        "id": "EBz_TOPHZpTR",
        "outputId": "cded042d-d099-4b67-ca5d-10bb47ac9501"
      },
      "source": [
        "from scipy.spatial.distance import cityblock\n",
        "import numpy as np\n",
        "np.set_printoptions(suppress = True)\n",
        "import pandas\n",
        "import math\n",
        "class FilteredEuclideanDetector:\n",
        "  \n",
        "    def __init__(self, subjects):\n",
        "        self.user_scores = []\n",
        "        self.imposter_scores = []\n",
        "        self.mean_vector = []\n",
        "        self.subjects = subjects\n",
        "  \n",
        "    def training(self):\n",
        "        self.mean_vector = self.train.mean().values\n",
        "        self.std_vector = self.train.std().values\n",
        "        dropping_indices = []\n",
        "        \n",
        "        for i in range(self.train.shape[0]):\n",
        "            cur_score = euclidean(self.train.iloc[i].values, \n",
        "                                   self.mean_vector)\n",
        "            \n",
        "            if (cur_score > 3*self.std_vector).all() == True:\n",
        "                dropping_indices.append(i)\n",
        "        \n",
        "        self.train = self.train.drop(self.train.index[dropping_indices])\n",
        "       \n",
        "\n",
        "        self.mean_vector = self.train.mean().values\n",
        "        \n",
        "        \n",
        "    def testing(self):\n",
        "        #   Calculates city block distance bw 2 arrays\n",
        "        \n",
        "        for i in range(self.test_genuine.shape[0]):\n",
        "            cur_score = euclidean(self.test_genuine.iloc[i].values, \\\n",
        "                                   self.mean_vector)\n",
        "            self.user_scores.append(cur_score)\n",
        "  \n",
        "        for i in range(self.test_imposter.shape[0]):\n",
        "            cur_score = euclidean(self.test_imposter.iloc[i].values, \\\n",
        "                                   self.mean_vector)\n",
        "            self.imposter_scores.append(cur_score)\n",
        "  \n",
        "    def evaluate(self):\n",
        "        system_data = []\n",
        "        eers = []\n",
        "        thresholds = []\n",
        "        for subject in subjects:        \n",
        "            genuine_user_data = data.loc[data.subject == subject, \\\n",
        "                                         \"H.period\":\"H.Return\"]\n",
        "            imposter_data = data.loc[data.subject != subject, :]\n",
        "             \n",
        "            # Splitting data into train test set\n",
        "            self.train = genuine_user_data[:320]\n",
        "            self.test_genuine = genuine_user_data[320:]\n",
        "            self.test_imposter = imposter_data.groupby(\"subject\"). \\\n",
        "                                 head(5).loc[:, \"H.period\":\"H.Return\"]\n",
        "         \n",
        "            self.training()  \n",
        "            self.testing()\n",
        "            system_data.append(evaluateEER(self.user_scores,self.imposter_scores))\n",
        "          \n",
        "        \n",
        "        for i in range(len(system_data)):\n",
        "          if i%2 == 1:\n",
        "            eers.append(system_data[i][0])\n",
        "          else:\n",
        "            thresholds.append(system_data[i][1])\n",
        "        \n",
        "        eer = np.mean(eers)\n",
        "        threshold = np.mean(thresholds)\n",
        "        print (\"EER for Filtered Euclidean Detector :\",eer)\n",
        "        print (\"Threshold for Filtered Euclidean Detector :\",threshold)\n",
        "\n",
        "        \n",
        " \n",
        "\n",
        "FilteredEuclideanDetector(subjects).evaluate()"
      ],
      "execution_count": null,
      "outputs": [
        {
          "output_type": "stream",
          "name": "stdout",
          "text": [
            "EER for Filtered Euclidean Detector : 0.15234824879733194\n",
            "Threshold for Filtered Euclidean Detector : 0.5685791431215116\n"
          ]
        }
      ]
    },
    {
      "cell_type": "markdown",
      "metadata": {
        "id": "J9Owx--WpOow"
      },
      "source": [
        "**Classifier Visualization**\n"
      ]
    },
    {
      "cell_type": "code",
      "metadata": {
        "id": "g0FMm_KfgPhL",
        "colab": {
          "base_uri": "https://localhost:8080/"
        },
        "outputId": "43dc89eb-6658-433a-9eb4-d2d428a90c69"
      },
      "source": [
        "class FilteredManhattanDetector:\n",
        "  \n",
        "    def __init__(self, subjects):\n",
        "        self.threshold = 2.0117471167703433\n",
        "        self.user_scores = []\n",
        "        self.imposter_scores = []\n",
        "        self.mean_vector = []\n",
        "        self.subjects = subjects\n",
        "        self.predicted = []\n",
        "  \n",
        "    def training(self):\n",
        "        \n",
        "        self.mean_vector = self.train.mean().values\n",
        "        self.std_vector = self.train.std().values\n",
        "        dropping_indices = []\n",
        "        \n",
        "        for i in range(self.train.shape[0]):\n",
        "            cur_score = euclidean(self.train.iloc[i].values, \n",
        "                                   self.mean_vector)\n",
        "            \n",
        "            if (cur_score > 3*self.std_vector).all() == True:\n",
        "                dropping_indices.append(i)\n",
        "        print(\"No. of dropped indices:\",len(dropping_indices))\n",
        "        self.train = self.train.drop(self.train.index[dropping_indices])\n",
        "        self.mean_vector = self.train.mean().values\n",
        "        \n",
        "        \n",
        "    def testing(self):\n",
        "        #   Calculates city block distance bw 2 arrays\n",
        "        \n",
        "        for i in range(self.test_genuine.shape[0]):\n",
        "            cur_score = cityblock(self.test_genuine.iloc[i].values, \\\n",
        "                                   self.mean_vector)\n",
        "           \n",
        "            if cur_score < self.threshold:\n",
        "               self.predicted.append('Verified')\n",
        "            else:\n",
        "              self.predicted.append('Intruder')\n",
        "        \n",
        "           \n",
        "        for i in range(self.test_imposter.shape[0]):\n",
        "            cur_score = cityblock(self.test_imposter.iloc[i].values, \\\n",
        "                                   self.mean_vector)\n",
        "            self.imposter_scores.append(cur_score)\n",
        "\n",
        "            if cur_score < self.threshold:\n",
        "               self.predicted.append('Verified')\n",
        "            else:\n",
        "              self.predicted.append('Intruder')\n",
        "\n",
        "        return(self.predicted)\n",
        "    def evaluate(self):\n",
        "\n",
        "            genuine_user_data = data.loc[data.subject == 's002',\"H.period\":\"H.Return\"]\n",
        "            imposter_data = data.loc[data.subject != 's002', :]\n",
        "             \n",
        "            # Splitting data into train test set\n",
        "            '''\n",
        "            self.train = genuine_user_data[:320]\n",
        "            self.test_genuine = genuine_user_data[320:]\n",
        "            '''\n",
        "\n",
        "            # Splitting data into train test split (80-20 split, random)\n",
        "            \n",
        "            self.train=genuine_user_data.sample(frac=0.8, random_state=0) #random state is a seed value\n",
        "            self.test_genuine=genuine_user_data.drop(self.train.index)\n",
        "\n",
        "            self.test_imposter = imposter_data.groupby(\"subject\"). \\\n",
        "                                 head(5).loc[:, \"H.period\":\"H.Return\"]\n",
        "            \n",
        "         \n",
        "            self.training()  \n",
        "            self.testing()\n",
        "            #predicted=numpy.asarray(self.predicted)\n",
        "            return(self.predicted)\n",
        "          \n",
        "        \n",
        "      \n",
        "  \n",
        "        \n",
        "\n",
        "predicted=FilteredManhattanDetector(subjects).evaluate()\n",
        "print(len(predicted))\n"
      ],
      "execution_count": null,
      "outputs": [
        {
          "output_type": "stream",
          "name": "stdout",
          "text": [
            "No. of dropped indices: 42\n",
            "330\n"
          ]
        }
      ]
    },
    {
      "cell_type": "code",
      "metadata": {
        "id": "UnjGBuQJD6cE"
      },
      "source": [
        "actual = []\n",
        "for i in range(0,330):\n",
        "  if i <80:\n",
        "    actual.append('Verified')\n",
        "  else:\n",
        "    actual.append('Intruder')"
      ],
      "execution_count": null,
      "outputs": []
    },
    {
      "cell_type": "code",
      "metadata": {
        "id": "vNH86HpfHAMW"
      },
      "source": [
        "data = {'Actual':actual,'Predicted':predicted}\n",
        "df = pd.DataFrame(data)"
      ],
      "execution_count": null,
      "outputs": []
    },
    {
      "cell_type": "code",
      "metadata": {
        "colab": {
          "base_uri": "https://localhost:8080/",
          "height": 414
        },
        "id": "dcxAY_5Pm-j6",
        "outputId": "9133e3ac-1474-447a-9d50-b0a2d7acb402"
      },
      "source": [
        "df"
      ],
      "execution_count": null,
      "outputs": [
        {
          "output_type": "execute_result",
          "data": {
            "text/html": [
              "<div>\n",
              "<style scoped>\n",
              "    .dataframe tbody tr th:only-of-type {\n",
              "        vertical-align: middle;\n",
              "    }\n",
              "\n",
              "    .dataframe tbody tr th {\n",
              "        vertical-align: top;\n",
              "    }\n",
              "\n",
              "    .dataframe thead th {\n",
              "        text-align: right;\n",
              "    }\n",
              "</style>\n",
              "<table border=\"1\" class=\"dataframe\">\n",
              "  <thead>\n",
              "    <tr style=\"text-align: right;\">\n",
              "      <th></th>\n",
              "      <th>Actual</th>\n",
              "      <th>Predicted</th>\n",
              "    </tr>\n",
              "  </thead>\n",
              "  <tbody>\n",
              "    <tr>\n",
              "      <th>0</th>\n",
              "      <td>Verified</td>\n",
              "      <td>Intruder</td>\n",
              "    </tr>\n",
              "    <tr>\n",
              "      <th>1</th>\n",
              "      <td>Verified</td>\n",
              "      <td>Intruder</td>\n",
              "    </tr>\n",
              "    <tr>\n",
              "      <th>2</th>\n",
              "      <td>Verified</td>\n",
              "      <td>Intruder</td>\n",
              "    </tr>\n",
              "    <tr>\n",
              "      <th>3</th>\n",
              "      <td>Verified</td>\n",
              "      <td>Intruder</td>\n",
              "    </tr>\n",
              "    <tr>\n",
              "      <th>4</th>\n",
              "      <td>Verified</td>\n",
              "      <td>Verified</td>\n",
              "    </tr>\n",
              "    <tr>\n",
              "      <th>...</th>\n",
              "      <td>...</td>\n",
              "      <td>...</td>\n",
              "    </tr>\n",
              "    <tr>\n",
              "      <th>325</th>\n",
              "      <td>Intruder</td>\n",
              "      <td>Intruder</td>\n",
              "    </tr>\n",
              "    <tr>\n",
              "      <th>326</th>\n",
              "      <td>Intruder</td>\n",
              "      <td>Verified</td>\n",
              "    </tr>\n",
              "    <tr>\n",
              "      <th>327</th>\n",
              "      <td>Intruder</td>\n",
              "      <td>Verified</td>\n",
              "    </tr>\n",
              "    <tr>\n",
              "      <th>328</th>\n",
              "      <td>Intruder</td>\n",
              "      <td>Verified</td>\n",
              "    </tr>\n",
              "    <tr>\n",
              "      <th>329</th>\n",
              "      <td>Intruder</td>\n",
              "      <td>Verified</td>\n",
              "    </tr>\n",
              "  </tbody>\n",
              "</table>\n",
              "<p>330 rows × 2 columns</p>\n",
              "</div>"
            ],
            "text/plain": [
              "       Actual Predicted\n",
              "0    Verified  Intruder\n",
              "1    Verified  Intruder\n",
              "2    Verified  Intruder\n",
              "3    Verified  Intruder\n",
              "4    Verified  Verified\n",
              "..        ...       ...\n",
              "325  Intruder  Intruder\n",
              "326  Intruder  Verified\n",
              "327  Intruder  Verified\n",
              "328  Intruder  Verified\n",
              "329  Intruder  Verified\n",
              "\n",
              "[330 rows x 2 columns]"
            ]
          },
          "metadata": {},
          "execution_count": 144
        }
      ]
    },
    {
      "cell_type": "code",
      "metadata": {
        "colab": {
          "base_uri": "https://localhost:8080/"
        },
        "id": "pf8-7PKFEzFf",
        "outputId": "0a2cacb4-0986-4e55-b7f2-ed2a9b16375a"
      },
      "source": [
        "print(classification_report(df['Actual'],df['Predicted']))"
      ],
      "execution_count": null,
      "outputs": [
        {
          "output_type": "stream",
          "name": "stdout",
          "text": [
            "              precision    recall  f1-score   support\n",
            "\n",
            "    Intruder       0.96      0.78      0.86       250\n",
            "    Verified       0.57      0.90      0.70        80\n",
            "\n",
            "    accuracy                           0.81       330\n",
            "   macro avg       0.76      0.84      0.78       330\n",
            "weighted avg       0.87      0.81      0.82       330\n",
            "\n"
          ]
        }
      ]
    },
    {
      "cell_type": "code",
      "metadata": {
        "id": "zVYfj84CBpoa"
      },
      "source": [
        "confusion_matrix=confusion_matrix(df['Actual'],df['Predicted'])\n"
      ],
      "execution_count": null,
      "outputs": []
    },
    {
      "cell_type": "code",
      "metadata": {
        "colab": {
          "base_uri": "https://localhost:8080/"
        },
        "id": "Z77MSo_QJky1",
        "outputId": "e54fe981-b484-40eb-f363-7af577682d51"
      },
      "source": [
        "confusion_matrix"
      ],
      "execution_count": null,
      "outputs": [
        {
          "output_type": "execute_result",
          "data": {
            "text/plain": [
              "array([[195,  55],\n",
              "       [  8,  72]])"
            ]
          },
          "metadata": {},
          "execution_count": 147
        }
      ]
    },
    {
      "cell_type": "code",
      "metadata": {
        "id": "THhsEWS9XpA8"
      },
      "source": [
        "confusion_matrix1 = pd.crosstab(df['Actual'],df['Predicted'],rownames=['Actual'],colnames=['Predicted'])"
      ],
      "execution_count": null,
      "outputs": []
    },
    {
      "cell_type": "code",
      "metadata": {
        "colab": {
          "base_uri": "https://localhost:8080/",
          "height": 295
        },
        "id": "7nIaw6TZIuTX",
        "outputId": "e3b05972-a00a-4057-b3c3-fb05c1fb3013"
      },
      "source": [
        "\n",
        "sn.heatmap(confusion_matrix1, annot=True)"
      ],
      "execution_count": null,
      "outputs": [
        {
          "output_type": "execute_result",
          "data": {
            "text/plain": [
              "<matplotlib.axes._subplots.AxesSubplot at 0x7f644fac1e90>"
            ]
          },
          "metadata": {},
          "execution_count": 149
        },
        {
          "output_type": "display_data",
          "data": {
            "image/png": "[encoded data removed]",
            "text/plain": [
              "<Figure size 432x288 with 2 Axes>"
            ]
          },
          "metadata": {
            "needs_background": "light"
          }
        }
      ]
    },
    {
      "cell_type": "markdown",
      "metadata": {
        "id": "v_S9yuNwo7lM"
      },
      "source": [
        "<h1>Conclusion<h1>\n",
        "\n",
        "1.   Keystroke biometrics is a reliable method to build a security system.\n",
        "2.   Least EER of 0.13 is provided by the Filtered Manhattan Detector.Its corresponding threshold is used to build a classifier.\n",
        "3.   F1-Score is 86 and accuracy is 81% \n",
        "4.   These scores can be improved by  reducing the class imbalance.\n",
        "\n",
        "\n",
        "\n",
        "\n",
        "\n"
      ]
    },
    {
      "cell_type": "markdown",
      "metadata": {
        "id": "AJa1pJlWuHe0"
      },
      "source": [
        "![Screenshot 2021-10-31 at 7.50.00 PM.png](data:image/png;base64,iVBORw0KGgoAAAANSUhEUgAAAiIAAAD9CAYAAACBQxz5AAAYfGlDQ1BJQ0MgUHJvZmlsZQAAWIWVeQc8le3//3WffY59jr33Jnvvvfcm4VjHimOGEkkZJRKiVJJZqRQqEWkoZfSQJJGMSqGiMvK7jXqe7/P9v/6/1+96va77ep/P9bk+61r359wAcI34RkaGIRgBCI+IoTqYGvC7uXvwYycBASAADZAD8r7k6Eh9OzsrAJff7X+WpUEAbbTPZTZk/Xf//7cQ/QOiyQBAXjD2848mh8P4LgCoU+RIagwAmA26UHxM5AbeD2NmKmwgjAs2cNAWrt7Aflu4ZZPHycEQxr0A4Gh9falBANCPwHT+OHIQLId+Fe4jRvhTIgBggT3H6JCDff0B4LKDeaTDw3dv4GQYi8P8kTCugLGa3z9kBv2HfL8/8n19g/7gLb82C86IEh0Z5rvn/xia/72Eh8X+1iEKV9pgqpnDhv9wDIdCd1tuYFoYz0b42dhuxBrGPyj+W3EHAEEIjjVz3uJHcJOjDeH4AVYYy/n7GlnCmBvGJhFhNlbbdL9Aiok5jOGYIRIoMeZOMGaH8eGAaGPHbZ6z1N0O27oQjYFUQ/1t+iNf6qbeDV2jsaHO+tvyvwQHmG/LR9InBju5wpgAY+E4iosNjOlhLBsd6mi5zaOVGGxo85uHGuuwYb8wjB0CIkwNtuQj4wKpJg7b/Fnh0b/9RZ4NppjbbONrMcFOZlvxQXaSfTfth31B9gZE6Dv/lhMQ7Wb12xf/ACPjLd+RMwERzo7bcn5Exhg4bI1FESLD7Lb5UYIBYaYbdEEYK0XHOW6PRbnEwItzSz4qMDLGzmnLTlRiiK+F3ZY9qGPAChgCI8APYuHqB3aDEEB5Nts0C//a6jEBvoAKgkAAkNmm/B7hutkTAT8dQSL4BKMAEP1nnMFmbwCIg+lrf6hbTxkQuNkbtzkiFEzBOBxYgjD4d+zmqIg/2lzAO5hC+S/tvnAlw/aGwXWj//9N/039m6IPU6y2KbG/NfIz/ObEGGOMMGYYE4wEihOlg9JEWcFPPbgqoNRQ6r/9+JsfPYXuQ79FD6DH0C93UdKo/7LSGozB8k22Y+H3z1igRGGZyigDlDYsHZaMYkVxAhmUEqxHH6ULa1aGqYbbdm9Ehf9fsv/Dg3/MxjYfXg6PwLPh9fDi/x5JL0mv/EfKRqz/GZ8tW/3+xNvwT8+/9Rv+I/r+cGv5b07kYWQD8iGyHdmFbEE2AX5kG7IZ2Y28s4H/rK53m6vrtzaHTXtCYTmU/9Lnu61zI5LRcnVy7+VWt/piAhJiNjae4e7IPVRKUHAMvz58OwTwm0eQZaX5FeQU5AHYuGu2jq+vDpt3CMTa8zeNfBAA1XkA8Mt/08K/AnAF3vv81n/TRLzh7YcBoHqKHEuN26KhNh5o+JRggHcaB+AFQkAc9kcBqABNoAeMgQWwBU7AHXjDUQ6G1zkVxINkkAoyQDY4Bk6AEnAGnAfV4BK4BppAC2gHD8AT0AsGwCt49UyCj2AeLIEVCIKwEB1EgjggPkgEkoIUIDVIBzKGrCAHyB3ygYKgCCgWSoYOQNlQPlQCnYNqoKvQTagd6oL6oJfQOPQe+gItI5AIWgQzggchitiBUEPoIywRToidiCBEFCIRkY44iihGlCMuIhoR7YgniAHEGOIjYhEJkDRIVqQAUgaphjRE2iI9kIFIKnIfMgtZiCxHXkbeguf5OXIMOYv8icKgSCh+lAy8gs1QzigyKgq1D5WDKkFVoxpRnajnqHHUPOoXmg7NjZZCa6DN0W7oIHQ8OgNdiK5E30Dfh/fSJHoJg8GwYsQwqvBedMeEYJIwOZjTmHrMXUwfZgKziMViObBSWG2sLdYXG4PNwJ7EXsS2Yfuxk9gfOBocH04BZ4LzwEXg0nCFuFpcK64fN41bwTPiRfAaeFu8P34PPhdfgb+F78FP4lcITAQxgjbBiRBCSCUUEy4T7hNGCF9paGgEadRp7GkoNPtpimmu0DyiGaf5SUuklaQ1pPWijaU9SltFe5f2Je1XOjo6UTo9Og+6GLqjdDV09+hG6X7Qk+hl6c3p/elT6EvpG+n76T8z4BlEGPQZvBkSGQoZGhh6GGYZ8YyijIaMvoz7GEsZbzK+YFxkIjHJM9kyhTPlMNUydTHNELFEUaIx0Z+YTjxPvEecICFJQiRDEpl0gFRBuk+aZMYwizGbM4cwZzNfYn7GPM9CZFFicWFJYCllucMyxopkFWU1Zw1jzWW9xjrIuszGw6bPFsCWyXaZrZ/tOzsXux57AHsWez37APsyBz+HMUcoRx5HE8drThSnJKc9ZzxnGed9zlkuZi5NLjJXFtc1rmFuBLcktwN3Evd57m7uRR5eHlOeSJ6TPPd4ZnlZefV4Q3gLeFt53/OR+HT4KHwFfG18H/hZ+PX5w/iL+Tv55wW4BcwEYgXOCTwTWBEUE3QWTBOsF3wtRBBSEwoUKhDqEJoX5hO2Fk4WrhMeFsGLqIkEixSJPBT5Liom6ip6SLRJdEaMXcxcLFGsTmxEnE5cVzxKvFz8LwmMhJpEqMRpiV5JhKSyZLBkqWSPFEJKRYoidVqqTxotrS4dIV0u/UKGVkZfJk6mTmZcllXWSjZNtkn28w7hHR478nY83PFLTlkuTK5C7pU8Ud5CPk3+lvwXBUkFskKpwl+KdIomiimKzYoLSlJKAUplSkPKJGVr5UPKHcprKqoqVJXLKu9VhVV9VE+pvlBjVrNTy1F7pI5WN1BPUW9R/6mhohGjcU1jTlNGM1SzVnNGS0wrQKtCa0JbUNtX+5z2mA6/jo/OWZ0xXQFdX91y3bd6Qnr+epV60/oS+iH6F/U/G8gZUA1uGHw31DDca3jXCGlkapRl9MyYaOxsXGI8aiJoEmRSZzJvqmyaZHrXDG1maZZn9sKcx5xsXmM+b6Fqsdei05LW0tGyxPKtlaQV1eqWNcLawvq49YiNiE2ETZMtsDW3PW772k7MLsrutj3G3s6+1H7KQd4h2eGhI8lxl2Ot45KTgVOu0ytncedY5w4XBhcvlxqX765GrvmuY2473Pa6PXHndKe4N3tgPVw8Kj0WPY09T3hOeil7ZXgN7hTbmbCzy5vTO8z7zi6GXb67GnzQPq4+tT6rvra+5b6LfuZ+p/zmyYbkIvJHfz3/Av/3AdoB+QHTgdqB+YEzQdpBx4PeB+sGFwbPUgwpJZSFELOQMyHfQ21Dq0LXw1zD6sNx4T7hNyOIEaERnbt5dyfs7ouUisyIHIvSiDoRNU+1pFZGQ9E7o5tjmOGX+u5Y8diDseNxOnGlcT/iXeIbEpgSIhK690juydwznWiSeCEJlURO6kgWSE5NHt+rv/fcPmif376OFKGU9JTJ/ab7q1MJqaGpT9Pk0vLTvh1wPXArnSd9f/rEQdODdRn0GdSMF4c0D505jDpMOfwsUzHzZOavLP+sx9ly2YXZqznknMdH5I8UH1k/Gnj0Wa5KbtkxzLGIY4N5unnV+Uz5ifkTx62PNxbwF2QVfDux60RXoVLhmSJCUWzRWLFVcfNJ4ZPHTq6WBJcMlBqU1p/iPpV56vtp/9P9ZXpll8/wnMk+s3yWcnbonOm5xnLR8sLzmPNx56cqXCoeXlC7UFPJWZlduVYVUTVW7VDdWaNaU1PLXZtbh6iLrXt/0eti7yWjS82XZS6fq2etz74CrsRe+XDV5+rgNctrHQ1qDZevi1w/dYN0I6sRatzTON8U3DTW7N7cd9PiZsctzVs3bsvermoRaCm9w3Int5XQmt663pbYtng38u5se1D7RMeujlf33O791Wnf+ey+5f1HD0we3Huo/7Dtkfajli6NrpuP1R43PVF50tit3H3jqfLTG89UnjX2qPY096r33urT6mvt1+1vf270/MFf5n89GbAZ6Bt0Hhx64fVibMh/aOZl2MuF4bjhlVf7R9AjWa8ZXxeOco+Wv5F4Uz+mMnZn3Gi8+63j21cT5ImP76LfrU6mT9FNFU7zTdfMKMy0vDd53/vB88Pkx8iPK7MZn5g+nfos/vn6nN5c97zb/OQCdWH9S85Xjq9V35S+dSzaLY4uhS+tfM/6wfGj+qfaz4fLrsvTK/Gr2NXiNYm1W78sf42sh6+vR/pSfTdfBZBwRQQGAvClCgA6dwBIcN5G8NzKBbcLEn75QMCtCyQLfUSkwzdqDyoDbYJBYp5gi3EReCuCBA2WZpa2n66JvoqhkrGeqZnYQXrC3MsyxPqGbYb9I8cC5zLXGg+CF8tH4KcTIAoShViF2UXYRNnFuMV5JPgl+aUEpYVlRGXFdkjLyckrKqgoaijpKhurmKuaq5mom2iYaBpq6Wtr6WjoKunJ6osa8BgyGxGM1o2/mkyZvjTrNm+xqLY8bpViHWLjZmtsp2wv5sDlyOiEc0a6QK4IN5Q73oPRk8NLeKeMt8QuYR8+X04/FjLJnxhACmQN4goWpEiHqIaahLmEUyKSd+dHVkSdpRZH58XkxGbGZcUfTSjeU53YmvRqL9gnnbJr/8nUVwcE03cfbD+EOSyUqZBlkO2YE3gk8WhebvWxu3nD+YsFTCdkCi2KAosPnCwruVnaf+rd6cUz2LMc5yTLtc7bVvhdiKk8WFVYXV1zs/Zx3fDFD5d+1uOusF0Vv6bb4H496kZm4+mm+ua2m123em73tjy509F6ta30bkr7rg6Ne8R7U50379c+OPUw+1FCl99j8yey3fTds0/vPzvVE9lr0Efqm+i/9jz1L/sBkUHU4PsX3UP1L/OHY165jKi95ny9Ojr6pn3swnjm290Tzu+0JoXhVbY0/dfM9fdFH1I+hs2SP5E/R85lz99YmPuq9+3cEul78U+p5WerKb801tf/Mf8KyBlUPtoSw4J5jW3A5eCDCEY0krQMtKt00/RDDEOMb5jeET+RvjIvsayxrrCtsf/iWONc4vrKPcczxTvC189/X+CmYKVQtnCYiJWopBhe7IN4l0SNZJYURdpSRkaWTnZuR5/cdfkihWRFspK9soGKgqqAGlFtXf2zxohml1ajdrlOjm68no++hYGCIacRwui98TOTK6Z5ZtHmThYqlmyWK1ZvrO/Z1Nrm2SXZBzo4Ouo7yTsLuJBcsa7Lbh/dRzy6Pe941e8863181yGfZF+qH4Xs6+8R4BRoH2QTbEmxDDEL1QyTDReIYNlNE4mIXI36Qf0ZvRaLjiPGCyVo7HFKjE4qTG7ZO5VCs58vVSZN+4BNut/B+IwjhyoPt2UOZ33PYT6icNQ+N+LYkby6/EfH3xWsF3IWKRfbnQwtOVh65lTz6d6ymTO/zjGXS5zXrrC7QK6MrTpUXQyfc911c5eIlxXrHa9EXc29VtfQeX3kxpcmTDPHTclbGrctWtzuBLbGtKXcTW0/0HHwXkbnofuHH2Q9zHl0pOvI4yNPjnTnPM1+ltlzqDe9L7V/7/O4v6IGdg9GvogZSnp5cPj4q/KRhtcPRl+++TQO3hInBN/JT+pMmU/7zZx9/+mj8mzSp9bPv+Y1F+K+XP76bpF9yfJ7yo+Gn9Mr3KsOa1m/Orfn3xihj9yB/IxqRx/COGLFsQu4m/gMggMNN80o7Xm6cHp1BgRDO2M6kwWRgdhLOsZsy8LA8pQ1i82EHWJv5ojgFOIc4srm1uH+xFPKa8b7ja+M34z/s0CBoIbgiNBeYX7hVhFvkVXRYjElsW7xAPFVieOSUpJtUo5SU9KpMiIyQ7I5Owx2fJOrkvdUoFNoU4xUElDqV05TUVAZV81V01b7pF6qYa6xqHley17rl3adjrsuVveGHlmfqH/XINKQ37DXKM1YyXjapMTUFn7vuG0eZSFl8c6yzMrDmtX6uU2+rYMdyW7Q/qSDt6Ow4wenq86JLsauDK7DbpXu0R4GnrSeg15ndgZ7K3iv7Lrvk+fr5Sfht0Tu9D8e4BuoGIQKGgyupaSEOIVKh6HD3oTfiijeHR/pGqVB5Y1GRc/GDMS2x9XHlyXk7klNjE8KTfbfu3OfW4rTfodU+zT7Aw7pTgfdM3YeCjgcmhmdlZJ9OCf/SNnRmtzGY/fy+vJHj38+gSqUKPIqPnbyfsnKKdnTfmUnzjw+u1qucD6gouRCTxWqWqsmvra+7uMlycsh9bVX5q6pNOy/3t3I0RTW3HmL73ZKy9tWq7aWdvmOi51S968+NHg0/Dihm+9pb8+RPqfnogNg8OPQu+EPr8EbkfFdE7VT6JnEj+BTxTz5q+6S2k/n1eKN+d/6T3CjYFQAOHEIgI3/eRxqAMi5CIDYHgDY4NzTjg4AJ3WAEDAF0GIHgCy0/9wfEJx4EgAJ8ABJoAbM4PwyDM4pi0A96AITYA1ih5QhRygaOgE1Q6/hnE8a4YJIRdQjRpEMSANkPPIScgrO0rxQpahXcCbmg76A/oRRwaRinmF5sOHYNhwJR8G14znxsfh+giKhiLBKQ6Z5SqtOW03HTpdDj6BPov/OEMuwxJjIBDFlEVmJFSQ1Ui9zCAuW5QKrMesU22F2KfZejhhODs5WLn9uGu5rPB68SN5LfJ5wRtAnkCtoK8Qk9Fy4SMRTVEB0SuyieLSEhiQk2SWVJ+0Jr8552f4dLXKV8vkK+xQpSo7KGip8qpDqmFqLeoFGiKa2Fr3WiHaNToyurh5Or0+/weC6YZPRLeNWk3umXWY95oMWo5bTVgvWK7Y4O1Z7UQc1RysnsnOyS7Frq9uMB8lT3ytyZ7n3gA/BV98vidzs/z1QLSgpuD2EEOocVhG+uNsssixqLlorJjt2NF4p4diehSTX5Af7tFNaUy3TJtIzM7QPg8y+7CtHTuXm55kdRxbcL8wrDigxPCVdJnhWpFypwqYyqrq09sklUK961abB/UZwU/LNE7ev3elvW+rg7TR7EPPo7ONn3Ws9Mn07nx8duDtEGiaPXBqdHeeeUJvUm5Z/T//hxezRzzvm2hfMvnR+U1gsWVr+Yf/zwvLCqsZayq+7m+fH1vwT4fmXAKrABLiCELAPFIA60AlGwQ+IBMlBNlAEdAxqgF4iAEICzvLTEFcRb+E83gqZjmxDrqC0UQdQ3Wh2dCC6EYPHeGMasYzYMOwTnDQuF7eI98I/IMgSimiQNFE047TOtI/pDOla6bXo78BZ7CNGe8ZROE9dJxaQZElPmSPgzLOZ1ZeNhq2ZPZCDleMh5x4uaa5x7iIeW14cbwfffn4DAYzAU8FCIV9hWeFVkW7RMrEocWMJLokvko+lzkunyHjKau6QkGOXx8uvKswpTii9UH6sclv1olqJ+iENqqanlqG2pA6jzqLusF6rfr3BVcMGoybj2yZtpp1mj817LV5YvrGatl6wWbHD2bM6iDmqO1k7+7vsdS1xu+k+7LHmJbjTwjtm11mfHj+IrOIfEVATOBUsSgkJuRq6HG4aUbh7JkqLuje6LRYVZxVflDCVqJ50NHl6n3FKdSp92p4D0/B50nvYIvNhtllO91GH3LG8lOO8BXcLA4vpTzaX+p8mlT04u7dc5fyXC1erYmu06jAXBy5fuJJ8zeu6SiN908TN67cP3LFpY7873lHTSX2g9QjbNfik5un+Hq8+neciA0yDj4acX06+SnzNPHptzGl8daJ60n2aYabrw+FZy8+Mcy8Wzn4NWVT5jvjRs1y6GvRLcXv+kQADaDdPAHGgAq8ANxAODoIz4DYYhve/IGQBxUIV0CCCBmEE7/wOJA5pjzyD/IKyQFWh8Wgq+g3GCd7tNtgBHBn3E19IUCdM0pyk1aMdoUui56fvYohnlGScYDpD9CNJkL4zP2QpY01i82TX45DiZOei4UZwr/Is867yAwEs/AbKIywroi3qIBYkvl/ipOQNOO+el2XcoSDnKr9PoUKxR2lFRULVXS1fvV+TWctdu0JnTk9b/4jBGyNF42yTcTMt80KLL1Z21pdsae3C7B87SjplO39wtXCr9cB7UrweeovuOugz6WdIrgxABvoH3aOIhmSEzoRbRdRHskQlUMdijGIvx7Mn7NvzMckN3qcqKVWpHGlH01EHkzO+HPbIvJq1nuN0pOro8jHHvMvHCQWUEw+KpIpzTs6Vup66UyZ6Jg8++/3Pd1/QrKyqZqpJrJ266HippV70Su7VpQbv6w8aZZqONc/fsr99+Q6hNbCttZ3YEXCv8T7qgd3D0kcTjyWeULorn473cPba9x3sv/787QBhUO6FwxD15dHhmlf3RgZeT40uvFkdh95iJzDvMJNgcnnq0/TozNP3zR/KPx6ejfhk/VlqDjv3Zr55IfOLx1eJr1++tSymLRl9x3zv/JHyU/PnwvKFFY9VwmrjGvkX3a9r6+4b8x8dqKiweX1AtAYAoEfX17+KAoDNB2Atb319pXx9fe08nGyMAHA3bOs70+ZdwwjAWa4N1Hfly+d/f+PZ+gb1jzzm3y3YvIk2tcI30WYL30rgfwCfV+VGkfSwXAAAAFZlWElmTU0AKgAAAAgAAYdpAAQAAAABAAAAGgAAAAAAA5KGAAcAAAASAAAARKACAAQAAAABAAACIqADAAQAAAABAAAA/QAAAABBU0NJSQAAAFNjcmVlbnNob3TF9zUvAAAB1mlUWHRYTUw6Y29tLmFkb2JlLnhtcAAAAAAAPHg6eG1wbWV0YSB4bWxuczp4PSJhZG9iZTpuczptZXRhLyIgeDp4bXB0az0iWE1QIENvcmUgNi4wLjAiPgogICA8cmRmOlJERiB4bWxuczpyZGY9Imh0dHA6Ly93d3cudzMub3JnLzE5OTkvMDIvMjItcmRmLXN5bnRheC1ucyMiPgogICAgICA8cmRmOkRlc2NyaXB0aW9uIHJkZjphYm91dD0iIgogICAgICAgICAgICB4bWxuczpleGlmPSJodHRwOi8vbnMuYWRvYmUuY29tL2V4aWYvMS4wLyI+CiAgICAgICAgIDxleGlmOlBpeGVsWURpbWVuc2lvbj4yNTM8L2V4aWY6UGl4ZWxZRGltZW5zaW9uPgogICAgICAgICA8ZXhpZjpQaXhlbFhEaW1lbnNpb24+NTQ2PC9leGlmOlBpeGVsWERpbWVuc2lvbj4KICAgICAgICAgPGV4aWY6VXNlckNvbW1lbnQ+U2NyZWVuc2hvdDwvZXhpZjpVc2VyQ29tbWVudD4KICAgICAgPC9yZGY6RGVzY3JpcHRpb24+CiAgIDwvcmRmOlJERj4KPC94OnhtcG1ldGE+CqRflqsAAEAASURBVHgB7Z0HuFRF0vfbnANiVsyYM+ZVMWDAhIq8KKAYERXTmnPOEeMiIK6IKGBOiyAqiKIo5oCYVsWcFRddtb/61fv2+c7MPRPu3Aln7lQ9z8xJffp0/ztVV1VXz+KFnJEhYAgYAoaAIWAIGAI1QGDWGnzTPmkIGAKGgCFgCBgChoAiYIyIVQRDwBAwBAwBQ8AQqBkCxojUDHr7sCFgCBgChoAhYAgYI2J1wBAwBAwBQ8AQMARqhoAxIjWD3j5sCBgChoAhYAgYAsaIWB0wBAyBhkDgjz/+SFU+//rrr1SlxxJjCNQKAWNEaoW8fdcQMASqhsDw4cPd+uuv737//feqfTPfh3755Re32mqruUceeSRfMHtmCDQEAsaINEQxWybrCYH//ve/7swzz3QPPvhgPSU7tWn9+uuv3THHHOM22WQTN+ecc6YinfPPP79bb7313OGHH+5+/PHHVKTJEmEI1AqBWcyhWa2gt++mEYFDDz3UffPNNxlJm2+++dywYcMy7lXygtnyAgss4E455RR36aWX5vxUGtKalLh33nnHnXrqqdGjNm3auF122UV/YFksffvtt+4///mPW3bZZYt9JTEcg/3dd9/tpk2b5hZbbLHEMIWwHDx4sHvooYeavHveeecpQxF/Puuss7qVVlrJde3a1W222WZulllmafIeNz7++GO3+uqru6OOOspdccUViWHspiHQCAiYRKQRStnyWDQCjz32mHv++ecdA2b4LbXUUkW/X82AaU3rd9995x544AH3xRdfOGb+kyZNct27d3crrLCC+/DDD4uGaMMNN3RHHHFE0eGTAv7www/ujjvucPvtt19OJoT3CmH5+uuva55mm222qF5QP2CyoPB83nnndX/++ae7/fbb3RZbbOF22203l8sWZLnllnN77bWXg4mB4TIyBBoVgdkbNeOWb0MgFwJrr712XgkIg+mzzz7rNthgA7f00ks7JAAbb7yxY5Bi0HnhhRfc8ssv7wID89VXX7kPPvhAbRTmnntu/exPP/3kXnnlFZ0V77DDDm6JJZbIlZy89/OlNaRjrrnmcqNHj3brrLOOpmnq1Kluo402cu+9956bPHmyDoYwDNDbb7/tpkyZojN68jT77P+/i0iKb80118yZvkMOOcQddthh+vymm27Smf8NN9zgrrrqKr2XCwOYBzD97bffHGoVGBlwZuCG2JXixRdfVAkHzApShVw0YsQI9+uvvyojkitMuJ8PyxAGpmHhhRcOl02O5DM833bbbd2jjz6q9QHJSBLBIN15553K5Oy7775JQeyeIdDqETCJSKsvYstgORHA1gCxe+/evR0DF0zE5ptv7mA2IAY9rvv37x99FlsP7sEAQMzQGaw6duyo8SyzzDLuuOOOi8KX62Trrbd2F154oVtxxRUdgxxMx4QJEzQtqBTWWGMNd+CBB+rnUAfBnMBY9OrVS2fzvA8jECgpvvCs0HH77bfXIJ999pke82EA4wFeX375pUqnOL/55pv1Pewp1lprLbX3IJ3k4ayzzsr5+bfeekufkbdqU3aek74f0gUDaGQINCoCxog0aslbvnMiwMqKzz//PPqFlRbMbq+//nq35557un//+986a//5559zxpPrwa677uqeeOIJ9/3336s9CuL7W265xZUSV660hm8jgWBAHD9+vKY73L/44ovV/gTmBGkIkgskNOQPG5lLLrnEPffcc2o0G97hmCu+eJjsc5bNDhkyRG/vuOOOesyHAczdjBkzXLt27Vznzp31/IILLtD3+vbtq+odVCkwfwcddJC76KKL3Msvv5z9Wb3+6KOP3IILLuhQmRSiQljyPsxRqBv5jEwp25EjR7o55pjDbbfddjk/jc0KkjTSaWQINCwCGKsaGQKGwP8iICoAdqPO+D3++OP6sF+/fnpfBu8ILpE46D0ZnPSeMBN6LYamUZiBAwfqPRnoo3vhhPCDBg3S56I+yRlHCB8/5ksr4UQl42UQ9nwjkNhu6LdEQhJuebFp8GLv4EXVFN3jRIxEvTAp0b2k+KKHsZOJEyfqN2R5qt9qq628GN7qtUiAvKhjYiH/9zQJA56IKsYLkxaFJ53CUPidd945uvfGG29o3MJYRffiJ6Je8iLBit9KPC+E5bHHHqvfidcNYd6iuMLzLbfc0ou6yIvBqhe1lhfJUxQm18miiy7qO3XqlOux3TcEWj0C/18B3LCsmGXcEMhEAHH51VdfHd3EtgKSQc9hb8Gyy5bQ9OnT1U5i7NixGqf0MhodRo7NpVxpDfHsvvvuKvEI1+EYt0dgNQkSCFQgccKuYdSoUSp5WHzxxfVRrvji74VzVE5gJ4yJE4bEPfXUU+GRKwWD999/X1VfSD9Qa0EBO+JLItKNLUwxVAhL4kAqFuxpgg1QPO51111XpWXY2Vx77bXu6KOPjj9uck76kazkWs3T5AW7YQi0QgSMEWmFhWpZahkC2G8wcGYTgwbMAqoGRO6lEmoQjEdFUuJkJqzGoayeKIVypTXENc8884TTjGP8flhein1LnLAbQW0QBl6exd+Lh006h9khrzA5IvVxY8aMUZsawpaCQWDUYABQZwWCOcJZWRKxUgenYRi+wkTmo0JY8i7MGuFyEWoi6saqq67qLrvsMlUdxfHLfg81GH5jSKeRIdCoCJiNSKOWvOW72Qhg9AkTgi1FIAbrOOFDAmLwDRSfrTPYY9+A4efBBx+sK0GC6/Ewuw/vVevIIIijL1YCBSItGI3i/bMY+4rwXtIRg1n8oohqSz2bNgeDgA3xgj+reJAgnHTSSRk/7EqSqH379nobaVa1iGW9MCSU+/nnn5/3syz7hUI68wa2h4ZAK0XAGJFWWrCWrdIRYABh2Wf8N3PmTLf//vtrpKycgZm48cYbI0dUgYlg0EbEj8SDFSoYd7JCJRDPUXm8+eabqrJAXXH88cfrY8T5EEwBy3zfffddXfarN3P85UprjuCJt/keRqB8jzwiQUBCwzLalvrx4IMsTcbBGfGzdLcYDHgPHF966SUnNjpu6NChKtFgSTDLpzFSxQAX1+0YvuK7JIm6deumzMtdd92V9DjjXjFY3nfffRn1Ipfa54ADDnAsLUY9k29FDI7WwKNUiVhGBuzCEKhXBKQDNTIEDIH/QyDJaFHatpfVEhrinHPOUSNE7omvEC8DnRoxBmNVAgkD40M8okbwMvhqmFdffVXjwPhVlv7qPWEC1KBRZvR+lVVW0ef8CQPgRWWiho/RzayT8A3SEv+FtIoaxYvH0Iy3xDuohg2GseGhSHa8LEn2oorR52Kz4M8444zwWI9J8WUE+L8LWW2jcWCEG0gcdileMuh6GfB9MRjIyiIvK2c0LgxOZaWSGruK7w01BiXPpFeW8UblE74XP1JGlAN5zEWFsBRmUdMRx5lzYTQ1yvBcpDXRJ4TJ1Hco2yQSz7FeHKJ5Ya6SHts9Q6BhEDAX79KbGBkCzUEA1QLLOFEVIIJnXxiWdC655JJRNNgzfPLJJ3l1/yzZxN4h2C7gsyNutEic2CM0xy4jSkCJJ0h+8IiKQ7ZgO1JiVEW9VggDHMSBA4avcaIMAr4Bv/jz+DlGrhiRYjiaz2V+/J1qnCNtQqKDrxNhhKrxSfuGIZBKBIwRSWWxWKLqBYFcjEi9pL9R0nnNNde4K6+8UtU6qKJqTdgWYZtz+eWXq61QrdNj3zcEaomArZqpJfr2bUPAEKgKAuLnw2G3kQYmhAyzkgbbkbgErCpA2EcMgRQiYBKRFBaKJal+EBBnXLrnCe7e0zLI1Q96llJDwBAwBJwzRsRqgSFgCBgChoAhYAjUDAFbvlsz6O3DhoAhYAgYAoaAIWCMiNUBQ8AQMAQMAUPAEKgZAsaI1Ax6+7AhYAgYAoaAIWAIGCNidcAQMAQMAUPAEDAEaoaAMSI1g94+bAgYAoaAIWAIGALGiFgdMAQMAUPAEDAEDIGaIVB2h2ayH4Tu2llNt9Q1Q6+VfphtyXFRzsZrRpVFAA+b7NZaDXfqlc1J64ldNvjQ3ZNxOmaUHgSsX0pPWcRTIvtI6UaebAtRKpWdEYEBWW655dzmm29eaprsvRojADP5/fffu/XXX7/GKWn9n2en25133tnJ5m2tP7N1kkOY8H/961+6q2+dJLkhkvnxxx/rLsvWL6WruGWTyxbvh2WqmXSVqaXGEDAEDAFDwBBoKASMEWmo4rbMGgKGgCFgCBgC6ULAGJF0lYelxhAwBAwBQ8AQaCgEjBFpqOK2zBoChoAhYAgYAulCwBiRdJWHpcYQMAQMAUPAEGgoBIwRaajitswaAoaAIWAIGALpQsAYkXSVh6XGEDAEDAFDwBBoKASMEWmo4rbMGgKGgCFgCBgC6ULAGJF0lYelxhAwBAwBQ8AQaCgEyu5ZtaHQa+DM/vbbb+rlEAiWWGIJN+usTXnar7/+2v3xxx+uTZs2ZXMX/+2336oX0oUXXrhh0P/pp5/U5XiuDOOKfIEFFsj1uOj733zzjZbjIoss4nBz/sUXX+Qtu++++8799ddfbtFFFy36G60pIPiA00ILLeTmnXfeJlnDff/PP//sylU+fODXX391P/74Y8421yQRDXYDN/DU41w011xzOep3S4l6/+WXX2pcxEm/BLVt2zYxatyg//DDD26ppZZKfN7oN5uOHo2OiOW/KASeeOIJt/TSS+vvySefbPIOHTCu/gkzevToJs9LvbHPPvu43XbbrdTX9b3PPvvM9ezZUwcRbsAsXXnllW7s2LEtirdSL59//vkR1gHz+PGSSy4py6d33313161bN40LJoNv/OMf/8gZ9wEHHOB23HHHnM9b+4NVVllFMfr73/+emNX9999fnx9xxBGJz0u5edttt2mcMEGlUnZ9z74uNd40vDdlyhTFJ94+4uebbrppWZJJH0K8lAf0P//zP472k4tGjBih4T/44INcQRr6vklEGrr4y5N5Gtn222+fEdkDDzzgZs6cmXEvLRe33HKLu/POO90dd9yhSZo6dao76aST3F133ZWWJCam46abbtLZdfbDtddeO/tWi6/Z8PCggw5ya665Zovjau0R3Hvvve7GG2/M2C8IKdZjjz2mWUdqkibKru/Z12lKa6lpOfDAA912223X5PVySA6bRCo3dtllF/f7778nPcq4l7a6kJG4Gl4YI1JD8FvDp5dcckl33333OQbJ+MZtDOrsKjtjxowm2fz888/de++95xBprrvuupHaBvElomfEm1999ZWbNm2aW2ONNRJFqYhG33rrLd0lmIE4/m0+iFicDpYjg+liiy2m6SA93IMQraLiCWJVpACIvRG1Q7ni4BmbAvJNOrZ33nnHkXbSMeecc/K4IsSsK5folw+SJghVWCDEwezsG/IU7n/66acqwl5vvfUSd/5F1YCkJVsFxkycd3kvicDhzTff1LKl7GafvWkXU47yT/p2Le5R/8EEqWCnTp2iJNAmoKT856pXDFLUe1RdqBheeeUVt/jii7uVVlopijd+wqz8o48+0jaUvVMwUg5m39OnT9eZ+KqrrqrlzIZ+8fpOnY9fx+t/rjhIQ3PaajzN1TpH8oFEKhfRzyC1Bd+w8zUTJxhI7sWJ8nrjjTe0zufaVf7ggw+Ov6LnxPfyyy+71VdfvcmzcAP1Nf0UO9e2a9cu3I6OueoKAWrRB0UJK/eJVP6yknTu/tlnny1rnBZZdRGQzs1LA8r7Udk1lmmeP/bYY/U4ZsyYKLx0bH6OOebwhx56qD67//779ZkM2H7DDTfUe7zLT+xL/DPPPKPPZVaZ8R7PZbD3V199dRT3Ntts45dddlkvzEUUjwwGXpgSDSMduD/kkEO8dC7Rc+K44IIL9DnH8G2OopLJuO7SpYsvFAcRkY6OHTt6GWyj90X/61966SX9TrF/Dz/8sJcOP2/wE044Qb8huu+84TbbbDMvs8CMMLvuuquX3UqjezI4ZaR5mWWW8bfeeqs+j7/Pt8Dnmmuu0WfCwPltt902wpW8rrjiin6DDTaI4h44cKAX5jPCg7hlgI6el6P8o8gqeEJ5UC6FiLzKYOeF8fN9+vTJCC47Kvu99trLC+Poe/Tooc8K1SthQhQ7kUR5kUhFOO6www5eBk6NgzZCuVCuoR5Tv2UiEH1/6NChmqbwnONWW23lZeD1lEH8vkgyM66p/1C+OHheTFslXDlJdgUv2C9NmjRJ83PzzTfn/fRVV12l4eirAomaRe/JBEhvUQ969erlhZnU+8Kc67VMgvwnn3yi90R1qWFpd7LjfIhK+xvCg7XYz/m//e1vei4TMA0jDIbWnXhZiJrTM35CheoKYcrVBxFXS4jxPqS71HjQk5eVjBEpK5w1iaw5jMiDDz6onW28I2ZAohHyjIYWGJE999zTixTEP/TQQ9qQhw0bpo2cBgiFTpbBfeTIkf7FF1/066yzjr4jM3sNQ+Mjzn333dfLjNEPGTJEB0exbdDnonLR5yeffLL/8MMP/VNPPaWDJZ01nY7MIvwxxxwTdQpcy5bven3dddd5BuBCcfCheDpkG2wvEiAv0hAvemJNR7F/zWFEzj77bH/ppZc2+cksVj8XZyTC9xmwRHqhlwxmMjP2YrvjBw8e7N9++20d0BZccEHtSOLvB0YkMIEMuDIb1G9PnjzZgzflEBgROiOYv5122kknIiIR0LITw0DFnQSUo/xDvip5bA4jIjNhZXxFihExlDLL1XotKssMRqRQvQqMCLheccUV/rXXXvNHHnmk4nz77bdrlkMbgQkcN26c1m+Ychh/Bi/qMwwSZQlTDOMhNioax6BBg7yoDzLqu0inMq4p90JxkJCQjnxttdxl1BxGROzImrQT2o7YkGiy8jEi7777roY5/vjjlYk49dRTFUfKhLKhLPIxIqKW1nAiwdQ+7OKLL9b+kHcDI0LcXNOmmUSJ9NGLdNWLDZx+u1BdIVC5+iD9YAv+jBFpAXj2am4EmsOIMIgj+aAjpiOEmGXBKIhBqza2wIjAoDBgBxLRpQ5kMBtQ6NxEtx6CRPdE3K/3aHw02PAtbm688cY66HH+9NNPexp+/Pk555yj6aBThsI1MxtIxK76PKStmDhIB4MsHXsg7q211lrhsqhjcxgRBvqk38cff6zfijMS4eNxRmTixImaT5i8QJQ1nSJMXfz9OCPCwMwM/aijjgqv6aAbl4jst99+Kr1isAgEE0hnG2br5Sj/EHclj81lRB5//HHNZ5AKMksWVYlKMeISkUL1KjAiSEQCwdSA4bnnnqu3QhuBmQ8UBkjqt6jNlIl5/fXXw+OofovRs97Lru/Z18XEEdKRr61GCSjTSXMYkaR2wj0YEKgYRkSMUZXhjif/rLPO8kyg8jEiSMB4N94HBakmjAj1iwnZFltsEY86Yjop80J1hRfL1QdlJKKEi3IwIk0VuFLrjQyB5iDQvXt3J7Mt1ZMLU+FkAHIY8GWTNFAnagDHyhf0otiAsAw42yBytdVWi14N+tq4IVj79u0zdO9cS2PQd7beemu1MxEJjdpuSOcc2U5IBxDFm++k2DhkIHYyE42iIq3YT1SK0CfnsxEp9F1sDqCNNtooCopuWqQe0XXSicwQ1fBYVDzRY5EwaTzY+kCEwf5AOtcoDNcQ5QyVq/w1shT9icpKbZAw2sZOBPsokf64bHuCYutV3KYAexEZQLWdxLOM/U0g6j+EzQNtR1RCDoNs7BMoFxnA9XkoD73I8ycqtaLjKNRW83ymoo+wWevbt2/J36CtYYMjk5yMOFjBBuVr56+++qrai8Xtg+KrdSgP+j2R+DpRM0fxYw8C0V6KrSvV7oOixJb5xBiRMgPaiNHRETMIy0xbGQwMOEVH7sT2IwMOmZ074fR1ySfMi+hN3ZlnnhkxCiEwRqyB6ISzKbuDjz+nA5KZuzI3DAqHH364e//9953YhsSD5T0vNg5WlqSNsgcbBqdAgRHD0DdOdIpxzOPPOA/MFoaPcQpGjtyTiZQa7oaOOh4uDFblKv943Gk4Z8Dp2rWrGzVqlJMZsxs/frwTiUWTpBVbr/KVRYg0VxuAMYTRhFFkJUfnzp0dkwOxM4mWq4c4ch2bE0c8rUltNdc30nI/tAnSU0xbYUJUyCCd9pLNqGAUHIi2AtH/iQ1KuB0dmRwUW1fS2AdFGWnGiTEizQDLgiYjQKcXOmJWTHCe3Vix4EdSIsat7tprr9WIaNRix1EWZ1whZWL7oBbozErCjCT4ccgepLkOYXg/DNDNiSN8Nw1HBiex0YqSIqJhlQoFJ0ph5iwGfdFKDLFD0NUA+fyFrLzyyrp6RtRwTtRaGj+rj2A0RRWl1zAb+HBgBsnAB7HSgPB8v1rlrx+uwR+MNRiK/ZGuWmLgz6Zq1Kt77rlHV36JGi6STgU/P9n1P9T3kM5w3Zw4wrv1dgyMnKggo1Uyos6KskGdZUIl9l/RPRgIpIJx/yHRw9gJjCASYlHfRCthaDuBVlhhBWX8WT0WX21D/ZkwYYL6I6lGXQnpScPRGJE0lEIrSAMdsViqO0SaSbNiGi9iZhqaGNGpEzGx5XA0xnLOpFhWKhb/OiNF5SP2KZFTriD6ZGkq1L9/fxVBs8wYQp1EB1RMHPpClf/EmDbRgyfYslSR/DLogD+zLdHj63LQwIgwOCL2F5sQxR0mgjJgCSrOyWTVQGKOKB8kS2KL4MR4UtUO119/fYbfBBhMVBLEI4bCOhifcsopKt4eMGCA+j+pRvknZqAKNxGlgyP1DbVgkCLFP12NesVyeOjuu+9WdZEYJGuZcS8spc+u7wyMUKj/xcShL6T4DyeKLEVOIupwUAfjjI76KgbYqs6Kh+/Xr58TA1et+2Lz5sSey4FnmEjFw8bPYS7EoNXxzumnn67MTPApQzgmbjCstCfardjYqSSZNiSrlrTcqlFX4mmu+XkJtil5X7FVM3nhqYuHzTFWxVAPktmWlwHPs5QWYyxIBkU1tGP1DDREVrjI7FrvsaSNFSbS2PVa1CeRYSqW/IFE3K3PMaaEWCbHUrg4scROOlO9hQW6DApq7S6Ny4v3SzWW5ByreYjVIuJXROM977zzNO2ixtFrjE2LiSMpHRjo8r3mUDHGquJsTdNGHpJ+GJlCGBmKLjoKgzGceJCNVs0QRmxzojDCYKjBm3TaPFLjOXCA4saqXFO+woyoESZpEN8WWg4dOnTgsZIMflr+PJfOVpeMYswcqBzlH+Kq5JH6S7kUIoymMdQOFOoy9T5Q3Fi1UL0KmMtAF17XI+V02mmn6XkwEo23kbA6jdVMItXwBx54oGclFOXA6jUMXWVg86GsKMt4fc++LiaOpHRkt9WMTJThojnGqkntJNwLxt1HH3201lPu0x+wgoXzsGpGfKWoAalITfU+df7CCy/UnIiaUu9hmAyBZ7xfGj58uBcVi4bB0JsVNMSNsSpE3Lg+YKUd98XPj4YRnzT6vFBdIVC5+iD9YAv+ymGsOgvfFyDKRjjkQScva6rLFqdFVF0EMKaSJXwqhqzEl1HHsD9NkExU4huIXKWD1e8kxY9uGL0ts/SwTw7v4Bgq6F0LxZEUb3PviT8WtadhllQuQj2DFCMY+ibFS/liG8IsvjmEOg0jvjCLTnoXWxLKNu5YLR6uGuUf/15zz6k3iNKxaakEVaNeUU7YKVBOoX5n5yWpvsfrfzFxZMdZyWthILTNxo2mW/o9HLMhlcXokzaTRAGHXI7lkt4J92RSp6qcbFV1eE4/RBjKKa4mDs+rUVfCt0o9or5CfZuvvykUt6lmCiFkz8uOAI2+0gSDkY9o9NkNJ/ud7Ot88aXpGUxeIcrFJBR6jw6VTjMfseoiH1Wj/PN9v9bPqlGvKKdCA2d2OrKvi4mj1li29PvYihTCqSU4FGor9EPsWZSLssskV7h6vz9rvWfA0m8IGAKGgCFgCBgC9YuAMSL1W3aWckPAEDAEDAFDoO4RMEak7ovQMmAIGAKGgCFgCNQvAsaI1G/ZWcoNAUPAEDAEDIG6R8CMVeu+CGuTAZxlYdHN9vLZq19wjMTKDfwVyDLCohKI/xEsyJMI742yr0u0XTluzsM3uB/37pj0fqXvYXkvm/KpD5JKfIutydm2PGmFC/fxl4BRW5Lviuz0gDFY5yKwJR62tseglRVElDMrL8C6lsQCv3i6apkWvt3cOosfD8qScsy1QqNaeWLFGG2otRlDWv2uVg0q83dasHw48VXzI5IIS13dlOVkBbfbZsdZqYpenFU1yZsMXPrsxBNPbPIs1w128SS+pJ+4qtbXWDcfttrO3nSKdf1sNoUPhGqTOALTdOMLpblUjB+RsFMnu6JmE9udg9nzzz+f/SjxOmxwloQz98hLKL9rrrlG44hvhsdGXmyyFjZ4S/xIhW6yezBpZKfSSpIMZkX5EWlunc3eaA1/I+J5tpJZyRk3myGGnZNzBkrZg2L8iFj9rn6hlcOPiElEpGczSgcCLKMT50tNEhOWg7J3Bmv6k4hNvmTrbHfHHXckPa7KPekCKvqdpPiT7hWTCLw+gmc2sWkdUhDZATbyPhkPw2aF4mBNvajG7zfqeUvqbNzDZ6PiV6l8W/2uFLKVidcYkcrgarHGEEB1gQoBsT8O79hdkt1Ds0X9iIlxeZyL4vsyxMMg8g7u21EJBfUCYRCfM3iykVS7du2i1xBL8wz1Aw74cOQUnjO4s/EXKgncoCepl2bOnKm7m8Z3So0ir+EJjspwjsY+Gew8DPZrr712k71/2A8jF9bkX6QOur9MPCs4+gob3SHaRyWEag7KhxlpoHwWXnhhxQxMg5txnrE/Eeo16kSSUyf2wyF8cFUfT1Otz0uts+CHGoF6RD2Lq0hy1dmW4ohaCydnuA9v7VTN+k2bw9cIZYkzSJE0Raq3eq/f1aonZqxaLaQb+Dvi2lsHkcMOO0w9nW655ZbqTExE/81CZZ999kn0dkk8IvbWuBis2AUY5oR9T3BattVWW7nlllvO7bTTTsoIERCGBV09W6az7wTPx40b59j4ioF71VVX1U3DYGqy984RN8/K7CA9YAAZOHBgs/JRycB7772322OPPZSBIl/i1lsdkLEhXbHEIAk27B0UJ5izjh076i1m871799bzQpiBT8Cf7dCRIsAIsjGYuNbWjfLY3wTnT0/JxoiB2JyPbdIZOHH6VClPp+F7lTjmqrPbbLONMuR41gUDbK4K1dlScWQSIGpN9fDJpoQw5eJCvBLZrYs4y12/aW/sNk69pr2x+zfUCPW7XAVuEpFyIWnx5EWAjpYdQWES8KyJ6F/2z9DdJ8OsGuaAzdTihOdDNoXKR2xOxSySTeEYLBlE2Y6dze9k/wjdfOqBBx7QDd7oJEhDoEcffdRdfvnlKjmgk2Y2w8xm2LBhOkO/8sordQdZZuvdunVzsq+Hxi17R+hmWbLXjoMxSRM9/fTTmudbb71VZ2gwZKi8SHsgBnxmcXGCGQiMBvez1T50tLg+p9MFa7HJUTfxMHP5MCMunuManh1G+a7YtOjmcDvuuKPiS9lTVuzcjMQM4hxpFGUH48IGYlB2uvRmjf5KrbNsggYzAvOFWhEDYTYJLFRnm4sjUse+ffs6mDqkXNtvv73Wd9oAdb21UrXrNztRs/Enm02KTZVudMfmh/Vev6tWP6RRl5WkYXqMV4zqF4FyG6uGDbKk841ACfdELK/3chn+sZFeoHzGqhj9SaNRY1WMDUXUr5u4hXc5yixewwjT4mVQ1HM2zAsku4/qvWCkyX02BBPGxm+77bYaDINY2e3WY7QZ6IQTTtD3woZW4X4xx+YYq8pMrkmUN910k347GKvK4OZl8PFiSxOF5R6b+UH5jPlkR1ANE4xVr776ar2OG6uG92WnXX1WDGayy7GmMWx+yIv77befbjiGAWIgGTw0HHm677779Jx7gWQw1XuyY3C4VZFjS41Vc9XZbGNV6rwwW5qHYupsKTgSL5uuCQMeYcU9mQw0nLFqpeq3SHg9GyDG21ya63dUEcp0YsaqVWPX7EPZCIQls4h9s4lZGxTChOerrbZaOI32eYkbnyLWnDBhQhSGk1wbdmUEyrpAT8uGbi+++KKK9sPjYEfCjJuZKBS2A+dcdt3k4GRHXockJBB2EWGW/uqrr6rqJm7LgLqhkhRwBOvsPWKSsEbiFF/Ki3oK24A4yWDujjvuuPitjHcyHuS5KAaz8Ho21ticoN4KxDUE1tgSQdSJQOj9y7k5YIi3Jcdq1tmQzubgSPlQR+IbxYEhWCI9bK1U7fqN6jDe5sC9NdTvatWP2av1IftO60KA3RYhkZ7oMf7HbpZQ9uZmYUDlWZIfBTpIVDEtJWH0NQrEpCLxaBIdOvJAcUPU8N4RRxzRZCOqoMags8ke1NE5V5Lat2+v0cNghRVE4XsYIEJxrMPuwSFM0pH8lBPrfJiF72NAGwisuc62v+E5DOv48eM1KDuuhoEXo0BUNGmiatbZyZMna9abg2MYHNkROU7B6Dh+rzWdV7t+x8sEHFtL/a5WnTBGpFpIt7LvMIBjGDp27Fg1sgurIMimiNU1t2EArWbWmYUg7YDpgSGKr7TBPgGJy+67757oPC1IbJB2hPdEjK22DBhbQswkMUITPybRKhvsJipJIV33339/hgSBQRn7CSQecYaqkmkJcQeGIKQtH2bhnfiR9zCgxS5nnXXW0Uei9lF7EepVkISAbWBExHdJquxD4vkp5RxmPOBYTJ1N+kYhHJE4sVoJHEV9qVFgFItNA6uXjJIRCOVi9TsZn3LfNUak3Ig2UHziaEsNNjGAw3iTFSQYpA4ePNh16tQpY9CsNCzBu6vo0XUljOiDnTje0iWqGLuyhPfYY491Xbp00VUKQWoTTxerMlgtg8EsM0nyANPBqp8RI0ZoUBiU22+/XY1BMZ4Ux24Ow8NKEswPK43IDyoLJD0wXPhMIV9ib1PJz2fEHRhOsQ1RRrQYzDIi+L8LykLsTHRl08knn6wqJ4w1MWgVJ3nqrZfVSxgSw1TCaKEya01EnYUZwzCa9lOoziblvRCOMDuHH3641h1WOu25555av+Mq0aR4G/We1e8albyIkMpKZqxaVjhrEpmoWwp6Vg0Ju+CCC7yoadSIUKqwGnL27NnTi8vzEMQHw1QZ/KN7o0aN0ndeeeUVvYfhHkaR+UgYAy+DsAbBkyrfEymHXr/99ttelkHqPRmwvKzf99JJexHR6j1ZmeOls/eiytDwwVgVw8g4iW7XY3xG3PxE9+tlxUk8iB8+fLgX9Y4+xxCQeAlbKWNVPo5XVVmd4oXZ02+J7YyXZa1eBuqMtGHQGzAKD8S5k+aDa1m2qe+LDUx43OSYbawqs2oP9pAwQHpOfoMBbCHMgpElfUOc7r77bjUEJi5RcXhZZu1l5h4FoR7iSZe8yoCqOIN3mjyrNqfOYgRNXilLSBheL5IkvUe5FKqzpeJImQkz4sVXjn5LVj9pHRGpU4R1PZxg2Pzyyy/nTWot6vfWW2/tMQjPprTW7+x0tvS6HMaqs5AIaRxlI2ZsOIiSDqRscVpE1UUAWwT08XEDt0IpoNxx3hO3vyj0Trmfo0bBXgPJTDBy5Z4MaA7Rd9zAtNC32RMEDPLlh3hlBU2TZbCF4o4/x48Ey2GxNSiWKB+WPCNyrxXhhAsncHF7lGIwS0ov9gtIB7INcUNYlmaDT7YDvPC83EekTagyquG3BANqlrbH815qnS2EI1IQJE60hXok7IVo383pl0rNZ2uu36Vikus9pMLYDKIiLpVMNVMqcvZeBgItqYQZEbXgAkYjOx3cw6K9uYQqoJDdRa069HzMUXPzWWp4mL1sKgaz7He4zjbAzQ6Dw6/WSjBz2VRqnS2EIwactaqz2XlM+7XV7+qWkHlWrS7e9jVDwBAwBAwBQ8AQiCFgjEgMDDs1BAwBQ8AQMAQMgeoiYIxIdfG2rxkChoAhYAgYAoZADAFjRGJg2KkhYAgYAoaAIWAIVBcBY0Sqi7d9zRAwBAwBQ8AQMARiCBgjEgPDTg0BQ8AQMAQMAUOguggYI1JdvO1rhoAhYAgYAoaAIRBDwBiRGBh2aggYAoaAIWAIGALVRaDsDs3Yfh2PlO+88051c2JfKxsCeC9ky3krw7JBmjMivNGyX0zwBJszoD2oGgJseEa5WP2vGuRFfcj6paJgqnogxnvG/ZZQ2RkRNlniZx1rS4qltu9aGVYXf9qKtZfqYl7M16xMikGpemEoDxtbqod3sV8K40Wx4ZPClZ0RwY0we2Cwi6lRfSIQ9pqxMqx8+U2bNs21b9++WXvNVD5Vjf0F9pphvyyr/+mqB2GvGSuXdJXLt99+26L9tsiN2Yikq0wtNYaAIWAIGAKGQEMhYIxIQxW3ZdYQMAQMAUPAEEgXAsaIpKs8LDWGgCFgCBgChkBDIWCMSEMVt2XWEDAEDAFDwBBIFwLGiKSrPCw1hoAhYAgYAoZAQyFgjEhDFbdl1hAwBAwBQ8AQSBcCxoikqzwsNYaAIWAIGAKGQEMhYIxIQxW3ZdYQMAQMAUPAEEgXAsaIpKs8LDWGgCFgCBgChkBDIVAXjMgXX3zhvPdlL5hi4/3yyy/d559/Hv3wJPfHH3+UPT31GuFPP/3kZs6c2ezk48GVfT2SaMaMGQ7c89HXX39dkXqR75u1flZsnY2n85dffnGfffZZ/FZ0/t///tcRZz7i/U8//bQg1j/++KOjLjQa0RdQF5tL4F4IL8Kw700SFfN+0nuNcu+HH37IiV0+DN57772c/VK+93hGXcADbL69V0pNV6Fv1/PzmjEiJ5xwgltggQWa/OjwAt1yyy1ujTXWcEsttZRbZJFF3OWXXx4e5TxWIt51113XLb300tFv0UUXdXPNNZfba6+93GuvvZYzLUkPGBB69uxZsFNPejdt99588023//77uw4dOjgwOuywwxwMRDE0YMAAt+2227qvvvoqI/g333zjevXq5dZZZx23+eabu0033dT961//yggzfPhwt8MOO+izDTbYwBFXoKOOOsqttdZaib9rrrkmBKu7YyltgUz+/vvvbuedd3b77LNPRp5hHI855hhtf7Sv1Vdf3d18880ZYdiMjzKgnbZr184ttNBC7rLLLssIEy4oR1xvUx8ahRhsDjnkELfEEku4xRdfXPP/wgsvFJX9119/XV3733rrrTnDjxw5Uvu+e+65JyPMmDFjtDwoN8pkq622ch988EFGmEa+ePnll7V/WGyxxRSfPfbYw/38889FQcIYw5YLTDwD0d/MN998ib+1115bg8GA9OnTx80777xu+eWX12PXrl0zGNSWpCukpbUey77XTLFAPf/8827JJZd0PXr0yHiFTg968cUX3ZFHHqmDFQPIAw884E455RRtgPvtt1/GO/GLSsXLQHviiScqA8FgSSc9aNAgN378eEenAqNSDDGg3Hnnne6OO+4oJnhqwzCT/vvf/66MxyWXXKK4nHvuuYpR9oAWzwQSkCFDhrgrrrgifjs6h6mgMz/zzDPdcsst56677jp37LHHKjOy4oorKtZnn32222yzzTTM2LFjdXAE/913310HXTqSOD366KOOWc5KK60Uv10356W2BWbphx56qJs4caIyFPEMn3POOe766693Xbp0cQcffLC2L5g4BtW9995bg5566qk6wF155ZVutdVWczfddJPj3jLLLKPMYjw+BmSYkUpILuPfSdP5eeed54YNG+b69eun9Y7+oVOnTu6jjz7SiVOutFIe9HtImnLR9OnTXd++fZs8Zh8cBjz6SRgUpCL0i/vuu6+2myYvNNgNGG8mMmBLX0t9PProo13v3r3dvffemxMN+qVrr73WnXbaaU3CwGxQtnF666233KhRo9wqq6yit0eMGOEGDhzojjjiCJ2gPvXUU+7SSy9VCQljV6npin+zVZ9LQZWVRJzun3322bxxSqF7aUj+uOOOyxlup5128sKoeOE0ozAya/MyAEXX2SeVildmO75z587Zn/PSEfjZZ5/d77bbbhnPZJD2wqj4cePGedlK3JMuSBqHF4kNOiYvHLeXyhm9Jxy7lwHHSwX20qFH92txIh2pF+4976fvvvtuL4yBnzRpUhTu6quv9iuvvLIXqVZ0L37y66+/ehnk9D2ZaesRHAJR1tLovUhWwi0vjJ6Gkw5f70mH4jfZZJOMeiGdv8YbvRQ7effdd70Mol469djd9Jw+/PDDGXlJSlkpbeGZZ57xbdu29fPMM49fcMEFPXjHifa3wgorxG95Yba9MBl6j/oru536Cy64IAoj27BrfJRhnITx9HPMMYcXKaEXZjD+qC7PqYeUSz4S9ay2fZksRcFkQqJt+6qrroruZZ8I86K4LrvsshpWJlnZQbS/2H777X2bNm00zNChQ6MwjzzyiN6TiUx0T5hNvUeaWjOJKrdgvySTQ8WCfjTQWWedpZjTryWRSHF1XKFfpv5zzNWH8T71Y+ONN/YiGdd+nHsimfUixeU0ItoC44NIH30p6YoiSvkJ4z3jfkuoJqoZdrZEVLbhhhs66TCdNDTHLqRxQuKw6667ZuxKKgO+mzx5ck79XaXijacrfs7MEdXA6NGjHRICCEkHYlpmkNttt52KvDt27KgcOpId6aQ0HGJVRK9SqXXWKoOF22ijjdw222yj4tgLL7xQw6X1D1EwszJhCqIkkl9mFkiIkgi1zffff+/69+/vmH1n02yzzaZ5py4w84NCvUA6AvFdVDqEDcR3UZHx7TgRBzMZxNcXX3xx/FFdnZfSFl555RWVgiBNQXXGVt2BsL2h/SGyjpMMfo6ZODpuVKFIkuKzcvAF0zj2pA116Pnnn99Qu9XS19B24xgyc0Ysj1Q2F/GMOkm/l4voJ3jODDubiB969dVX9Sidv3v77bedMJ1az/VmA/9RH2nvW2+9dYQC4wZ1l7aQRLQF7P5QwZxxxhlJQTLuoZ5kHKJ8kOoTN2XGOBYnxgRh5rXtlZKueFyt/bwmjAidJITYGP3mAQccoLYgYbCggX/yySdayPECQGxMR4hqJIkqFW/St8I9bBiocIj+MUKi44YJeemll5xIQ1RUN2HCBCcSBBXhopeHCI9YHGZk8ODB7qSTTnIffvihQ6SHGgg1h8xAw2dSd6R86PziAxy2M1C23UdIPOFRpaBCyUUye3EYPWKbgF0DDBk2DqhiKHt0t+h+48R3eQaTEydEpzBFiK5ldhl/VDfnpbYFRMQPPfSQW3PNNTWvDFiBKAeRYDTpmMMASvsCU5HE6DG8BwOJiDkMvtR7xOAw4yeffHII1hBH1C8QA1Gc6KNQl+QiyoSBbP75508MQn09/fTTHerOYH8QD4j9E+oxVJswmKgr6WvoO+MMYvydRjqnD2UiGO+XKBMobvcRx4Tw9NWotwoRfRsqOZibPffcU4PDbDDZXG+99aLXGYsef/xx7bvmnHNO7dubm64osgY4qQkjgkGqiIx1kGHQERWGSkewC2AmQEfIwMKMO05IDSC41ySqVLxJ3wr3MNCD+DYzfhgIOGWkPTAkYeaPkerCCy8cDYjYK2AAhb6dTuSiiy5yIirXCk1HT/5LscQP6ar0kTLK7kzDNQxZEtE50Gjz0ZQpUxRHBjlmKhCDpqh1lDEDF3CLU/huNiOCLQ4zezqNeqVS20I+nEVcrMygiFSVSQs2OVxDSRb/6NthCpFSwnxA1HU68Ntvv71gueoLregvMBvZfRTX+SYQ+coF3DFk32KLLZyorRPRoo7DeED0N/wg2ouR05V22WUSxo1c5VJMvxSw/ec//6nMOHYnuQgJ1S677KL9/Q033KDBkEI2N1254m+N9/OPChXKMY2MgQUpAJUEUTvGc8zaHnvsMS1APh0aWUhGGJhQa8CBMiMIP7jPcsQbvlXsEQYEEp2vMhWspEFEt+OOOypjEWY1DKBJhAiRGSUGaHRADJxw3BCz4bQS5Za9rDCUV7bEotg8wKwx68bgT2xPVOWFtIhZJIaSoUPJ9V1mHIEwJmN22b17d8eMpF4J5hUK2IZ8xNtCuNecIx0kUiZWCSDV4xoJJYRoO060zcMPP9yhusEoD2LCgDEe77OihoGQ9ouYuhEGxVAu9GNxolyypSTx5/nOMZRkRs9EhraP9AniPPQFrLJh1cxtt92mTCCqNFYqYTCLuqDRiXJJKhNwKbVc4piyQAFjeFbtJRHS77/97W86kUT6S9uAKp2upLTU072aMCKsnUe0HyckCBBc69xzz62Sg2yJAGIxOkkKlUGHAS/8mOWVI954moo5Z8Bkxo6IFHULjBGVFXEgqz3oNKC4aDweLwOsGMKqXlkMoFTXiHoi7UT+smcYQVIVGl9z8/D000/rK6jqWB4NwaQiWXryySf1HuWf9F1mG4FR4T1UXoiqmWHWMxXTFkrJH8w8qzewreFIW8P+gBk7TDVEnUWih/0HZYLNCMsTIVZswHSwsg1Gj98bb7zhxJhSz5GUtGYKq+Sy1ZBc0xeUQqhvWe3BSgzwREULHXTQQdE5EzXaXlgmTbiwooPyaXSiXJLGDXAptVwCpjAZYvyudT6u+gnPqftMQBmTnnvuOZ1ghmeVTFf4Rj0fZ69F4g888ECd5TJwB+OrBx98UJOCDhRiQKfR0RmGQqehBVUIA002YTzK7Lkl8WbHme+a2SHLd8kPAwadM6omOnakGxADKJQtEeEa5okZPxhgfMY1hH4fyn5Hb6bkj3JC9UG6g2405BUVUykUVCxhtk8czArp3ANzg4TpKbGjidcLvpvdyaDigYEJA0Yp6UnLO4XaQinpRPoB04HKBQLPu+66Sw2mA0OH+BlGmeXSQUoXvoU+HV8vccK2gVkndlDlmH3G407bOfUQJoA+CWNpCJE8tiPZy8eLTTvSwLiDM2waUFdTVkxWIBhxJIJInQKzTn8HBSZRLxr0jwltcAEQDOkDg1ZquQQomXRCqCezCekH0nC+yViGZDtOlUxX/Dt1ey4dUFmpmOW7YkSoS6RYoiYF6FnCJjM0Xa4rDVHTE5apyaDsxfDHC9ev74hzq5zprVS8In3RJaAiivb8RKXkpTJ6YZB0uZd0PpomqfCaRumIPctGZf14tBwsLFUWQzUNI74ZvFjee5nt6BIvWeOuS32JXyqT/oShyZnXSj4gP4WW70pn6KVx6bJmGfQ95cXyNTEMjZImHasXHxXRdfyE5YfCPETL33gm+m9dmsvyXFmJpEuDWR5JONHN6uvCdOi1dNBe1C9e7Gv0WqQpUfQyU/fCKOVdHh4FrvFJMct3C7UFloGLXZEXA8fE3IhUqcnyXVHFaP298cYbvYj0vUg8dAmu2B9oHKJ6iep3qPfhKAxo4nco/0ZZvgsALCVneTTLa8XOxouKy7MsVyYjig91kn5CZtJN8BLbH23j9H25SKRKGob4A91///16D3cCLJvkmTh99GI3pf1JCNcaj8Us3xW1jC6rZSm6SCW8TBZ1+br4uYkgYQk15ZJEwngrvqJyb/JYJpxa3jJBzHhGXyg2f/qeqNd0jAhthaNMrHwx6cqItI4uyrF8l5lQWakYRoQP4nNCZsBaeAy8rMsWzj4jLWIc52XWoWFY3y0GnRnPky4qES+MSGAOOIr0Q/1lyEzFi043SgYDIJVVZpQaXmYoXgz6vEgMvMxqNZzMmryI7vQ5DYLBVOxEdJ07cYtY1ofGQCWuBRXDiJAuBrDgD4TOEF8doRPmOf5AYCKSKDAiYvSX8VjsOrwYeul7vEu84ngr8sVCYAZRkYxpGL7PYBonfJPwLv4t0k7FMCLkIV9boJOj7sgqo8TswvCLhC7jGZ0ndVVm2PquzPC9GJ1GYWCc43U+fp4dV3iJet5IjAjMBD5eAjb0YTDKgWCeecYEKZsCIyJOtLIfRdeBEQk+dMID+odQbsSP754nnngiPG61x2IYETIP4xf8tMAoiqRCJzkBGJh2cEui0PeK7U2Tx/Q1TL6yiQljqANJR/ojqFC6suOtl+tyMCKzkFkBr2yEGJ019iy/LEQYYMlArksEcy2vRDSPXwNpbJGKplbxFvpueE6aMWJFRZFkJU++sXNgiWR4HlZHhKVmIa5aHNkDBuv89ddfv6jPk1dEkeUUDYMPYmpUMknLEhFNY9yKf5GguisqsSkLhF6Z5clJecxOailtITuO7GvipM0Gu5Ds5414jUqUbQWSRPBJeNBWUJdUUw2IfY5MGHT1IfY+jUCMA/QLxfZL4IO9RvYqu1pjldZ0lYoL9jCMz/HFAs2NqyY2IiGR2EQU0tuhhw1udMN7hY6VirfQd8Nz0pzPnTjpyy604IMjxFFPx0oMYjA22XrWOCYYCAf7ovj91nxeSlsohAdxVqL8Cn23NT1nEpVrIlWpfDKBydfHVOq79RRvqbZqlc5jWtNV6Xzni78mq2byJcieGQKGgCFgCBgChkDjIGCMSOOUteXUEDAEDAFDwBBIHQLGiKSuSCxBhoAhYAgYAoZA4yBgjEjjlLXl1BAwBAwBQ8AQSB0CNWdE2LPhKXFQhVOeUhbwsNokeNrEtS9OgLAoNzIEDAFDwBAwBAyB9CNQM0ZEHGbpzqAsPcONN6tncN3OBlrNIXZy7datm77CuyyhY1knBIMjfjz03P4MAUPAEDAEDAFDIH0I1GT5Ln402DQI3wns6MnmW+xNwUZO4q1QdynEXW5ziS3P2Zch7HLIPhhhG/TmxmXhDQFDwBAwBAwBQ6DyCNSEEcEBChukiZtzd8IJJ2gu2dkTx07sD8LmTzAiqGpwtoSkBIdB7OXAvia5HGexaRzvw4igroHhmTlzpkN9U89+OipfDewLhoAhYAgYAoZAbRCoiWomeA9FdRLf5AnvbLJng+72CRwwEGyeJa6rlZFgI7m2bds62eslES1xqazhUc1ss802btq0abobKN71GmFr8kRQ7KYhYAgYAoaAIZBiBGrCiLCDLtuKyz4buqW17Neg0hF2cmWXwrDDbsANd8uy34K6Tec9JCmFbEnYuRePrJ06dXIffPCBwxOnkSFgCBgChoAhYAikC4GaMCJAgPRiyJAhrmPHjm78+PEq5WAPAWxHkITEiX1runfv7mTjO3fdddepamb48OHxIE3OCQvzwbbZsgFak+d2wxAwBAwBQ8AQMARqj0DNGBGyLrt/6uZSbBolu0e6Hj16uLFjx7quXbtmIIPEJNBcc83lZLdah/TEyBAwBAwBQ8AQMATqG4GaGKtedNFFurR29OjRuvvs3HPP7bbbbjv9IcUYOnSo++GHHyJkww614QbGqLkMVkMYOxoChoAhYAgYAoZA+hGoiURkwQUXVMnHiBEjmiA0Y8YMXfUS37p5zJgxUTiMTidNmuQ6dOgQ3ct1wvbw5twsFzp23xAwBAwBQ8AQqD0CNWFEWAXTrl0717NnT3fwwQe7QYMGuYEDB7ouXbq4UaNGqSFr3Lh0woQJuswXo9VddtlFvaf27du3IHpITaZMmaKGrrZqpiBcFsAQMAQMAUPAEKg6AjVhRPCmyjJd/IaMHDnSHXbYYa5Pnz5u8uTJ6gm1f//+GUDg8GzAgAGuc+fOburUqW7w4MHqjZVAqG2C6ib7iHO06dOnu169eqkL+YxI7cIQMAQMAUPAEDAEao5ATWxEyDX+QR555BFVnbz//vsOVQzu2ZMICcq4ceN0+W72CpiJEydGr8DM8AvUr18/NYhFGtKmTZtw246GgCFgCBgChoAhkBIEasaIhPwjxWCfmUKEqiabCSn0Ds/nn3/+YoJZGEPAEDAEDAFDwBCoAQI1Uc0Um8+gaik2vIUzBAwBQ8AQMAQMgfpCoOYSkXxw4c6dPWbihqv5wtszQ8AQMAQMAUPAEKgvBFLNiAAlPkaMDAFDwBAwBAwBQ6B1IpBq1UzrhNxyZQgYAoaAIWAIGAIBAWNEAhJ2NAQMAUPAEDAEDIGqI2CMSNUhtw8aAoaAIWAIGAKGQEDAGJGAhB0NAUPAEDCaqTsVAAAwxklEQVQEDAFDoOoIVMxY1Xtf9czYB8uDQCi7cCxPrBZLLgTA2bDOhU7174eyCMfqp8C+mIRAKI9wTApj9+oTgVmkUMvKMeAlFfft5kisPisEqf7999/dH3/8YTscV6EI2WV6oYUWcmzQaJQOBOgSf/zxR7fwwgunI0GWCkXA+qV0VoRffvnFbbLJJm7llVcuOYFll4gssMACboUVVnCbb755yYmyF2uLwL///W/3/fffu/XXX7+2CWmAr7PNAXsuzTbbbA2Q2/rI4p9//unYYHPXXXetjwQ3SCo//vhj991331m/lLLyfu655xzjfkvIbERagp69awgYAoaAIWAIGAItQsAYkRbBZy8bAoaAIWAIGAKGQEsQMEakJejZu4aAIWAIGAKGgCHQIgSMEWkRfPayIWAIGAKGgCFgCLQEAWNEWoKevWsIGAKGgCFgCBgCLULAGJEWwWcvGwKGgCFgCBgChkBLEDBGpCXo2buGgCFgCBgChoAh0CIEjBFpEXz2siFgCBgChoAhYAi0BAFjRFqCnr1rCBgChoAhYAgYAi1CoC4YkS+++KLZe3F888037r///W9ecIqN98svv3Sff/559Pv222/VBXreyBvoIW7K//Of/zQ7x++9957766+/Et/jPpgXonxx/Prrr460tSYqts7G84wL5s8++yx+q1nnvP/pp5/mbYOlpKtZiUhxYLZD+Prrr5udQjD76aefEt+bOXOmejdOfBi7+dtvvxXVTmKvNMxpJfqlcoCXr9zLEX89xlETRqRbt25uvvnmS/ydffbZEY633HKLW2ONNdxSSy3lFllkEXf55ZdHz3KdPPjgg65jx45uiSWW0D089ttvP8eAFKfmxrvuuuu6pZdeOvotuuiibq655nJ77bWXe+211+JRFzxnQOjZs2feTr1gJCkJ8PLLL7sddtjBLbbYYor1Hnvs4X7++eeiUkdZtm/fvkknSqd+4oknanxgvvbaa7sbb7wxMc5ccXzyySdu2223dQsuuKCmrXPnzu75559PjKNebja3zoZ8sT8HLuT32WefcMsxyOVqf9x/8cUXNezUqVN1qwbcN7dr107L5LLLLovi4aTUdGVEUqcXMAGHHHKI9jWLL764W3XVVXWfrWKy8/rrr2v9v/XWWzOCf/jhh65Xr16O+Nq2bavuzPP1Mfvvv7/2S6QFGj58eM6ypS01AlWiX3rmmWfUjTltIf67+eabI0hXWmmljGeE23HHHaPnY8aM0XbEeMb+UltttZX74IMPoucNfcKmd+UkkR74Z599Nm+U0li8MBwZP2E42HzP33HHHfru5MmTvey/4Tt16uQfe+wx37dvX31+55135oxbJBVeCthLAXvZw8NfeeWVfvbZZ/cy8EfvlBKvdApemBF/++23+3/+85/+qquu8n369PGzzjqrFwbJT58+PYq/0Mk555yj+ZAZf6GgNXv+0UcfeWnMeb8vHZ9fc801/XLLLeelM/WDBw/28847rxfmLO97so+H4gd2lLfMtDPCn3baaXqf4+OPP+6FuVGc33777Shcvjh4JgOCl07cU1eoT7IZk5d9c3waMX/44Ye9MF9R3pJOSqmzxPPVV18pfuAsez9FUYukMKPt0RZPP/10xVk2evO0YWjPPff01H3a0UMPPeSFodOyGTp0qD4vNV36cor/KA/KpRBRR2VC4k844QQvg4xfb731vAw+nn4oH8mgpu2Gcrnmmmsygu69995eJjp+4MCBfuTIkX611VbzlMmMGTMywnFBX0Qc/IS51OfCtDQpW2FCNUyXLl2axFFPN2QPrJr1S/3791cMTz311Ax8J06cqBDKBFOf01/FxzZh1PU5dUr2YPOMc/fcc4+XyZWXjWH9xhtvXE9FkJhWxvvQZyQGKOImM/OyUjGMSPYH33zzTW3Q8UFsp5128ksuuWRGJ7366qv7zTbbLPv16PqSSy7RzlRmctE9mQ0qcxJulBIvnTGdcDZRoWB0dtttt4xHdPSkYdy4cf6dd96JBkARcWunRcchagcvs9XoPZEkeJmJ+qeeekoHkOhBDU6KYUQGDRqkDY/0BjrrrLMUf95PIjpTyo/8L7PMMnqMMyKy46mWlczyotfBZYMNNog67EJx0HkTv0jGojg4h5Gkk04bFcOIlFJnGexgxuaZZx4vkqEMRiQJA9oOuDFJgKi/MIsXXHBBFFw2HNP4GCyhUtIVRZbik2IYEZgN2v6RRx4Z5USkHIohE5VcdN555ymuyy67rIaNMyIw23PMMYe/6KKLotdh8CmX0aNHR/c4kZm0Mj0wPjwPjEhGILkgLwx2MDf0OfVMxTAileiXwOzAAw/UPisXfo8++qiWQ65JOBNjyilMtInn0EMP1XuFGNdc30zL/XIwIjVRzUiBRCQNxfXu3du1adPGySwguo9YmN0v47uSyoDvZBaW065AuFXdvhsRKSSDlnvppZdUHBYiLiXe8G72UTpkJ4Okk04iskeRiqZiVZnJuO22284J86SqIvTs0uk46aQ0GsRzMmiqrYlUSFUjbLTRRm6bbbZRVdSFF16Y/blUXYMj4sWtt946Shflg21HEO1HD/7vBLWNNDoVH59xxhnZjx27OLL9OqJpyo5rjlOmTHHHHXechi8UB7umopLZfffdnUiqVFS+/fbbu1dffdWts846Tb5ZDzdKqbOvvPKKqlUoiw4dOrhZZpklZ1bfeOMNd+6557oePXq4fffdV8OhCpXO1YkkMnqPsmVn2tAmS0lXFFmdn7z//vvadlFHBkL1sfzyy+dVA6IiRPWIqD+b6CvoJ0466aTo0fjx4/Uc1VggygCVDGrr448/PtxOPKJKo8+kb5WJXWKY1nSzEv0S+NCeaEcyyXK33XabmzBhQoZ6nee0C5G+ulGjRjlMBOL2adQLiH4IEibCCeOp6jf60UanmjMiFCqdJQ0GnSgEc4KeP7vhYPdBI8QQNReJuEsHw8MPP9yJ6kD14VdccYUGb0m8ub636aabKhOC0SQVj44bJgQGSKQh7ogjjtBKe/fdd7t+/fq5Y445RqMivIhKlRmRWY92PuiHRcLgsElhYGDL67QSaUWPHR/gKB8ol5Ep4cEkDHbZeYNxgGT24EQc7bbYYgutA+DGIAgVigOjSpG2KBMrs05H+XB9//336/v19ldqnaXeiTpF2wB5puPLRX//+9+1E73++uujINhBicTDcQwk4mmHzQmDb6npCnHV+5EBCUrqozBGzEWUCX0d/VQSzTnnnE6kIg7bEZEeOlG/KLMB0xHo0ksvddhBiIrMiVQm3G5yFNWcEwmMY4IgarYmz1vjjUr0Syx6eOutt5yYCLgVV1zRHXTQQToBY6LJxAiiPBibRP3isIGkb6fMRFqgz9daay3HRJmxCIaGeBgjLr744oix14AN+ldzRmTAgAFqUNi9e/eoCGA0KFSMfeLETBdiVp2PYAgY8JhNU4kocDrilsab9M0gfWEA5HswEMw+NtxwQ2VIjjrqKH0NI1UGVyQ/EIZNGAYySFIZRRyrlRhDWzp68l+KJb5GXoU/UcHlLJ9cDBRMi4j7c6YurOygExaVgMO4C8kGxqrUE6iYOJhpwNSMGDFCO3IYXAyEP/7445zfTuuDUutsPpzjecVYbuzYsSoNQQqSizBKRUqHlBKJVanpyhV/vd0PzEZ2H8V1rvpPHostFyZn9CcQg2tg7rlPH8OAFvoeDZTwBxMD43j00UcnPG2dtyrRL4lKSPtqJKswoEjDYPSZNIo6WoGkr8a4Hiki44+oiFS6Rb9DGXz//fc6DhGYcg1ly/hk5FxudroK6CDOomGJ0ZeuQgmfZMCGQmGF+4H7RK3BgI0YM5DouCMLZTrUp59+WiuAGJW6M88804nRqxNjMg2eL94QX7FHGBCI2TdMBStp6LThkN99911HJYZgLJII1QarekgnzBM/Ki3ErDOtRBllM0qhfLJnicXmQYxdNSiqKmYP0CabbKKrElBj0fgLUYjjpptuUokK4RGZMngiaSkmjkLfqObzYtpCS9KDNA4mPTDMSXGJgbU7//zztQ3B3EGVTldSOtJ0L+Q/e0UebaDU+h/PH/UXuu+++xwqYET+lAEDG30fbYRBLPQrnCNJiTM6DIasTGNlW6NQJfqlVVZZpQlziZqdFUr0Kddee6178sknMyBmNRVqNVngoNKUJ554QidWaAAwRYA5QdLLjz5O7Hgy3m+0i9zT0yogwcyXQSKuh+azc889t0oOsgc6RI3o06hsiOhZNhp+iCh5LoavUcoRc4YOFjuOYuKNXi7yZNKkSdoBIGpD3YLYjQ4ANcWxxx6rlY+oconG6XDC8lIqIxU8cNlFJqEmweD+k8qHxIBFKQQjB2EnEwgpGLYdzHSKIRhCllbLKpEo+JZbbqnnxcYRvZiCk0rU2ZAt6uSQIUOUYZNVReF2dAwMCgPgAQccoLO9wOhVMl1RAlJ8Qv2H6HPixHWp9R9fPNgQhKW4xMvEBnE//RcTNyY3DGrUcfo3VC8QkphwzjU2DIQVY9oM9SnPWjNVol+CaUCayjEQ+KNuYdJIO6FvyZbUIxWHCINahzEB2x6IssNWCEKK0uhUU0YEY0QGGVkC2qQcGNApvPgAToEFcSQzZAwTww99HUwHxqPYlwRCMgHBsECF4tVARf4xO4TrZZZCxyyraNTYEj0w+lsMyYJhX5i5hKjDNTNSDJnogNDBwy2HAT6ECe+k6Ugjo+G98MILUbJCg2IWVgpRdqhe4nHSiOmAMeQthkgXHXkwCuMdWb2krxYbRzHfqWaYctbZeLqR1iHyR92SRIj0YZTx7YOYnxl3nCqVrvg30nqOYSqDSajzpBOV4Eciui+1/ssKKvUbEjfaZ4BDzUj/hTEr/UX8h/0H9I9//CPDDoQJEpSrbPVhK/yrRL9Ev04fHaRUwAbDCcYwI/jlwZg4brhMGAxWkVBhK8IEGkYzroph4goF5l4vGvVPBvqykjScgn5E+CA+HVhHLYN44vfDcicRpXsZiLxwj7rUSRiPxPDcZJmmlKMXUaQunRXjOy8cspdG7EWnq++VEq9IX3Q9vxiJeX5i1e6lgXsZNHVJl3Q+Grd0Svp9MUj1MhvxDzzwQLRMVVZ9aBgxVNMw+GYQXaMXwyddBnjvvffqUl/iJw/8whp1fbGKf+RHGLi8XxSRtC4JZFmsMJRemDJdJioiyeg9liqCUxJJo9Y8xpfvEo6loSyLZJ29iDt12bQ05ibLFwmbFIcwLpoOGQz0HXy/yIzSS0fiWR6cNipm+W6hOiszNfUXwhLcJBLnbonLd0O81NNsYvlvqN+h3odj8OUT3m9OG83+ThqvRSValB8RmTTocmb8qgjz7MUw2rMsN9QzUQ9r/RfpRJNsio2N1v/48l3qrqh1vKiedZkndUOkgxpOjN2bxMENkVbp8+zluyw3Zem2TGYS36vHm8Us361Ev0RZsfyZssF3C+OMSFkVd8oIEhtHvca3DOVNm6DfohwgMZbX57iBYLkrdUYYFC92gjoOaKA6/SvH8l0kDmWlYhkRBiAG21ydJ4kS4zgvsw4NJ2L7jPX1uRIN8yFiSn2H+HFkJcaqGcGbGy+MSGAOOIr0Q51ksQ5cDMmiuGGuqHj4bSCccLpeDMvU0ZHMHjUcvgJgjHjOQC3W2F7sRLTSck/0kdEAS8dfCyqGESFdNDg6XtJNp4cfGDrTQDJD0GfhOn4MTITM9uK3vRh6ebE6V2d2xEvjxzdAEuWKQ+yOlHHkfQZT6oDY3iRFUfN7xTAiJDJfnaXzJa84rkoiMbLzsgKpyaOrr75a34MhziYYZ+JM+sXjypeu7Djr5bpYRoQBCl8qASP8dcA8B2LQ4pks5wy3omNgRMS+ILrHCU7icBQY4hQ1tBdpR0aY+AX4ExYHg3HCgZ1IB+K36v68GEaETFaiX2KyhR+rUC4wJnfddVeEKf1ecBxHGBzdycrNjHKhvxLJSBQHjhZFzRbFUa8n5WBEZiHzAlzZCJEVVsVxHX1LIg/6OYy1ENsXQ4i/WA2A0WpQyWS/V0q82XHkuiZujFhlJp5hPBbCY4SKZT1LI4NxmXRMangWlsCGsLU4IrKXhqVi4mK+jzganFkFVC7CCBC1AeVeKrGyAXyxJ0oriVRBXbAHFV6+dFayzub7bqFnaU1XoXTneo5KFJVvsWoN2gpi92A3kive5txHHYPIH3uT0Ec05/3WGBY7DfrNJHumpPxWol+iT0L1S9+eRBgrs/qPVZHZqkzC44aAdMnETf1FJcVRb/cwsaCfbkk/W9NVM8UAjh4Wq+XmEBUAXx75qJR488UXf0bcVMRchGFtdqHF/TXkei+t93M1ypakF71pS5gQvl2O1QstyUO5361knW1JWtOarpbkqTnvsiQ/LMtvznv5wgbD7Xxh7Fl+BCrRL7FiMx9hNJxv7IGpzDc25Iu7NT+rqbFqawbW8mYIGAKGgCFgCBgChREwRqQwRhbCEDAEDAFDwBAwBCqEgDEiFQLWojUEDAFDwBAwBAyBwggYI1IYIwthCBgChoAhYAgYAhVCoOaMCCsbnhKf/Th3KWUBD6tNwt4OYaVF2CCtQphZtIaAIWAIGAKGgCFQJgRqxojg8ZTdcbFCFodL6o0Q1+345m8OsSkaux1CvMsSurB5GgyO+PHQZ/ZnCBgChoAhYAgYAulDoCbLd/GjwUZM+E4Qhzy63TWbvYUNgVgCxR4LzSUYG7Zo5n2IfRa4Z2QIGAKGgCFgCBgC6USgJowIDlDYp0TcnLsTTjhBkWGL5Z133lnXYIs7Y2VEUNXgIA1JCQ6D2MuBHXRz+eZn0zjWcMOIoK6B4cEpEOqbevbTkc6qY6kyBAwBQ8AQMARajkBNVDPBeyiqk59++inKBQ6s2PCM3T4hGAicUonrXGUkxLW0a9u2rZO9XqJ34idszEV4VDOyR4ObNm2abtOM18/4ZkPxd+zcEDAEDAFDwBAwBGqHQE0YEXbQZVtx2WdDt0aW/RpUOsKOqeyeGHbYDbDgbnnYsGHqNp33kKQUsiVh5148snbq1EndvSe52w3x29EQMAQMAUPAEDAEaoNATRgRsor0YsiQIa5jx45u/PjxKuVgDwFsR5CExIl9a2R3Q4fb4+uuu05VM8OHD48HaXJOWJgPtl9mvwYjQ8AQMAQMAUPAEEgfAjVjRIBCdqrVzaXYNEp2IXQ9evRwY8eOdV27ds1AColJINnV0MlutQ7piZEhYAgYAoaAIWAI1DcCNTFWveiii9R3yOjRo3Vnybnnntttt912+kOKMXToUCfbwUfIZu8+iTFqLoPV6CU7MQQMAUPAEDAEDIHUI1ATiciCCy6oko8RI0Y0AWjGjBm66iW+pfyYMWOicBidTpo0yXXo0CG6l+tklllm0W2Xcz23+4aAIWAIGAKGgCFQWwRqwoiwCqZdu3auZ8+e7uCDD3aDBg1yAwcOdF26dHGjRo1SQ9a4cemECRN0mS9Gq7vssov7/PPPXd++fQsih9RkypQpauhqq2YKwmUBDAFDwBAwBAyBqiNQE0YEb6os08VvyMiRI91hhx3m+vTp4yZPnqyeUPv3758BxGabbeYGDBjgOnfu7KZOneoGDx6s3lgJhNomqG6yj71793bTp093vXr1UhfyGZHahSFgCBgChoAhYAjUHIGa2IiQa/x9PPLII6o6ef/99x2qGNyzJxESlHHjxuny3ewVMBMnToxegZnhF6hfv35qEIs0pE2bNuG2HQ0BQ8AQMAQMAUMgJQjUjBEJ+UeK0b59+3CZ84iqJpsJyRk49mD++eePXdmpIWAIGAKGgCFgCKQJgZqoZooFIKhaig1v4QwBQ8AQMAQMAUOgvhCouUQkH1y4c2ePmbjhar7w9swQMAQMAUPAEDAE6guBVDMiQImPESNDwBAwBAwBQ8AQaJ0IpFo10zoht1wZAoaAIWAIGAKGQEDAGJGAhB0NAUPAEDAEDAFDoOoIGCNSdcjtg4aAIWAIGAKGgCEQEDBGJCBhR0PAEDAEDAFDwBCoOgLGiFQdcvugIWAIGAKGgCFgCAQEyr5q5tdff9W9YJ555pnwDTvWGQK//PKL+/333x1Ho8oi8NNPP7lnn33WsUGjUToQ8N47ysX6sHSUR0iF9UsBiXQdv/rqK8e2LS2hsjMic801l1tkkUXcmmuu2ZJ02bs1RIBNBemIV1tttRqmojE+/e2337o11lgj2i+pMXKd7lz+9ddf7rvvvrM+LGXF9MUXX7gff/zR+qWUlcsff/zhGPdbQmVnRGabbTZNFMyIUX0i8PPPPzv257EyrHz5zT777LoPEu3GKB0I/Pnnn45ysfqfjvIIqQgSESuXgEg6jjAhLe2/zEYkHWVpqTAEDAFDwBAwBBoSAWNEGrLYLdOGgCFgCBgChkA6EDBGJB3lYKkwBAwBQ8AQMAQaEgFjRBqy2C3ThoAhYAgYAoZAOhAwRiQd5WCpMAQMAUPAEDAEGhIBY0Qastgt04aAIWAIGAKGQDoQMEYkHeVgqTAEDAFDwBAwBBoSAWNEGrLYLdOGgCFgCBgChkA6EKg5I4K3PLx45iPC4Ha5OcQ7eEfMR8XG++WXX6rbejyO8sMbJt7kjP4XgR9++MH95z//aTYc7733nsOLZamEa2Ecr+UiygrnVK2Jiq2z8TzjCOqzzz6L38o4L4QjZQSWuYgyIF2NSvQFX3/9dbOzD2a5+r6ZM2e677//Pm+cvJ+vj8MLaa7480bcSh7Wol+iLnz88cfut99+y4niN998k7ffyvliK35QM0ZkzJgxrl27duqjfqGFFnJbbbWV++CDDzKgvuWWW9T9NX7s8aZ3+eWXZzxPuhg2bJhbcsklNd62bdvq+xMmTMgI2tx41113Xbf00ktHv0UXXVS9x+61117utddey4i70AUDQs+ePZvNWBWKtxbPX375ZbfDDju4xRZbzFGGe+yxh8MrazFEWbZv377JAMf+HgsssECT38033xxF+/DDD7vlllvOLbHEElrOffr0yehwR4wYoXWAMiNtBx54oKNjr2dqbp0NeWXPoJ133tnts88+4VZ0LIQjneqJJ56oZQuWa6+9trvxxhuj98H0mGOO0bKija6++uouXk5RwFZ6wmBzyCGHaD1cfPHF3aqrrupeeOGFonL7+uuva/2/9dZbM8J/+OGHrlevXo746L/WX3/9Jn1MoT5u2rRpbsstt1SPvcSx7bbbuilTpmR8pzVf1KJfoq3QD80777xu+eWX12PXrl0zGNQHH3zQdezYUesL/eV+++3n2JvNSBAQSUNZSaQHXjbxyhunFJpfYYUVvOyx4e+55x4vnZuff/75/cYbbxy9N3nyZC9uY32nTp38Y4895vv27YtIxN95551RmOwTmR1oPFtssYWXwchL563fWXjhhb3MHjR4KfFKp+CFGfG33367/+c//+mvuuoqL5XOzzrrrF4YJD99+vTspOS8PuecczQfMsvMGabWDz766CMvjTlvMqQT9rKfkBeGwEtn6gcPHuylEXphzvK+JxIKxQ/sKM9PP/00I3z//v31/qmnnurPPvvs6Ddx4kQN99JLL3nZIM5L5+off/xxf+6553pxx+0vvPBCff78889rucigoOkShsdLZ+x79OiR8Z20XAgz4GkP+aiUOkt8IunwwhwqnptvvnnGJwrhSODTTjtN3+UI1sRFub399tsa18knn6zPu3Tp4h944AF/8MEHa9nQpuuZKA/KpRCBi7i39ieccIKXiZVfb731vDDRXiSmeV8VZlvbDfX/mmuuyQi79957e5no+IEDB/qRI0d62e/J03/NmDFDwxXq42iXwhD6+eabz9OG6Ac32mgjv+yyy3qRamV8q94u/v3vf6e2XxLmUNvCEUccoW3l9NNP17ZCm4GoE8J8eJlw+0ceecRfeeWV2m/JpLTeiqFJehnvGfdbQjVhRCgIGuEdd9wRpf3QQw/Ve6ER77TTTl4kGxmdNA1ss802i97JPrn44os1jnfeeSd6BPPAt4YPH673SokXRqRz585RnOGEDpdBcLfddgu39Ciiaj916lQ/btw4T1oC0yEicu20SA+dgsxWo/dEkuBffPFF/9RTT+kAEj2owUkxjMigQYMUV9Ib6KyzztLGx/tJRGdK+ZH/ZZZZRo/ZjIhIL/RZ0vvc69atm5fZuRfxZhTkyCOPjMrnoIMO0nhlZho9h0nhm4GZiR6k4KQYRqSUOstgBwM2zzzz+AUXXNBnMyKFcBSxvnac+++/f4QSdXSDDTaIBk8GXSYUcYJhp2zrmYphROinaPvUvUAi5dB6xkQlF5133nnaRmAMqJNxRgQGb4455vAXXXRR9DoMPuFGjx6t9wr1cUzaCC+SrCgO+iLuHXfccdG9ejwphhGpVb9Eu1hnnXUyYN199921jojk0F9yySVa7pRFIJFUahsL1/V6LAcjUhPVDKIr6NVXX9WjFICTRqiiSERWkBSY23XXXTM205EB38nsMKddwZ577un+9a9/ZezOGGwI2MSq1Hj1xYQ/mb04qYBOOolI5yfMlYpV2bl2u+22U3E14jj09NLpOOmkNCZE2TLjUVsTYcKcDBZOZi5um222UXWDDJ4JX0zPLcqHstp6662jRFE+2BMIQxXdi5+gtpEO3AlT6M4444z4o+j8lVdecR06dHDCzLjbbrvNoVajfgQCa2EKVexM/RFGz11//fXu0Ucf1SDYnYCtSNfCK2777bfX8+eeey66V08npbQFcBTmQ8sCPEWKlJHlQjiCFTYGqAmEgXRcc0TELwOaw26K8kQdFyewFgmh6snj91vb+fvvv69tN55/VFf0bSKVy5ldnqHuQgWZTai26CdOOumk6NH48eP1HDU2VKiPo/5DIqXSI3+ojITxcTJgRPda60kt+iX6PPr2oUOHZsDK2CMSRG17Ip3S9kRZQLQlkUqqeULGSw16URNGZK211nIUzBVXXKGDzoorrqiFIty+Mh4yI3GffPKJ6vnj5YJNAMaHGPskEdupy+wxeoQOm0GKQR5moNR4owgTTjbddFNlQugAMI4SFZIyQlQyBkkR1elgevfdd7t+/fqpTp1oCE9nATMisx7tfNAPi4TBYZMiKoe8hmgJSanqLdKKHjs+wFE+UC7DRsKDyb777puYVhruW2+95WRW56gTIt1QRgeGjkGPH8Z36FXpmNGfU+abbLKJk9mSxgkTwiBJ/QkUBoZc9SaES+Ox1DpLvXvooYeirezjzFwxOMJMQCK9dKIacKLu1PZIHabjxfZAZu9NmM56xro55Q+jDGGPFifaQD7DXcrksssuc6KKjr8Wnc8555yKK7YjIj10ogp2xx9/vNZzAhXq40J64pMBypIfk4DWTrXol2A2GF9ENRfBy0RA1Jlqn0WZQpQ5befwww/Xdsn4xBho5FxNGBGswRmoIThDflCQXjBgwHBgtBgnGAqomAZFIXfv3t1RIa677jo1WixHvPH0cB44XFExaD5gIES/6zbccENlSI466ih9BSNVOvQ2bdro9UorreREj+tEjO1gwEQc60TMrRWaWRb5L8USXyOvwh+Dfa7yyWXJD9NCo81FMBNgwqyajp5ZJwMqzJmofaKVH0hUYE6efPJJd+aZZzoM/2BaIAyIaexcP/HEE9qRX3311fosnyW7BkjhX6l1Nh/OYQVNPhxDGAbECy64wGFcLqJmNVYdMGCAQ8LINbPsU045RY00KYsw665HrJtT/IHZyG4DXOeq/8Sfr1zi34eRCP0ig2sSc5/UxyFRpY8RGwQnagptOxjUwoi29jIBv1r0S/Fy4xzp/i677KL9/Q033JDxmMkqkzHKlvGOcTA+ScgI3EgXAkJZSSpCQWNVDHUEYy+id/02BlaHHXaY3kO3L0tB9RybgziF94SR8aIS8DLYR7+gQyU8+tu//e1vajgng1AURTHxRoFjJ7lsRAgSDPZkJq9viKRD78lqEi9iWs0HecVIFeLItQyWes0fel1sG9DjSycSvfPGG29EYap5IkxAQaMw9J/Y7MQJHS55k4Eqfjvx/KabbtKw2TYi2YGls1VjvVVWWcXLsjh9R6QhHqPXQBhL8l1h3PQWxoMYtHJPOn5/7LHH6lGYxPBKao6FbERKrbPxDGLYG7cRKQZH7BzAL25XgN3I3HPPrYbCxC/MSmTzQ1iM8YKt15tvvhlPQl2dF2MjEmzPsAuJk0jn1MA+fi/pXBhMxTduI5IU7t5779Vw1Ok45erjCCNqSjWip0z4sQiA/hLj8nqmYmxEatEvxTEVVZr24YwZosaMP8o4Z8zr3bu3ls+kSZMyntXbRd3aiCB6R4QphnDSTpxDdIXeFELXL52dcvXZEgH8HWCXgGQBMT9LM8Mv2IAwc0BMxoxCVtioWFMjlr9i4g1hiz1KJVJRKqoE1C3o45mJkD8ZAHUmSVxSuRKjlAFZbR4QaWPXgK6R2X/aieWcSeVDusGiFGKpKWvwOQaSVQkOVR5SNNQuzCixS4nPLFmqCFE/IGaDqGaQiJBGpCpISYKeXQPVyV8l6mwxOCKpg5hhB0IiKQZ5OuvkHvGIAbAuL+UI1thIUDbYJLRmov5Doc6FvHJdav3HFw92T3HJBRI+JKXY9ATK18cRBhsqpIvYVzH7ZkkxM3GWvLd2qkW/FDBFjbnjjjvqmIRNFfaDgagXwpyHSx3zgrQ8XrZRgAY7yS0nryAQMBM0uqCK4VMM4hDrsCEGdBiW+AAOkxJUIdhWYJgafojqsR9gkEJNMnbs2ERbhELx6seL/MNfBcZk+AVhwJBVNGqQhB4YwyV0u7IEWWND1RKncI19CJ03HZAsXXXCJUcDfAgTfy8t56ieUJHF/SYEg1H8g5RC4AcWMGeBaMAwezAjMJvYzyDOxHYikKxOUv0rBsIwn+jWKQ/qBP5nUEFQDvFBNbxbD8dy1lnyWwyOdKKo0uLlCzOIqhOjaggja2yiYE6wISHeu+66S58HNaoGbIV/GKYygQp1niwikkelWGr9F+mY2j2h2g2EqgH7DiZcUKE+jrAiDda+EwadNsEAiL+jYLQd4m6Nx1r0S+DIeAPTSFuFCUH1HieYDtpU3HYNfydQKNt4+IY7L7cYqBjVzP33368iKZbEItaRQVt9irD2XewCNElhia/MZr10frocTQrHC+ORM8mI4AlDvJdeemnGTwavkuNFzMZ6/hCnWLV7WdGj4n+WKqLKgKRT0u+Lkyf/7rvvqm8FnpOmIOIWQzW9Rs1EXlHJSAfuEcHK7EW/QXh+tVpuSn4K+RERg1H1d8ByTWl46q9ABh8v+mjFgj+WKoJTEiWpZhBX40OBZdv4axEHQF46U8Ui+HWQgU6vWX/Pd1mvz5JH/LpA0tC9DBBeDGI9/jf4Dtf4JEkjFVLNkOZCbYFl4PgrYIlgEmWrZghTCEfC4NOCuomfH7HH0XaFqiuoQUX/rW2A52B9wAEHaFmEtkYc9UjFqGbIF6J1lkfTf6FSFsN19deBCgt6+umntf6LZEKv439JqhlUztR9kTSpawPqhjDPWt/F2F1fL6aPE4mwR5VJX4l/E/oufJyg5qxnKkY1U4t+CfWpMB5aTviWCeNEOIpxuPZl9Omo7HHrIIso1A2BMCGRj6t6LZtyqGaQOJSVimFE+CADBDrlMOiuvPLKXkTpGWnB/wODCGEY0OPr6zMC/t8F/iVCfNnHa6+9NnqlufHCiMTjk9m2J73ow8WQLIoXuw/8YDAgEx4HX9gl0AkIp6zh8BVA5eM5AzW2Jehv6eC5RwcSBmkqci2oGEaEdNHBBn8IdMg4M6MzDcTgSJ6SKORRZnAZj2EusD3hPX4wJgyacRLjY3Vcx3PKAqYk7pNFvHt6kZzp+2ANMyvSt3gUqTkvhhEhsfnqLJ0vWIj31MR8yUzY4+QvmwrhKOJ89duCY0HiZ5DET0MgOmDqe2jHIiVQp3/heb0ei2VEYCbw8QI2/LDFgGELBDPN/VGjRoVb0TEwIvF+iYcwdNhyhDhxZvaPf/wjeq+YPk7U0l6kgeoQkv6TNNLv1DsVw4iQx2r3S0wYQ3klHUWVptDDfIgxcxRWVv35emfayVg5GJFZiEjAKxshSme1Az4MChF6exn0nAxiqm9OCh/sBmTgz1gqmhS2OfcqFS9pIG7UQ+h247YMIX2oFbCsx1V8eC4dk66UCUtgQ9haHNEvI4ZneWwxRBkiXmTFS7kIPTi6cjBMIuoOWwJgi4AaJolIF3rxgHFSmFrfQ6+MC/agwsuXnkrU2WJwZLk05UEbTCLSRbtvLXYhqERR+eLHqBiiraBqDnYjxbxTKAwqFlbFYG9Sav3FZgcbq9aiJsN+jH4zzf1SoXLFHIF+C5UxfWZrIFRR9A3YbZZKs5f6Yjneo4Fl69Ky4xWO3omUIPt2i68rFS8JI+58+UKXnl1oMCX1SrmYhZbkB0PIfETdKVQvKpGufGmq9LNK1NlicMRuKxcTQp5JV2thQkopQ5bLhmX5pbyf9E4wFk56Vuy91jLQFZvf7HCVaP+F+qXsNGRf43sHux2jTARqYqyamQS7MgQMAUPAEDAEDIFGRcAYkUYtecu3IWAIGAKGgCGQAgSMEUlBIVgSDAFDwBAwBAyBRkXAGJFGLXnLtyFgCBgChoAhkAIEas6IsGfDU7KXCA7NSlnAw2qTsLdDsO5nJYCRIWAIGAKGgCFgCKQfgZoxIniVk/XyumxXHC6pN0Jct8seDs1CjY23unXrpu/wLkvowoZdMDjix6NZ8VlgQ8AQMAQMAUPAEKgeAjVZvosfDfEwp74TxFGTuuRmTwTZBE9dnLODJe5ym0swNuy6GnbEPPLII6Nt0Jsbl4U3BAwBQ8AQMAQMgcojUBNGBAco7FPC5mSyq6Tmkn0QcOzEGmtxZ6yMCKoaHCUhKcFhEHs5iJfSaD+abHjYNI73w1bcMDw4BUJ9U89+OrLzadeGgCFgCBgChkBrQaAmqpngPRTVCZs4BcJpEptsnX/++XoLBkLcSjtxXa2MBBtrtW3b1sleL+GVjKO4VNbwqGZkjwY3bdo0h+dKHPvEN9jLeMkuDAFDwBAwBAwBQ6BmCNSEEWEHXdkgy8k+Gw6mRPZCUOkIO9Cye2LYYTeggrvlYcOGqdt03kOSUsiWhJ178bzZqVMndamLRzsjQ8AQMAQMAUPAEEgXAjVhRIAA6cWQIUOc7BTpxo8fr1IO9hDAdgRJSJzYt6Z79+4Ot8eyUZeqZtjaPR8RFuZDNuTS/RryhbVnhoAhYAgYAoaAIVAbBGrGiJBd2blTN5di0yjZedf16NHDjR071nXt2jUDDSQmgdjESXardUhPjAwBQ8AQMAQMAUOgvhGoibHqRRddpL5DRo8erTtLsnuqbFutP6QYQ4cOdbIFeYQsG3PFCWNUNuIyMgQMAUPAEDAEDIH6RiBzhK9SXtiWGsnHiBEjmnxxxowZuuolvqX8mDFjonAYnU6aNMl16NAhupfrZJZZZnHm3CwXOnbfEDAEDAFDwBCoPQI1YURYBdOuXTvXs2dPd/DBB7tBgwa5gQMHui5durhRo0apIWvcuHTChAm6zBej1V122cV9/vnnrm/fvgXRQ2oyZcoUNXS1VTMF4bIAhoAhYAgYAoZA1RGoCSOy1FJL6TJd/IaMHDnSHXbYYa5Pnz5u8uTJ6gm1f//+GUBsttlmbsCAAa5z585u6tSpbvDgwQ5vrBBqm6C6yT727t3bTZ8+3fXq1UtdyGdEaheGgCFgCBgChoAhUHMEamIjQq7xD4KPD1Qn77//vkMVg3v2JEKCMm7cOF2+u+KKK2YEmThxYnQNM8MvUL9+/dQgFmlImzZtwm07GgKGgCFgCBgChkBKEKgZIxLyjxSjffv24TLnEVVNNhOSM3Dswfzzzx+7slNDwBAwBAwBQ8AQSBMCNVHNFAtAULUUG97CGQKGgCFgCBgChkB9IVBziUg+uHDnzh4zccPVfOHtmSFgCBgChoAhYAjUFwKpZkSAEh8jRoaAIWAIGAKGgCHQOhFItWqmdUJuuTIEDAFDwBAwBAyBgIAxIgEJOxoChoAhYAgYAoZA1REwRqTqkNsHDQFDwBAwBAwBQyAgYIxIQMKOhoAhYAgYAoaAIVB1BIwRqTrk9kFDwBAwBAwBQ8AQCAiUfdXMn3/+6WbOnOm+/vrr8A071hkCP/30k/v111+tDKtQbnj9/eabb6JtCqrwSftEAQTw9ky5WB9WAKgqP7Z+qcqAF/k5xnvG/ZZQ2RkRdrz9/fffbW+XlpRKjd/97bfftCN+7733apyS1v95fOSwxQHtxigdCHjv1XeR1f90lEdIhfVLAYl0HRnvW9p/zSKNzqcrW5YaQ8AQMAQMAUPAEGgUBMxGpFFK2vJpCBgChoAhYAikEAFjRFJYKJYkQ8AQMAQMAUOgURAwRqRRStryaQgYAoaAIWAIpBABY0RSWCiWJEPAEDAEDAFDoFEQMEakUUra8mkIGAKGgCFgCKQQAWNEUlgoliRDwBAwBAwBQ6BREDBGpFFK2vJpCBgChoAhYAikEAFjRFJYKJYkQ8AQMAQMAUOgURAwRqRRStryaQgYAoaAIWAIpBABY0RSWCiWJEPAEDAEDAFDoFEQMEakUUra8mkIGAKGgCFgCKQQAWNEUlgoliRDwBAwBAwBQ6BREDBGpFFK2vJpCBgChoAhYAikEAFjRFJYKJYkQ8AQMAQMAUOgURD4f14l4RFobd+xAAAAAElFTkSuQmCC)"
      ]
    },
    {
      "cell_type": "markdown",
      "metadata": {
        "id": "2S6Y25vvupeS"
      },
      "source": [
        "![Screenshot 2021-10-31 at 7.51.33 PM.png](data:image/png;base64,iVBORw0KGgoAAAANSUhEUgAAAiIAAAD9CAYAAACBQxz5AAAYfGlDQ1BJQ0MgUHJvZmlsZQAAWIWVeQc8le3//3WffY59jr33Jnvvvfcm4VjHimOGEkkZJRKiVJJZqRQqEWkoZfSQJJGMSqGiMvK7jXqe7/P9v/6/1+96va77ep/P9bk+61r359wAcI34RkaGIRgBCI+IoTqYGvC7uXvwYycBASAADZAD8r7k6Eh9OzsrAJff7X+WpUEAbbTPZTZk/Xf//7cQ/QOiyQBAXjD2848mh8P4LgCoU+RIagwAmA26UHxM5AbeD2NmKmwgjAs2cNAWrt7Aflu4ZZPHycEQxr0A4Gh9falBANCPwHT+OHIQLId+Fe4jRvhTIgBggT3H6JCDff0B4LKDeaTDw3dv4GQYi8P8kTCugLGa3z9kBv2HfL8/8n19g/7gLb82C86IEh0Z5rvn/xia/72Eh8X+1iEKV9pgqpnDhv9wDIdCd1tuYFoYz0b42dhuxBrGPyj+W3EHAEEIjjVz3uJHcJOjDeH4AVYYy/n7GlnCmBvGJhFhNlbbdL9Aiok5jOGYIRIoMeZOMGaH8eGAaGPHbZ6z1N0O27oQjYFUQ/1t+iNf6qbeDV2jsaHO+tvyvwQHmG/LR9InBju5wpgAY+E4iosNjOlhLBsd6mi5zaOVGGxo85uHGuuwYb8wjB0CIkwNtuQj4wKpJg7b/Fnh0b/9RZ4NppjbbONrMcFOZlvxQXaSfTfth31B9gZE6Dv/lhMQ7Wb12xf/ACPjLd+RMwERzo7bcn5Exhg4bI1FESLD7Lb5UYIBYaYbdEEYK0XHOW6PRbnEwItzSz4qMDLGzmnLTlRiiK+F3ZY9qGPAChgCI8APYuHqB3aDEEB5Nts0C//a6jEBvoAKgkAAkNmm/B7hutkTAT8dQSL4BKMAEP1nnMFmbwCIg+lrf6hbTxkQuNkbtzkiFEzBOBxYgjD4d+zmqIg/2lzAO5hC+S/tvnAlw/aGwXWj//9N/039m6IPU6y2KbG/NfIz/ObEGGOMMGYYE4wEihOlg9JEWcFPPbgqoNRQ6r/9+JsfPYXuQ79FD6DH0C93UdKo/7LSGozB8k22Y+H3z1igRGGZyigDlDYsHZaMYkVxAhmUEqxHH6ULa1aGqYbbdm9Ehf9fsv/Dg3/MxjYfXg6PwLPh9fDi/x5JL0mv/EfKRqz/GZ8tW/3+xNvwT8+/9Rv+I/r+cGv5b07kYWQD8iGyHdmFbEE2AX5kG7IZ2Y28s4H/rK53m6vrtzaHTXtCYTmU/9Lnu61zI5LRcnVy7+VWt/piAhJiNjae4e7IPVRKUHAMvz58OwTwm0eQZaX5FeQU5AHYuGu2jq+vDpt3CMTa8zeNfBAA1XkA8Mt/08K/AnAF3vv81n/TRLzh7YcBoHqKHEuN26KhNh5o+JRggHcaB+AFQkAc9kcBqABNoAeMgQWwBU7AHXjDUQ6G1zkVxINkkAoyQDY4Bk6AEnAGnAfV4BK4BppAC2gHD8AT0AsGwCt49UyCj2AeLIEVCIKwEB1EgjggPkgEkoIUIDVIBzKGrCAHyB3ygYKgCCgWSoYOQNlQPlQCnYNqoKvQTagd6oL6oJfQOPQe+gItI5AIWgQzggchitiBUEPoIywRToidiCBEFCIRkY44iihGlCMuIhoR7YgniAHEGOIjYhEJkDRIVqQAUgaphjRE2iI9kIFIKnIfMgtZiCxHXkbeguf5OXIMOYv8icKgSCh+lAy8gs1QzigyKgq1D5WDKkFVoxpRnajnqHHUPOoXmg7NjZZCa6DN0W7oIHQ8OgNdiK5E30Dfh/fSJHoJg8GwYsQwqvBedMeEYJIwOZjTmHrMXUwfZgKziMViObBSWG2sLdYXG4PNwJ7EXsS2Yfuxk9gfOBocH04BZ4LzwEXg0nCFuFpcK64fN41bwTPiRfAaeFu8P34PPhdfgb+F78FP4lcITAQxgjbBiRBCSCUUEy4T7hNGCF9paGgEadRp7GkoNPtpimmu0DyiGaf5SUuklaQ1pPWijaU9SltFe5f2Je1XOjo6UTo9Og+6GLqjdDV09+hG6X7Qk+hl6c3p/elT6EvpG+n76T8z4BlEGPQZvBkSGQoZGhh6GGYZ8YyijIaMvoz7GEsZbzK+YFxkIjHJM9kyhTPlMNUydTHNELFEUaIx0Z+YTjxPvEecICFJQiRDEpl0gFRBuk+aZMYwizGbM4cwZzNfYn7GPM9CZFFicWFJYCllucMyxopkFWU1Zw1jzWW9xjrIuszGw6bPFsCWyXaZrZ/tOzsXux57AHsWez37APsyBz+HMUcoRx5HE8drThSnJKc9ZzxnGed9zlkuZi5NLjJXFtc1rmFuBLcktwN3Evd57m7uRR5eHlOeSJ6TPPd4ZnlZefV4Q3gLeFt53/OR+HT4KHwFfG18H/hZ+PX5w/iL+Tv55wW4BcwEYgXOCTwTWBEUE3QWTBOsF3wtRBBSEwoUKhDqEJoX5hO2Fk4WrhMeFsGLqIkEixSJPBT5Liom6ip6SLRJdEaMXcxcLFGsTmxEnE5cVzxKvFz8LwmMhJpEqMRpiV5JhKSyZLBkqWSPFEJKRYoidVqqTxotrS4dIV0u/UKGVkZfJk6mTmZcllXWSjZNtkn28w7hHR478nY83PFLTlkuTK5C7pU8Ud5CPk3+lvwXBUkFskKpwl+KdIomiimKzYoLSlJKAUplSkPKJGVr5UPKHcprKqoqVJXLKu9VhVV9VE+pvlBjVrNTy1F7pI5WN1BPUW9R/6mhohGjcU1jTlNGM1SzVnNGS0wrQKtCa0JbUNtX+5z2mA6/jo/OWZ0xXQFdX91y3bd6Qnr+epV60/oS+iH6F/U/G8gZUA1uGHw31DDca3jXCGlkapRl9MyYaOxsXGI8aiJoEmRSZzJvqmyaZHrXDG1maZZn9sKcx5xsXmM+b6Fqsdei05LW0tGyxPKtlaQV1eqWNcLawvq49YiNiE2ETZMtsDW3PW772k7MLsrutj3G3s6+1H7KQd4h2eGhI8lxl2Ot45KTgVOu0ytncedY5w4XBhcvlxqX765GrvmuY2473Pa6PXHndKe4N3tgPVw8Kj0WPY09T3hOeil7ZXgN7hTbmbCzy5vTO8z7zi6GXb67GnzQPq4+tT6rvra+5b6LfuZ+p/zmyYbkIvJHfz3/Av/3AdoB+QHTgdqB+YEzQdpBx4PeB+sGFwbPUgwpJZSFELOQMyHfQ21Dq0LXw1zD6sNx4T7hNyOIEaERnbt5dyfs7ouUisyIHIvSiDoRNU+1pFZGQ9E7o5tjmOGX+u5Y8diDseNxOnGlcT/iXeIbEpgSIhK690juydwznWiSeCEJlURO6kgWSE5NHt+rv/fcPmif376OFKGU9JTJ/ab7q1MJqaGpT9Pk0vLTvh1wPXArnSd9f/rEQdODdRn0GdSMF4c0D505jDpMOfwsUzHzZOavLP+sx9ly2YXZqznknMdH5I8UH1k/Gnj0Wa5KbtkxzLGIY4N5unnV+Uz5ifkTx62PNxbwF2QVfDux60RXoVLhmSJCUWzRWLFVcfNJ4ZPHTq6WBJcMlBqU1p/iPpV56vtp/9P9ZXpll8/wnMk+s3yWcnbonOm5xnLR8sLzmPNx56cqXCoeXlC7UFPJWZlduVYVUTVW7VDdWaNaU1PLXZtbh6iLrXt/0eti7yWjS82XZS6fq2etz74CrsRe+XDV5+rgNctrHQ1qDZevi1w/dYN0I6sRatzTON8U3DTW7N7cd9PiZsctzVs3bsvermoRaCm9w3Int5XQmt663pbYtng38u5se1D7RMeujlf33O791Wnf+ey+5f1HD0we3Huo/7Dtkfajli6NrpuP1R43PVF50tit3H3jqfLTG89UnjX2qPY096r33urT6mvt1+1vf270/MFf5n89GbAZ6Bt0Hhx64fVibMh/aOZl2MuF4bjhlVf7R9AjWa8ZXxeOco+Wv5F4Uz+mMnZn3Gi8+63j21cT5ImP76LfrU6mT9FNFU7zTdfMKMy0vDd53/vB88Pkx8iPK7MZn5g+nfos/vn6nN5c97zb/OQCdWH9S85Xjq9V35S+dSzaLY4uhS+tfM/6wfGj+qfaz4fLrsvTK/Gr2NXiNYm1W78sf42sh6+vR/pSfTdfBZBwRQQGAvClCgA6dwBIcN5G8NzKBbcLEn75QMCtCyQLfUSkwzdqDyoDbYJBYp5gi3EReCuCBA2WZpa2n66JvoqhkrGeqZnYQXrC3MsyxPqGbYb9I8cC5zLXGg+CF8tH4KcTIAoShViF2UXYRNnFuMV5JPgl+aUEpYVlRGXFdkjLyckrKqgoaijpKhurmKuaq5mom2iYaBpq6Wtr6WjoKunJ6osa8BgyGxGM1o2/mkyZvjTrNm+xqLY8bpViHWLjZmtsp2wv5sDlyOiEc0a6QK4IN5Q73oPRk8NLeKeMt8QuYR8+X04/FjLJnxhACmQN4goWpEiHqIaahLmEUyKSd+dHVkSdpRZH58XkxGbGZcUfTSjeU53YmvRqL9gnnbJr/8nUVwcE03cfbD+EOSyUqZBlkO2YE3gk8WhebvWxu3nD+YsFTCdkCi2KAosPnCwruVnaf+rd6cUz2LMc5yTLtc7bVvhdiKk8WFVYXV1zs/Zx3fDFD5d+1uOusF0Vv6bb4H496kZm4+mm+ua2m123em73tjy509F6ta30bkr7rg6Ne8R7U50379c+OPUw+1FCl99j8yey3fTds0/vPzvVE9lr0Efqm+i/9jz1L/sBkUHU4PsX3UP1L/OHY165jKi95ny9Ojr6pn3swnjm290Tzu+0JoXhVbY0/dfM9fdFH1I+hs2SP5E/R85lz99YmPuq9+3cEul78U+p5WerKb801tf/Mf8KyBlUPtoSw4J5jW3A5eCDCEY0krQMtKt00/RDDEOMb5jeET+RvjIvsayxrrCtsf/iWONc4vrKPcczxTvC189/X+CmYKVQtnCYiJWopBhe7IN4l0SNZJYURdpSRkaWTnZuR5/cdfkihWRFspK9soGKgqqAGlFtXf2zxohml1ajdrlOjm68no++hYGCIacRwui98TOTK6Z5ZtHmThYqlmyWK1ZvrO/Z1Nrm2SXZBzo4Ouo7yTsLuJBcsa7Lbh/dRzy6Pe941e8863181yGfZF+qH4Xs6+8R4BRoH2QTbEmxDDEL1QyTDReIYNlNE4mIXI36Qf0ZvRaLjiPGCyVo7HFKjE4qTG7ZO5VCs58vVSZN+4BNut/B+IwjhyoPt2UOZ33PYT6icNQ+N+LYkby6/EfH3xWsF3IWKRfbnQwtOVh65lTz6d6ymTO/zjGXS5zXrrC7QK6MrTpUXQyfc911c5eIlxXrHa9EXc29VtfQeX3kxpcmTDPHTclbGrctWtzuBLbGtKXcTW0/0HHwXkbnofuHH2Q9zHl0pOvI4yNPjnTnPM1+ltlzqDe9L7V/7/O4v6IGdg9GvogZSnp5cPj4q/KRhtcPRl+++TQO3hInBN/JT+pMmU/7zZx9/+mj8mzSp9bPv+Y1F+K+XP76bpF9yfJ7yo+Gn9Mr3KsOa1m/Orfn3xihj9yB/IxqRx/COGLFsQu4m/gMggMNN80o7Xm6cHp1BgRDO2M6kwWRgdhLOsZsy8LA8pQ1i82EHWJv5ojgFOIc4srm1uH+xFPKa8b7ja+M34z/s0CBoIbgiNBeYX7hVhFvkVXRYjElsW7xAPFVieOSUpJtUo5SU9KpMiIyQ7I5Owx2fJOrkvdUoFNoU4xUElDqV05TUVAZV81V01b7pF6qYa6xqHley17rl3adjrsuVveGHlmfqH/XINKQ37DXKM1YyXjapMTUFn7vuG0eZSFl8c6yzMrDmtX6uU2+rYMdyW7Q/qSDt6Ow4wenq86JLsauDK7DbpXu0R4GnrSeg15ndgZ7K3iv7Lrvk+fr5Sfht0Tu9D8e4BuoGIQKGgyupaSEOIVKh6HD3oTfiijeHR/pGqVB5Y1GRc/GDMS2x9XHlyXk7klNjE8KTfbfu3OfW4rTfodU+zT7Aw7pTgfdM3YeCjgcmhmdlZJ9OCf/SNnRmtzGY/fy+vJHj38+gSqUKPIqPnbyfsnKKdnTfmUnzjw+u1qucD6gouRCTxWqWqsmvra+7uMlycsh9bVX5q6pNOy/3t3I0RTW3HmL73ZKy9tWq7aWdvmOi51S968+NHg0/Dihm+9pb8+RPqfnogNg8OPQu+EPr8EbkfFdE7VT6JnEj+BTxTz5q+6S2k/n1eKN+d/6T3CjYFQAOHEIgI3/eRxqAMi5CIDYHgDY4NzTjg4AJ3WAEDAF0GIHgCy0/9wfEJx4EgAJ8ABJoAbM4PwyDM4pi0A96AITYA1ih5QhRygaOgE1Q6/hnE8a4YJIRdQjRpEMSANkPPIScgrO0rxQpahXcCbmg76A/oRRwaRinmF5sOHYNhwJR8G14znxsfh+giKhiLBKQ6Z5SqtOW03HTpdDj6BPov/OEMuwxJjIBDFlEVmJFSQ1Ui9zCAuW5QKrMesU22F2KfZejhhODs5WLn9uGu5rPB68SN5LfJ5wRtAnkCtoK8Qk9Fy4SMRTVEB0SuyieLSEhiQk2SWVJ+0Jr8552f4dLXKV8vkK+xQpSo7KGip8qpDqmFqLeoFGiKa2Fr3WiHaNToyurh5Or0+/weC6YZPRLeNWk3umXWY95oMWo5bTVgvWK7Y4O1Z7UQc1RysnsnOyS7Frq9uMB8lT3ytyZ7n3gA/BV98vidzs/z1QLSgpuD2EEOocVhG+uNsssixqLlorJjt2NF4p4diehSTX5Af7tFNaUy3TJtIzM7QPg8y+7CtHTuXm55kdRxbcL8wrDigxPCVdJnhWpFypwqYyqrq09sklUK961abB/UZwU/LNE7ev3elvW+rg7TR7EPPo7ONn3Ws9Mn07nx8duDtEGiaPXBqdHeeeUJvUm5Z/T//hxezRzzvm2hfMvnR+U1gsWVr+Yf/zwvLCqsZayq+7m+fH1vwT4fmXAKrABLiCELAPFIA60AlGwQ+IBMlBNlAEdAxqgF4iAEICzvLTEFcRb+E83gqZjmxDrqC0UQdQ3Wh2dCC6EYPHeGMasYzYMOwTnDQuF7eI98I/IMgSimiQNFE047TOtI/pDOla6bXo78BZ7CNGe8ZROE9dJxaQZElPmSPgzLOZ1ZeNhq2ZPZCDleMh5x4uaa5x7iIeW14cbwfffn4DAYzAU8FCIV9hWeFVkW7RMrEocWMJLokvko+lzkunyHjKau6QkGOXx8uvKswpTii9UH6sclv1olqJ+iENqqanlqG2pA6jzqLusF6rfr3BVcMGoybj2yZtpp1mj817LV5YvrGatl6wWbHD2bM6iDmqO1k7+7vsdS1xu+k+7LHmJbjTwjtm11mfHj+IrOIfEVATOBUsSgkJuRq6HG4aUbh7JkqLuje6LRYVZxVflDCVqJ50NHl6n3FKdSp92p4D0/B50nvYIvNhtllO91GH3LG8lOO8BXcLA4vpTzaX+p8mlT04u7dc5fyXC1erYmu06jAXBy5fuJJ8zeu6SiN908TN67cP3LFpY7873lHTSX2g9QjbNfik5un+Hq8+neciA0yDj4acX06+SnzNPHptzGl8daJ60n2aYabrw+FZy8+Mcy8Wzn4NWVT5jvjRs1y6GvRLcXv+kQADaDdPAHGgAq8ANxAODoIz4DYYhve/IGQBxUIV0CCCBmEE7/wOJA5pjzyD/IKyQFWh8Wgq+g3GCd7tNtgBHBn3E19IUCdM0pyk1aMdoUui56fvYohnlGScYDpD9CNJkL4zP2QpY01i82TX45DiZOei4UZwr/Is867yAwEs/AbKIywroi3qIBYkvl/ipOQNOO+el2XcoSDnKr9PoUKxR2lFRULVXS1fvV+TWctdu0JnTk9b/4jBGyNF42yTcTMt80KLL1Z21pdsae3C7B87SjplO39wtXCr9cB7UrweeovuOugz6WdIrgxABvoH3aOIhmSEzoRbRdRHskQlUMdijGIvx7Mn7NvzMckN3qcqKVWpHGlH01EHkzO+HPbIvJq1nuN0pOro8jHHvMvHCQWUEw+KpIpzTs6Vup66UyZ6Jg8++/3Pd1/QrKyqZqpJrJ266HippV70Su7VpQbv6w8aZZqONc/fsr99+Q6hNbCttZ3YEXCv8T7qgd3D0kcTjyWeULorn473cPba9x3sv/787QBhUO6FwxD15dHhmlf3RgZeT40uvFkdh95iJzDvMJNgcnnq0/TozNP3zR/KPx6ejfhk/VlqDjv3Zr55IfOLx1eJr1++tSymLRl9x3zv/JHyU/PnwvKFFY9VwmrjGvkX3a9r6+4b8x8dqKiweX1AtAYAoEfX17+KAoDNB2Atb319pXx9fe08nGyMAHA3bOs70+ZdwwjAWa4N1Hfly+d/f+PZ+gb1jzzm3y3YvIk2tcI30WYL30rgfwCfV+VGkfSwXAAAAFZlWElmTU0AKgAAAAgAAYdpAAQAAAABAAAAGgAAAAAAA5KGAAcAAAASAAAARKACAAQAAAABAAACIqADAAQAAAABAAAA/QAAAABBU0NJSQAAAFNjcmVlbnNob3TF9zUvAAAB1mlUWHRYTUw6Y29tLmFkb2JlLnhtcAAAAAAAPHg6eG1wbWV0YSB4bWxuczp4PSJhZG9iZTpuczptZXRhLyIgeDp4bXB0az0iWE1QIENvcmUgNi4wLjAiPgogICA8cmRmOlJERiB4bWxuczpyZGY9Imh0dHA6Ly93d3cudzMub3JnLzE5OTkvMDIvMjItcmRmLXN5bnRheC1ucyMiPgogICAgICA8cmRmOkRlc2NyaXB0aW9uIHJkZjphYm91dD0iIgogICAgICAgICAgICB4bWxuczpleGlmPSJodHRwOi8vbnMuYWRvYmUuY29tL2V4aWYvMS4wLyI+CiAgICAgICAgIDxleGlmOlBpeGVsWURpbWVuc2lvbj4yNTM8L2V4aWY6UGl4ZWxZRGltZW5zaW9uPgogICAgICAgICA8ZXhpZjpQaXhlbFhEaW1lbnNpb24+NTQ2PC9leGlmOlBpeGVsWERpbWVuc2lvbj4KICAgICAgICAgPGV4aWY6VXNlckNvbW1lbnQ+U2NyZWVuc2hvdDwvZXhpZjpVc2VyQ29tbWVudD4KICAgICAgPC9yZGY6RGVzY3JpcHRpb24+CiAgIDwvcmRmOlJERj4KPC94OnhtcG1ldGE+CqRflqsAAEAASURBVHgB7Z0H3BRF8vcbc06YFRUT5oSeWYIoYsJ4BlCMiIrpzJ5ZMWdPfRFRTkQk6Jk9BFFBFEUxnQExK+asmL1+61tez392ntnd2efZZ3efZ6s+n+fZmZ6enp5f93RXV1VXtfFCzsgQMAQMAUPAEDAEDIEqIDBLFZ5pjzQEDAFDwBAwBAwBQ0ARMEbEOoIhYAgYAoaAIWAIVA0BY0SqBr092BAwBAwBQ8AQMASMEbE+YAgYAoaAIWAIGAJVQ8AYkapBbw82BAwBQ8AQMAQMAWNErA8YAoaAIWAIGAKGQNUQMEakatDbgw0BQ8AQMAQMAUPAGBHrA4ZAFRB466233GmnneamT59e0affd999+tymPvT222935557bsFixowZo8+aOXNmwXxNuZilHk0p3+41BAyB5kegjTk0a36Q7Qn1hcCwYcPcqFGj8r70oEGD3FNPPeV69uzpmKy33XbbvHnLfWG//fZz9957r/v222+bVHSPHj3cG2+84WCo8tGAAQPc6aef7j7++GO35JJLNsjWp08fN//887t//OMfOddeeukld+aZZ7p+/fq57bbbLuda8iRLPZL32LkhYAjUFgImEamt9rDatAIEfv31V/fzzz/rH5PqPffc47766qsobb755msFb9n0V/jxxx/d9ddf7z755JOcwmDiwGyFFVbISbcTQ8AQaJ0IGCPSOtvV3qqKCBx44IHu3//+t/7tueeeWhMm15A299xz59Ru2rRpbsSIEQ0m5K+//tpNnjzZ/f777+711193Q4cOdT/88IPeyySOZANVyxdffJFTHlEbnn32WXfbbbfpM7/55puc65z89ttvbsKECXo/jFMavfbaaw7pDtIb6pCF3nnnHb3nP//5T9Hsu+22m6OuDz74YE7eBx54wK2++uputdVW0/QPPvhAGZP777/f5atrKOC///2vYoYUJtBnn32maTCHcfrwww+1rhMnTlQ84tfs2BAwBCqIAKoZI0PAEGgeBE466SRiOXlZ9ec8QFb8mr711lv7Nm3a+Nlnn93PNttsfuDAgVG+kEfUG5p3lllm8d9//70fO3asF2ZG76PsRRZZxD/22GN6nzAMfqeddtL8Ic9CCy3kH3/8cb3eu3dvP8ccc/guXbroM7m/bdu2/t13342eyzM6duyoZXCdv0033dTLhB7lEZWJX3HFFaNzDo466ijNO+uss2rdll12WT0XpiAnXzgR9ZCfc845vTAkIckLc6D3/P3vf9c0UV9FZVKPBRdc0AtDF+VP1oO6k+/kk0+O8ogqTNNeeOGFKO3oo4/WNLAP7yeMX3TdDgwBQ6ByCJhEREYhI0OgWghgY4Hk4csvv3Tt27d3N954Y4OqXHDBBe6iiy5yU6ZMcb/88ovbd9993TrrrKOGrs8//7xbfPHF3WGHHeaQBjzxxBMq5Tj22GOdTMqqEjrjjDOcMBZRuUgVhElQSQpSEZ59xx13RNcPPfRQJ5O2u/baazXPhRdeqFIR7D3yEVIN8u+yyy7uvffeUwnOvPPOq9llOEu9bYEFFnDdunVzwlhFko4gHdl11131nvPOO8/xjj/99JOWSaIwa6nlZU2866673DXXXONOOOEEh9QJg1ekPpdeemnWIiyfIWAIlBEBY0TKCKYVZQiUisBVV13lOnTooEabW265pU66yTL++te/Olnhuw022EAnzM8//9z17dvXrbTSSm699dZzXEe98/bbb0dGoa+88opDTSLSEPe3v/3NBaaAsjkePHiwgxHgmRiMMtlDMDOoe2B0+vfv70Ra4k455RRlXJiw89FDDz2kl0SS4ZZZZhm36qqrOgxjIZE66G/av913310ZJhgiCPXL8ssvHzFOa6+9tr6jSIzcYost5rbaaiv3yCOPpBWVOe3uu+92IrXRHT0iYXH77LOPqoLCO2QuyDIaAoZAWRAwRqQsMFohhkDjEIjbi4jKJLWQvffeO0p/8cUX9fjKK690nTp10r+RI0dq2owZM5SpEXWQe/TRR5UZgNFgZ06cmISZ2APFn8t2YrbbiiomXNbfTTbZRO1TsLdII2xCRM3i1l133bTLedN23nlnJyopZUCw4Rg3bpwL0hBuguno1auXW2qppZQpgkn6448/8paX5QIGxEhpkN4EDHkvbEaMDAFDoPIIzFb5R9oTDQFDoBQE4swKEgsIVcuaa66ZUwyqHejiiy/Wra8wKGwVZgssBplbbLFFTv60kyC9wBg2ThjJwsDk2/HDxA6DgFFrnMmJl5F2jMQFZgADVerJczFihT766CM9bteunRsyZIjbeOONndihuH/9619pRWVOo5685w477BBJa3bccUcXxzlzYZbREDAEmoyAMSJNhtAKMAQqh8Aqq6yiD1tiiSXciSeemPfBMCWoc8Q4VdUqTORZGBG2zCIhefLJJ6OyYTLYvYMKaZ555onS4wc8Twxi1bYkSFPCDp94vrRjGI8jjzzSXX755Wrvsvnmm2s2bEe+++47d8QRR7ju3btrGjYy+WxOyCAGvZov7kQNSVGcwBAJTteuXd2GG24Yv2THhoAhUAUETDVTBdDtkYZAYxHACRo2GEg6kHw8/fTTDmNWjFMhpAUbbbSRGl7CTGDkCsFgZCGYEByJ4awMGw8kFahK2AJ8+OGHR0Vge4JvlGeeeUbTgj2I7EZx2Fpcd9117pJLLtFrhRgHMlA+EgrUMrxfYCZkZ48es+0ZmxeMYdkGjdSE+kHJesAowVygjkIKhLO0c845R/OGfzA9EAa+lIcaC4aNdzUyBAyBKiAgg4SRIWAINBMCYftufOsrjxJbB902KhNm9GRhAHQLb0hIy8O1qVOn+jXWWEPvlyFDt++KNEFvk8nXr7/++tE18WjqZcL1slNGr7N9l+28cRIjUL/XXntFSSLJ8OL11LMNl/K5HrbThkwyaXsxetXrb775piafddZZWn/uEcbHi5GsXhcVS7gt7+9mm22meYWJyckjO350ezFl8i633nqrvq+4x9d8afUQlZRfeumltTyxLfFgw/1iXxOVLY7UvKiZNJ1rYAZ2RoaAIVB5BMzFu4xCRoZAS0Tg008/VUdcSEiCbUd4D1QaSCyySkLCffFfjEfxesoulmT55EP9gXSC3SyBOKdewV4lpDflF+dr1ANbEQj1DHVjxwuUVg/sQHCEVuj9sbchD7uGxBeLlmX/DAFDoPIIGCNSecztiYaAIWAIGAKGgCHwPwTMRsS6giFgCBgChoAhYAhUDQFjRKoGvT3YEDAEDAFDwBAwBIwRsT5gCBgChoAhYAgYAlVDwBiRqkFvDzYEDAFDwBAwBAwBY0SsDxgChoAhYAgYAoZA1RAwRqRq0NuDDQFDwBAwBAwBQ8AYEesDhoAhYAgYAoaAIVA1BIwRqRr09mBDwBAwBAwBQ8AQMEbE+oAhYAgYAoaAIWAIVA2Bskfffe+99zRSp4XUrlqbNvnBuNTGRfZcc83V5LKsgMIIEKFWYrakulAvfKddbS4EJNKGuo2XWDTN9QgrtxEI2LjUCNAqcMtPP/3kNtlkEw0F0djHlZ0RgQFZbrnlXAgF3tiK2X3VQwBm8uuvv3brrbde9SpRJ08m4ut2223nJMBcnbxx7b8mTDgRf3fYYYfar2wd1fD999/X+Ek2LtVWoz/11FOuqYIHU83UVptabQwBQ8AQMAQMgbpCwBiRumpue1lDwBAwBAwBQ6C2EDBGpLbaw2pjCBgChoAhYAjUFQLGiNRVc9vLGgKGgCFgCBgCtYWAMSK11R5WG0PAEDAEDAFDoK4QMEakrprbXtYQMAQMAUPAEKgtBIwRqa32sNoYAoaAIWAIGAJ1hYAxInXV3PayhoAhYAgYAoZAbSFgjEhttYfVxhAwBAwBQ8AQqCsEyu5Zta7Qq+OX/eWXX9TLIRAsscQSbpZZGvK0n3/+ufv999/dwgsvXDZ38V9++aV6IV1ooYXqBv3vvvtOXY7ne2Fckc8///z5LmdO/+KLL7QdF1lkEYeb808++aRg23311Vfuv//9r1t00UUzP6M1ZQQfcFpwwQXdPPPM0+DVcN///fffu3K1Dw/48ccf3bfffpv3m2tQiTpLwA08/TgfzTnnnI7+3VSi33/66adaFmUyLkFt27ZNLRo36N98841baqmlUq/Xe2LD2aPeEbH3z4TAI4884pZeemn9e/TRRxvcwwCMq3/yjBkzpsH1xibssccebscdd2zs7XrfRx995Hr16qWTCAkwS5dddpkbN25ck8ptrpvPPffcCOuAefz3wgsvLMujd9ppJ7fnnntqWTAZPOP//b//l7fs/fff32277bZ5r7f2CyuvvLJi9Le//S31Vffbbz+9fvjhh6deb0zikCFDtEyYoMZSsr8nzxtbbi3cN3XqVMUn/n3EjzfeeOOyVJMxhHJpD+ivf/2r4/vJRyNHjtT8b7/9dr4sdZ1uEpG6bv7yvDwf2dZbb51T2D333ON+/vnnnLRaObnxxhvd7bff7m677Tat0rRp09yJJ57o7rjjjlqpYmo9rr/+el1dJy+utdZayaQmnxPw8MADD3RrrLFGk8tq7QXcdddd7rrrrsuJF4QU66GHHtJXR2pSS5Ts78nzWqprY+tywAEHuK5duza4vRySwwaFSsL222/vfv3117RLOWm11hdyKlfFE2NEqgh+a3j0kksu6f71r385Jsl44DYmdaLKzpw5s8Frfvzxx+7NN990iDTXWWedSG2D+BLRM+LNzz77zE2fPt2tvvrqqaJURKOvvvqqRglmIo4/mwciFmeA5ZfJdLHFFtN6UB/SIESrqHiCWBUpAGJvRO1QvjK4RlBAnsnA9vrrrzvqTj3mmGMOLjcLserKJ/rlgdQJQhUWCHFwmzZtoncK6R9++KGKsNddd93UyL+oGpC0JFVgrMS5l/vSCBxeeeUVbVvabrbZGg4x5Wj/tGdXI43+DyZIBbt16xZVgW8CSnv/fP2KSYp+j6oLFcMLL7zgFl98cbfiiitG5cYPWJW/++67+g0lIwUj5WD1PWPGDF2Jr7rqqtrOBPSL93f6fPw83v/zlUEdSvlW43Wu1DGSDyRS+YhxBqkt+PJ9QCycYCBJixPt9Z///Ef7fL7gbgcddFD8Fj2mvOeff96tttpqDa6FBNTXjFPLL7+8a9euXUiOfvP1FTJUYwyKKlbuA+n8ZSUZ3P2TTz5Z1jKtsMoiIIOblw+o4EMlaizLPH/MMcfo79ixY6P8MrD52Wef3R9yyCF67e6779ZrMmH7DTbYQNO4lz+xL/FPPPGEXpdVZc59XJfJ3l9xxRVR2Z07d/bLLrusF+YiKkcmAy9MieaRAdwffPDBXgaX6DplnHfeeXqd3/BsfkUlk3Pes2dPX6wMCqIenTp18jLZRveL/tc/99xz+pys/+6//34vA37B7Mcff7w+Q3TfBfNJKG4vq8CcPBJB1ku00ihNJqecOi+zzDL+5ptv1uvx+3kW+Fx55ZV6TRg436VLlwhX3rV9+/Z+/fXXj8oeNGiQF+YzwoOyZYKOrpej/aPCmvGA9qBdihHvKpOdF8bP9+3bNye7RFT2u+66qxfG0e+77756rVi/EiZEsRNJlBeJVITjNtts42Xi1DL4RmgX2jX0Y/q3LASi5w8dOlTrFK7zu+WWW3qZeD1tEE8XSWbOOf0fKlQG17N8q+QrJ0lU8KLj0uTJk/V9brjhhoKPvvzyyzUfY1UgUbNomiyANIl+0Lt3by/MpKYLc67nsgjyH3zwgaaJ6lLz8t1JxPlQlI435AdrsZ/zm2++uR7LAkzzCIOhfSfeFqLm9MyfULG+Qp5yjUGU1RRivg/1bmw56MnLSsaIlBXOqhRWCiNy77336mAbH4iZkPgIucaHFhiRXXbZxYsUxN933336IQ8bNkw/cj5AKAyyTO6jRo3yzz77rF977bX1HlnZax4+Psrce++9vawY/S233KKTo9g26HVRuej1k046yb/zzjv+scce08mSwZpBR1YR/uijj44GBc4l5LueX3PNNZ4JuFgZPCheDwmD7UUC5EUa4kVPrPXI+q8URuTMM8/0F110UYM/WcXq4+KMRHg+E5ZIL/SUyUxWxl5sd/zgwYP9a6+9phPaAgssoANJ/P7AiAQmkAlXVoP67ClTpnjwph0CI8JgBPPXvXt3XYiIREDbTgwDFXcqUI72D+/VnL+lMCKyElbGV6QYEUMpq1zt16KyzGFEivWrwIiA66WXXupfeuklf8QRRyjOt956q75y+EZgAsePH6/9G6Ycxp/Ji/4Mg0RbwhTDeIiNipZx0003eVEf5PR3kU7lnNPuxcqgIqEehb7VcrdRKYyI2JE1+E74dsSGRKtViBF54403NM9xxx2nTMQpp5yiONImtA1tUYgREbW05hMJpo5hF1xwgY6H3BsYEcrmnG+aRZRIH71IV73YwOmzi/UVMpVrDNIHNuGfMSJNAM9uzY9AKYwIkziSDwZiBkKIVRaMghi06scWGBEYFCbsQCK61IkMZgMKg5vo1kOWKE3E/ZrGx8cHG55F4kYbbaSTHsePP/6458OPXz/rrLO0HgzKUDhnZQOJ2FWvh7plKYN6MMkysAcibc011wynmX5LYUSY6NP+3n//fX1WnJEID48zIpMmTdL3hMkLRFszKMLUxe+PMyJMzKzQjzzyyHCbTrpxicg+++yj0ismi0AwgQy2YbVejvYPZTfnb6mMyMMPP6zvGaSCrJJFVaJSjLhEpFi/CowIEpFAMDVgePbZZ2tS+EZg5gOFCZL+LWozZWJefvnlcDnq32L0rGnJ/p48z1JGqEehbzWqQJkOSmFE0r4T0mBAoCyMiBijKsMdr/4ZZ5zhWUAVYkSQgHFvfAwKUk0YEfoXC7LNNtssXnTEdNLmxfoKN5ZrDMqpRCNOysGINFTgSq83MgRKQWCvvfZystpSPbkwFU4mIIcBX5LkA3WiBnDsfEEvig0I24CTBpEdOnSIbg362rgh2CqrrJKje+dcPga9Z6uttlI7E5HQqO2GDM6R7YQMAFG5hQ6yliETsZOVaFQUdcV+orkIfXIhG5Fiz8XmANpwww2jrOimReoRnacdyApR9eei4okui4RJy8HWByIP9gcyuEZ5OIdoZ6hc7a+F1dA/UVmpDRJG29iJYB8l0h+XtCfI2q/iNgXYi8gEqt9J/JWxvwlE/4eweeDbEZWQwyAb+wTaRSZwvR7aQ08K/BOVWuYyin2rBR7TrJewWevXr1+jn8G3hg2OLHJyymAHG1ToO3/xxRfVXixuHxTfrUN7MO6JxNeJmjkqH3sQiO8la1+p9BgUVbbMB8aIlBnQeiyOgZhJWFbaymBgwCk6cie2HzlwyOrcCaevWz5hXkRv6k4//fSIUQiZMWINxCCcpOQAH7/OACQrd2VumBQOO+ww99ZbbzmxDYlnK3ictQx2ltQaJScbJqdAgRHD0DdODIpxzOPXOA7MFoaPcQpGjqTJQkoNd8NAHc8XJqtytX+87Fo4ZsLZfffd3ejRo52smN2ECROcSCwaVC1rvyrUFqHQfN8AjCGMJowiOzl69OjhWByInUm0XT2Uke+3lDLidU37VvM9o1bSwzdBfbJ8KyyIihmk870kGRWMggPxrUCMf2KDEpKjXxYHWftKLY5B0YuUcGCMSAlgWdZ0BBj0wkDMjgmOkx8rFvxISsS41V111VVaEB+12HGUxRlXqJnYPqgFOquSsCIJfhySkzTnIQ/3hwm6lDLCc2vhl8lJbLSiqohoWKVCwYlSWDmLQV+0E0PsEHQ3QCF/ISuttJLunhE1nBO1lpbP7iMYTVFF6TnMBj4cWEEy8UHsNCA/z69U++uDq/APxhoMxf5Idy0x8SepEv3qzjvv1J1fooaLpFPBz0+y/4f+HuoZzkspI9zb0n4DIycqyGiXjKizotegz7KgEvuvKA0GAqlg3H9IdDF2ACOIhFjUN9FOGL6dQCussIIy/uwei++2of9MnDhR/ZFUoq+E+tTCrzEitdAKraAODMRiqe4Qaaativl4ETPzoYkRnToRE1sOx8dYzpUU20rF4l9XpKh8xD4lcsoVRJ9sTYWuvvpqFUGzzRhCncQAlKUMvaHC/8SYNtWDJ9iyVZH3ZdIBf1ZbosfX7aCBEWFyROwvNiGKO0wEbcAWVJyTya6B1DeifZAsiS2CE+NJVTtce+21OX4TYDBRSVCOGArrZHzyySereHvgwIHq/6QS7Z/6AhVIRJQOjvQ31IJBihR/dCX6FdvhoREjRqi6SAyStc1IC1vpk/2diREK/T9LGXpDDf/DiSJbkdOIPhzUwTijo7+KAbaqs+L5+/fv78TAVfu+2Lw5sedy4BkWUvG88WOYCzFoddxz2mmnKTMTfMqQj4UbDCvfE9+t2NipJJlvSHYtabtVoq/E61z140bYphS8xXbNFISnRVwsxVgVQz1IVlteJjzPVlqMsSCZFNXQjt0z0C2yw0VW15rGljZ2mMjHrueiPokMU7HkDyTibr2OMSXENjm2wsWJLXYymGoSFugyKai1u3xcXrxfqrEkx1jNQ+wWEb8iWu4555yjdRc1jp5jbJqljLR6YKDL80qhLMaq4mxN68Y7pP1hZAphZCi66CgPxnDiQTbaNUMesc2J8giDoQZvMmhzSY3nwAGKG6tyTvsKM6JGmNRBfFtoO3Ts2JHLSjL5aftzXQZb3TKKMXOgcrR/KKs5f+m/tEsxwmgaQ+1AoS/T7wPFjVWL9auAuUx04Xb9pZ1OPfVUPQ5GovFvJOxOYzeTSDX8AQcc4NkJRTuwew1DV5nYfGgr2jLe35PnWcpIq0fyW815iTKclGKsmvadhLRg3H3UUUdpPyWd8YAdLByHXTPiK0UNSEVqqun0+fPPP1/fRNSUmoZhMgSe8XFp+PDhXlQsmgdDb3bQUDbGqhBl4/qAnXaki+8izSM+afR6sb5CpnKNQfrAJvwrh7FqG54vQJSNcMiDTl72VJetTCuosghgTCVb+FQM2RxPRh1DfJogmWiOZyBylQFWn5NWPrph9Las0kOcHO7BMVTQuxYrI63cUtPEH4va07BKKhehnkGKEQx908qlfbENYRVfCqFOw4gvrKLT7sWWhLaNO1aL56tE+8efV+ox/QZROjYtzUGV6Fe0E3YKtFPo38l3Sevv8f6fpYxkmc15LgyEfrNxo+mmPg/HbEhlMfrkm0mjgEM+x3Jp94Q0WdSpKiepqg7XGYfIQzvF1cTheiX6SnhWY39RX6G+LTTeFCvbVDPFELLrZUeAj765CQajEPHRJz+c5D3J80Ll1dI1mLxilI9JKHYfAyqDZiFi10UhqkT7F3p+ta9Vol/RTsUmzmQ9kudZyqg2lk19PrYixXBqCg7FvhXGIWIW5aNkm+TL19LTZ2npL2D1NwQMAUPAEDAEDIGWi4AxIi237azmhoAhYAgYAoZAi0fAGJEW34T2AoaAIWAIGAKGQMtFwBiRltt2VnNDwBAwBAwBQ6DFI2DGqi2+CavzAjjLwqJbtp012P2CYyR2buCvQLYRZqog/kewIE8jvDdKXJcoXDluzsMzSI97d0y7v7nTsLyXoHzqg6Q5nkVocsKWp+1wIR1/CRi1pfmuSNYHjME6H4Et5RDaHoNWdhDRzuy8AOtqEhv84vWqZl14dql9Fj8etCXtmG+HRqXeiR1jfEOtzRjS+nelelCZn9OE7cOpt5ofkVRYWlSibCcrGm6biLPSFb04q2rwbjJx6bUTTjihwbV8CUTxpLy0P3FVrbexbz6E2k4GnWJfP8Gm8IFQaRJHYFpvfKGUSln8iIRInURFTRLhzsHs6aefTl5KPQ8BztJwJo13Ce135ZVXahnxYHgE8iLIWgjwlvqQZkokejB1JFJpc5JMZpn8iJTaZ5OB1vA3Ip5nm/NV8pZNMMQQOTlvphq7kMWPiPXvyjdaOfyImERERjaj2kCAbXTifKlBZcJ2UGJnsKc/jQjyJaGz3W233ZZ2uSJpMgQ063PSyk9Ly1IJvD6CZ5IIWocURCLARt4n43kIVigO1tSLajy9Xo+b0mfjHj7rFb/mem/r382FbPOUa4xI8+BqpcYQQHWBCgGxPw7viC5J9NCkqB8xMS6P81E8LkM8DyLv4L4dlVBQL5AH8TmTJ4Gk2rVrF92GWJprqB9wwIcjp3CdyZ3AX6gkcIOepl76+eefNbppPFJqVHgVD3BUhnM04mQQeRjs11prrQaxf4iHkQ9r3l+kDhpfJv4qOPoKge4Q7aMSQjUHFcKMOtA+Cy20kGIGpsHNONeIT4R6jT6R5tSJeDjkD67q43Wq9nFj+yz4oUagH9HP4iqSfH22qTii1sLJGe7DWztVsn/zzeFrhLbEGaRImiLVW0vv35XqJ2asWimk6/g54tpbJ5FDDz1UPZ1uscUW6kxMRP8lobLHHnukerukHBF7a1lMVkQBhjkh7glOy7bccku33HLLue7duysjREYYFnT1hEwn7gTXx48f7wh8xcS96qqratAwmJpk7Bxx86zMDtIDJpBBgwaV9B7NmXm33XZzO++8szJQvJe49VYHZASky0pMkmBD7KA4wZx16tRJk1jN9+nTR4+LYQY+AX/CoSNFgBEkMJi41tZAecQ3wfnTYxIYMRDB+QiTzsSJ06fm8nQantccv/n6bOfOnZUhx7MuGGBzVazPNhZHFgGi1lQPnwQlhCkXF+LN8botosxy92++N6KN06/53oj+DdVD/y5Xg5tEpFxIWjkFEWCgJSIoTAKeNRH9S/wMjT4ZVtUwBwRTixOeDwkKVYgITsUqkqBwTJZMooRjJ/idxI/Q4FP33HOPBnhjkKAOgR588EF3ySWXqOSAQZrVDCubYcOG6Qr9sssu0wiyrNb33HNPJ3E9tGyJHaHBsiTWjoMxqSV6/PHH9Z1vvvlmXaHBkKHyou6BmPBZxcUJZiAwGqQn1T4MtLg+Z9AFa7HJUTfxMHOFMKMsruMangijPFdsWjQ43Lbbbqv40va0FZGbkZhBHCONou1gXAggBiXrpYlV+tfYPksQNJgRmC/UihgIEySwWJ8tFUekjv369XMwdUi5tt56a+3vfAP09dZKle7fRKIm8CfBJsWmSgPdEfywpffvivUP+ajLSvJheoxXjFouAuU2Vg0BsmTwjUAJaSKW17R8hn8E0gtUyFgVoz/5aNRYFWNDEfVrELdwL7+yitc8wrR4mRT1mIB5gST6qKYFI03SCQgmjI3v0qWLZsMgVqLdeow2Ax1//PF6XwhoFdKz/JZirCoruQZFXn/99frsYKwqk5uXyceLLU2UlzSC+UGFjPkkIqjmCcaqV1xxhZ7HjVXD/RJpV69lwUyiHGsdQ/BDbtxnn3004BgGiIFk8tB8vNO//vUvPSYtkEymmiYRg0NSs/w21Vg1X59NGqvS54XZ0nfI0mcbgyPlEnRNGPAIK9JkMVB3xqrN1b9FwusJgBj/5mq5f0cdoUwHZqxaMXbNHpREIGyZReybJFZtUMgTrnfo0CEcRnFe4saniDUnTpwY5eEgX8CunEyJE/S0BHR79tlnVbQfLgc7ElbcrEShEA6cY4m6yY+TiLwOSUgg7CLCKv3FF19U1U3clgF1Q3NSwBGskzFi0rBG4hTfyot6CtuAOMlk7o499th4Us49ORcKnGTBLNyexBqbE9RbgTiHwBpbIog+EQi9fzmDA4Zym/JbyT4b6lkKjrQPfSQeKA4MwRLpYWulSvdvVIfxbw7cW0P/rlT/mK1SD7LntC4EiLYIifREf+P/iGYJJYObhQmVa2l+FBggUcU0lYTR1yIQk4rEo0Fx6MgDxQ1Rw32HH354g0BUQY3BYJOc1NE5NyetssoqWjwMVthBFJ6HASIUxzpEDw550n55n3JiXQiz8HwMaAOBNedJ+xuuw7BOmDBBsxJxNUy8GAWioqklqmSfnTJlir56KTiGyZGIyHEKRsfxtNZ0XOn+HW8TcGwt/btSfcIYkUoh3cqewwSOYei4cePUyC7sguA1Rayubxsm0Eq+OqsQpB0wPTBE8Z022Ccgcdlpp51SnacFiQ3SjnCfiLHVlgFjS4iVJEZo4sck2mWD3URzUqjX3XffnSNBYFLGfgKJR5yhas66hLIDQxDqVgizcE/8l/swoMUuZ+2119ZLovZRexH6VZCEgG1gRMR3SU3Zh8TfpzHHMOMBxyx9Nu0ZxXBE4sRuJXAU9aUWgVEsNg3sXjJKRyC0i/XvdHzKnWqMSLkRraPyxNGWGmxiAIfxJjtIMEgdPHiw69atW86k2dywzDPPPPoI0aPrThjRBztxvKVbVDF2ZQvvMccc43r27Km7FILUJl4vdmWwWwaDWVaSvANMB7t+Ro4cqVlhUG699VY1BsV4Uhy7OQwPm5NgfthpxPugskDSA8OFzxTeS+xtmvPxOWUHhlNsQ5QRzYJZTgH/O6EtxM5EdzaddNJJqnLCWBODVnGSp9562b2EITFMJYwWKrPWRPRZmDEMo/l+ivXZtHcvhiPMzmGHHaZ9h51Ou+yyi/bvuEo0rdx6TbP+XaWWFxFSWcmMVcsKZ1UKE3VLUc+qoWLnnXeeFzWNGhFKF1ZDzl69enlxeR6y+GCYKpN/lDZ69Gi954UXXtA0DPcwiixEwhh4mYQ1C55UeZ5IOfT8tdde87INUtNkwvKyf9/LIO1FRKtpsjPHy2DvRZWh+YOxKoaRcRLdrsf4jLL5E92vlx0n8Sx++PDhXtQ7eh1DQMolb3MZq/JwvKrK7hQvzJ4+S2xnvGxr9TJR59QNg96AUbggzp30PTiXbZt6v9jAhMsNfpPGqrKq9mAPCQOkx7xvMIAthlkwsmRsiNOIESPUEJiyRMXhZZu1l5V7lIV+iCdd3lUmVMUZvGvJs2opfRYjaN6VtoSE4fUiSdI02qVYn20sjrSZMCNefOXos2T3k/YRkTpFWLeEAwybn3/++YJVrUb/3mqrrTwG4Umq1f6drGdTz8thrNqGSsjHUTZixYaDKBlAylamFVRZBLBFQB8fN3ArVgPaHec9cfuLYveU+zpqFOw1kMwEI1fSZEJziL7jBqbFnk1MEDAo9D6UKztoGmyDLVZ2/Dp+JNgOi61BVqJ92PKMyL1ahBMunMDF7VGyYJZWX+wXkA4kDXFDXrZmg0/SAV64Xu5fpE2oMirhtwQDara2x9+9sX22GI5IQZA48S20RMJeiO+7lHGpse/Zmvt3YzHJdx9SYWwGURE3lkw101jk7L4cBJrSCXMKasIJjEayHqRh0V4qoQooZndRrQG9EHNU6ns2Nj/MXpKyYJa8h/OkAW4yDw6/WivBzCWpsX22GI4YcFarzybfsdbPrX9XtoXMs2pl8banGQKGgCFgCBgChkAMAWNEYmDYoSFgCBgChoAhYAhUFgFjRCqLtz3NEDAEDAFDwBAwBGIIGCMSA8MODQFDwBAwBAwBQ6CyCBgjUlm87WmGgCFgCBgChoAhEEPAGJEYGHZoCBgChoAhYAgYApVFwBiRyuJtTzMEDAFDwBAwBAyBGALGiMTAsENDwBAwBAwBQ8AQqCwCZXdoRvh1PFK+/vrrlX0Te1rZEMB7ISHnrQ3LBmnegvBGS7yY4Ak2b0a7UDEECHhGu1j/rxjkmR5k41ImmCqeifmeeb8pVHZGhCBL/NnA2pRmqe691oaVxZ9vxb6XymKe5WnWJllQqlwe2sPmlsrhnfVJYb7Imj8tX9kZEdwIEwODKKZGLROBEGvG2rD522/69OlulVVWKSnWTPPXqr6fQKwZ4mVZ/6+tfhBizVi71Fa7fPnll02Kt8XbmI1IbbWp1cYQMAQMAUPAEKgrBIwRqavmtpc1BAwBQ8AQMARqCwFjRGqrPaw2hoAhYAgYAoZAXSFgjEhdNbe9rCFgCBgChoAhUFsIGCNSW+1htTEEDAFDwBAwBOoKAWNE6qq57WUNAUPAEDAEDIHaQsAYkdpqD6uNIWAIGAKGgCFQVwgYI1JXzW0vawgYAoaAIWAI1BYCxojUVntYbQwBQ8AQMAQMgbpCoEUwIp988onz3pe9YbKW++mnn7qPP/44+sOT3O+//172+rTUAsGROBCl0ptvvumI65FGP/zwg/vwww/ztjv442nxt99+S7u91aZl7bNZAQA/yixEYP35558XylLX14r11TRwvvnmG41nk3YtpFHuRx99FE7tt0QEsmBcYpGWvZkQqBojcvzxx7v555+/wR+TT6Abb7zRrb766m6ppZZyiyyyiLvkkkvCpby/zVHuOuus45Zeeunob9FFF3Vzzjmn23XXXd1LL72Uty5pFxhYevXqlXeCTbunVtOGDRvmllxySW2ftm3baltNnDgxU3VpS1ybw+DFiQBwm266qfaLdu3auQUXXNBdfPHF8Szu73//u5tvvvnc8ssv7+add153zDHHONxyt2Yq9Vt44oknGnxbfG833HCDwvTzzz+7o48+WvPwfa222mrRtYAjgawOPvhgt8QSS7jFF19cXZ4/88wz4XLd/2bpq0mQnn/+ebfNNtu4xRZbTPv2zjvv7L7//vtkNvfrr7+67bbbzu2xxx451/bcc0/t8/T75N+ZZ56Zk7deT7JiHMdnxRVXbPC9bLvttppl+PDhDbAO2K+11lqObymcp/0+++yz8UfZcQoCZY81k/KM1KSnn35aJ7F999035zqDJUTjHXHEEa5Lly7uyiuvdPfcc487+eSTHZPTPvvsk3NP/KS5yoUZOeGEE5SB+OKLLzRi6k033eQmTJjgXn75ZWVS4vXId8yEcvvtt7vbbrstX5YWkU7ExX79+jlwufbaax2rjwsuuMAxsBK1lMkrjZCAXHXVVe7UU09Nu+xOOeUU9/bbb7vLLrvMdejQwV1//fWatswyy7jevXu7yZMn63PoAwceeKAbOXKku+aaa9yyyy7rTjzxxNQyW3piY76FqVOnOlbU4En8p0DrrruuHp511lnabj179nQHHXSQfl9HHnmktttuu+2mec455xwHs9m/f3+dFOn/3bp1c++++64uDEKZ9fpbrK8mcYG5oA/TLowDSHmPOuoo16dPH3fXXXdF2ZE+HXLIIW7SpEnKlEcX5GD33Xd3a6yxRjzJjRo1yr322mv6veRcqMOTrBjHoWEx9M477+jYtd5660WXGFMgmA36fpxeffVVN3r0aLfyyiu72WabrcF1pIgXXXSRW2CBBdxyyy0Xv9WO0xCQj6GsJGoM/+STTxYsUyYjLwyHP/bYY/Pm6969u5fVtpcGjfLIqs1vsskm0XnyoLnKldWg79GjR/Jx/s477/TSCf2OO+6Yc03E3V5WS378+PFeJmVPvSAZgLxIbNAxeen8Xj6a6D5ZFXmZcPxjjz3mP/vssyi9Ggcy0XhZVRR8tDAd+h68X6Bbb71V02QFEZJyfmfOnKntx/sLY6F5RQIW5QEzibDpzzvvvChNVD5+7rnn9jI5atoBBxygmIMlBIYijfFdu3bV85b27/7778/p42n1b8y3AE5gnI/4/lZYYYWcy8JURveI+lFxlsVAlEcYbm2zyy+/PEprjQeMObRLIcrSV5P3y8JF8eMbD3TGGWdon+ebg0SSpf2ZPi+TmBfpYMia+vvKK694kc56kc6mXm9NiRKMs+i4lAXjJCYPPvigtkuxeSvcR//YaKONvEjGdRwP6fHfCy+8UMvMNxbG87b0Y3Bj3m8KVUU1Q2RLxJEbbLCBQ4Q8dOhQRxTSOCH23GGHHXKiksqE76ZMmZLXrqC5yo3XK37MynH99dd3Y8aMiWwVkHQgxmY1L5Ojirw7deqkqyAkOzKIaxGIw1nJwDmz+oFz3nDDDV3nzp1V1XH++efHH1Vzx7vssov797//nbMKC/YarBDSiDbHvgZRJ+qVJKF+k0FBJS3hGhIU1C6zzjqrJrG6ADNWJBCqLqQxiFZbKzXmW3jhhRdcx44dVXoxZMgQh8pMBgqFCJsn2gLpVZy23nprN2PGDLW94VsC53geVoaow5A61jtl6atJjGhHVI1bbbVVdIkxjT4exPe0G6pJzmk/QqznI9oHacrCCy/sBg0alC9bXaVnwTgJCJgzvqy00koq5bj33nt1TEnmC+eoipmHwBzVdJL+85//uLPPPtsh7d97772Tl+08DYGmcDFp92aRiMgErNyiiIz1V+rlpSP4AQMGaJFIFDiXySrnEZdeeqnmz8d9NVe5+SQiVE7E1lonmRi9qCu86Ah11f/cc8+pNOTwww/X63DqXBe9vJ6LoaZKSERNo+cnnXSSF/GgSkSEudH3Z1VaDcoiEUnW66effvIi1tRVXD6JDpIhYSr0VlG56HvHJSLJMjlnxUj/EGZVLwvj4TfbbDNP3xGmzc8zzzxeBhAvH3/a7TWfVkwi0phvASkR+Mw+++yKHfjxB17fffedp0yugWOcOCcffVdUXnosg3Q8i//LX/7iZSLNSWttJzLBF5WIpL1zsq8m84i9hxe7qJxkvjUwF/WmpofvgxNRSxeUiMhEqPf+85//zCmztZ5kkYhkwTiJj9jdKI5IocK3gjReVGPJrLry59tKSsHjGcUGSMelao3f8bpU4rjFSkQwSJVGd6z6v/32WycqDJWOnH766SohwQaDVXCwF5HOoYTUAGJVnUbNVW7as0Laqquuqoc8W1QPygnDKSPtQSqC3h1i5b7QQgvp6oVzVvAYNmH7gG2FMGFOROUO6QmrUN6/pexUwFhrr732cqwssNfAEC+NWN2J6iXtUmoaenT6CJIxdOvQG2+84WRAUnzQtaMTZjUjjFBqGS09sTHfAvjQt5BwyETnkG4IQ+xEJeBkslSd9k477eRkAFG7KwxQ+fY4hzBSDTtpkt8g543ZIdXS26FY/dP6avIeJFFJPMOYFjAt5fsYOHCgfmt8e0Z/IpAF4yRWjLNsRkAai3QV2z/GFjYVML7ESZg+TcO2J42wbxs3bpxKQ5CaGWVDIPuskK28TLnENsT9+OOPalzIh4hBKsZzwr25hx56SCdsCmJijxPiZAi1BhM2osvw9/DDD7tylBt/XpZjGBAIwyaYCnbSoGrC4hrGAnE2BGORRohpUe/07dvXyYpUjQAxEoQQvdY6MYBiwHjfffe5K664QkXF5agz/eGwww7TyRSD1EAYLMP4iPRIxaMffPCB4sRugtZIMK9QoW8h+d4Y0NEufEuoUmB6UQtS1gMPPKDZ//GPfzixt9KdaBtvvLHjHBUhhPogPJfvNE58g2ni6HieejvO11eTOIBpGp7kKxVTmH7UN7QZO/iM/kSgMRg/+uijqpJELU7fZ6cYaneY+KACDvjCpLDbj51PaTR48GCdx8ICNC2PpTVEoCqMiIiHHRNInJAgQAygc801l0oOkhIBEflHgyR2GKy8wx92CeUoN16nLMfs4hAxt2vfvr3DLwaMEZ2VXSNsKx07dqwWA5OVRuwKEUNY1buLAZROGKxaWwJhbQ5DyIDITqDjjjuuydUGJz7ic8891+2///66ShH1i5aLJIzVOytAdk9BDODsnmHQYOdAa6Ms30LynVnF4WMlvppjslpzzTUdu50gmHl2ZbD9nF++NZgWVuQw1awQIb65OHFOXzcSfUqBvpqGD5imjWnkLRXTm2++WSWB7Fwz+j8ESsWYNkSKkpSyh/kofC88ATsrJLLs5kyz3aGsW265RReU8d03/1c7O8qHQFUYEbHo11UaIuRAGAhBDJYQEzorOho3EKKzoArB0BNjyfCHYWg5yg3PyvLLSp3tu4jwmDBkF42qmpAOIBVhYkZtACUlIuEcDpoJ4MUXX3RXX321ShTCYBXyZKlLpfPA9CHNQSKEKLJcRlmIPGHO8ImAGBQmLxC+Q8CTZ8cJ1QOEOqI1UrFvIfnO9EP6FDgGgoGAaQ7fFytpJrG1115bB04Y+TvuuEMNppFSIskTXbgygqEMGD0YPlaERk633ubrq2n4MLkFZjpcZ0yDSsX0qaee0razraEByT9/S8UY6SqLmrhRNiUxH8GU48cqEN8PhKo4jZjPWJzlu552j6X9DwGZ6MtKGJJivFKIZP+1GgWJDtvLJOZFbOxlhabbdWWS0VtFhKx5MPbEYE72ceu5MB55i26ucjFWFXsPL/vC9U/8VXjpbF64Yt3uKIOz1kkGFa0jBqnCOXvxfRJtUw1blcXiWvOInwwvE6iX1bxukxQ/AmrcyjOkafQvzVgq78uX8QLvU2z7rkh7tI5saw64hF+MHSFRMSlOaVWTAVzvF0YmuszWxYBpKCv8YtQLCdOnecR2RLc78wyMzESsGpXTkg6KGavyLsW+BZF8eBlIPVsGIbEr0a2FGNxhyCiDqt9iiy0U77AtVVQxiuN1113nZQeAF+mTGrCGtqMc2ZGh2GIoLJIoLyocL9ISL3ZdXG61lMVYNUtfffzxx7X/y0pasRK1jLYL26SFkVCDYGH6vKgCUrHMZ6yK0bcw5fotpN7YShNloi86LmXBODkuiYRVvw3xbeRpK+YcYUK8LGxzkOScsUYWiDnp4SR8p4z79UTlMFZF4lBWysKI8ECxJ9CPKUy67MtmJ0mcmGywUCYPPhHCrpp4nuRxc5QLIxLqya9IP3SnhqwqvdgqRFVggKCzMriQjx0dso3LixMpL6tazSerSi/qJL3OB8FuG3Yh0PG5R/T7PkzSTMLVoCyMiIhAczCJ4yMOy7TaTI6kp1F4R9kuGl2GWYuXEz8OOzyYBPfbb78IL/KI4WXe/fxR4TV6kIURoeqFvgUGX3Bgx0AgJjr87gQM8XkgEo9w2bPLib4qOnHNIxIQjx+YOMHQ4MMklME3Kvr0eJZWeZyFEcnSV2ECwY4FUiAmOpg50pnU8P/Bbro0YqEW+n38Osw79wfGM36tNR9nYUR4/2IYJ8cl8OfbCf0cvyxin+bFaDsHTny6iMQlJy1+wtxDGSww64nKwYi0ATABr2yECBhROXvhixHGmDKRO1ymsxc+jYK+mz3eaXq5tHuaq9y0Z6WlUWdUFhirIt5LEvXDFob3DtfD7oh8HkmTZTTnOSJGdKO1rOdklwz1xJ4BlU1LJYxHceUdVHiF3qMx3wKiYnbB0BfTiDL5ZsExH9EXwDvYjeTL11rSUYmi8m1OETsqLuzbWqs6sTn6AnZPjJtZx6VSMcYQm92NGHfHVcLN8S6tqUzUhMzP2G02ltI9TzW2tBLvQy9dTDeKnppdAKVQc5WbtQ7UuZCDLeqXbDSYEqPsCLD9m/go9USN+RYwSi1ElFmICeFeFgn5FgqFyrZr+RHIxxjmv8OulIpAqRiztRqXC0aVR6Dhcr3ydbAnGgKGgCFgCBgChkCdImCMSJ02vL22IWAIGAKGgCFQCwgYI1ILrWB1MAQMAUPAEDAE6hQBY0TqtOHttQ0BQ8AQMAQMgVpAoOqMCDEtHpMYGHglbcwGHnabYEkN4T6ZXQJEszQyBAwBQ8AQMAQMgdpHoGqMiDjMcmussYa6mibWDLtniBMgvgxKQo3gXSHOCPeyxZAtWBAMjvjx0GP7ZwgYAoaAIWAIGAK1h0BVtu/iR4OgQfhOILoqwbdef/11N2TIEHVxzjYqgseVSjA2xB0JES6JCUCakSFgCBgChoAhYAjUJgJVYURwgELMBXFz7o4//nhFhpDlOHZiH/eIESOUEUFVg7MlJCU4VCLWhXgpdSEIWhJSgsZxP4wI6hoYHmIJoL4xPx1JtOzcEDAEDAFDwBCoPgJVUc0E76GoTuIBzPDORnRVIq9CMBBEVxX3u8pIiLtj17ZtWyexXlKRI0ga+VHNSOwRN336dA17jgfD3377LfUeSzQEDAFDwBAwBAyB6iFQFUaECLqEeJc4Gw6mROJZqHSECLRETwwRdgMsuFseNmyYuk3nPiQpxWxJiNyLR9Zu3bq5t99+21z2BjDt1xAwBAwBQ8AQqCEEqsKI8P5IL2655RbXqVMnN2HCBJVyEEMA2xEkIXEibo1ESHQS+M5dc801qpoZPnx4PEuDY/ISL0CCern27ds3uG4JhoAhYAgYAoaAIVB9BKrGiPDqEv1Tg0sRVOuRRx5x++67rxs3bpzbfffdc5BBYhJIIiM6iVbrkJ4YGQKGgCFgCBgChkDLRqAqxqoDBgzQrbVjxozR6LNzzTWX69q1q/4hxRg6dKj75ptvImRDhNqQgDFqPoPVkMd+DQFDwBAwBAwBQ6D2EaiKRGSBBRZQycfIkSMbIDRz5kzd9RIPjz127NgoH0ankydPdh07dozS8h20adPGnJvlA8fSDQFDwBAwBAyBGkCgKowIu2DatWvnevXq5Q466CB30003uUGDBrmePXu60aNHqyErkpFAEydO1G2+GK1uv/326j21X79+4XLeX6QmU6dOVUNX2zWTFya7YAgYAoaAIWAIVA2BqjAiSy21lG7TxW/IqFGj3KGHHur69u3rpkyZop5Qr7766hxAcHg2cOBA16NHDzdt2jQ3ePBghzdWCLVNUN0kf/v06eNmzJjhevfurS7kcwq1E0PAEDAEDAFDwBCoOgJVsRHhrfH38cADD6jq5K233nKoYnDPnkZIUMaPH6/bd5M7YCZNmhTdAjPDX6D+/furQSzSkIUXXjgk268hYAgYAoaAIWAI1AgCVWNEwvsjxSDOTDFCVZNkQordw/X55psvSzbLYwgYAoaAIWAIGAJVQKAqqpms7xlULVnzWz5DwBAwBAwBQ8AQaFkIVF0iUggu3LkTYyZuuFoov10zBAwBQ8AQMAQMgZaFQE0zIkCJjxEjQ8AQMAQMAUPAEGidCNS0aqZ1Qm5vZQgYAoaAIWAIGAIBAWNEAhL2awgYAoaAIWAIGAIVR8AYkYpDbg80BAwBQ8AQMAQMgYCAMSIBCfs1BAwBQ8AQMAQMgYoj0GzGqt77ir+MPbA8CIS2C7/lKdVKyYcAOBvW+dCpfHpoi/Bb+RrYE9MQCO0RftPyWFrLRKCNNGpZOQa8pD7zzDPmSKxl9get9a+//up+//13i3BcgTYkyvSCCy7oCNBoVBsIMCR+++23bqGFFqqNClktFAEbl2qzI/zwww/uL3/5i1tppZUaXcGyS0Tmn39+t8IKK7hNN9200ZWyG6uLwHvvvee+/vprt95661W3InXwdMIcEHNp1llnrYO3bRmv+McffzgCbO6www4to8J1Usv333/fffXVVzYu1Vh7P/XUU455vylkNiJNQc/uNQQMAUPAEDAEDIEmIWCMSJPgs5sNAUPAEDAEDAFDoCkIGCPSFPTsXkPAEDAEDAFDwBBoEgLGiDQJPrvZEDAEDAFDwBAwBJqCgDEiTUHP7jUEDAFDwBAwBAyBJiFgjEiT4LObDQFDwBAwBAwBQ6ApCBgj0hT07F5DwBAwBAwBQ8AQaBICxog0CT672RAwBAwBQ8AQMASagoAxIk1Bz+41BAwBQ8AQMAQMgSYh0CIYkU8++aTkWBxffPGF++233wqCk7XcTz/91H388cfR35dffqku0AsWXkcXwRGPh6VQMez/+9//Kt6Fyvzss8+KtnGh+1vitWK4NeadiuGIu/PvvvuuMUXXxT24uP7www9LGqNw7f/TTz/lxYcQC59//nne61zIMsYVLKCVXyyGcWNe38alxqBW/J6qMCJ77rmnm3feeVP/zjzzzKjWN954o1t99dXdUkst5RZZZBF3ySWXRNfyHdx7772uU6dOboklltAYHvvss4/78ccfc7KXWu4666zjll566ehv0UUXdXPOOafbdddd3UsvvZRTdrGTjz76yPXq1aukQatYmdW6PmzYMLfkkktq+7Rt21bbauLEiQWrUwx7BuATTjhB2w7M11prLXfdddfllHn//fe75ZZbTtuYvtG3b99WP1EWwy0HIDl54okn1O0yrpfjfzfccEOUtRiO06dPd1tssYVbeOGFHe3bpUsXN3Xq1Oj+ej+YNm2ahrIA33bt2mmfvfjiiwvC8vzzz7uX7ab5AAApPklEQVRtttnGLbbYYpp/5513dt9//310zy+//OIOPvhg7duLL764W3XVVTV2V5RBDrKMcfH89XZcDOM0PFZcccWc74Q23XbbbaOsNi5FUDTPAUHvykkiPfBPPvlkwSKHDx/uheHI+ROGg+B7/rbbbtN7p0yZ4iX+hu/WrZt/6KGHfL9+/fT67bffnrdskVR4CSDmt9xySy8xPPxll13mZ5ttNi8Tf3RPY8qVAcELM+JvvfVW/89//tNffvnlXiY/P8sss3hhkPyMGTOi8osdnHXWWfoewlkXy1q16++++66Xj7ng80UC4uebbz6/2Wab+ZEjR3qZKL3EGPISKMzLqj313izYn3rqqYoPvw8//LCXgVpxfu2117TM5557zkuAOC+Tol4/++yztY3PP//81GfWeqIwA14GuYLVzIJbsoCrr75acTzllFNyvrNJkyZp1mI4yoToV1ttNS8LBk8ZtPGGG27ol112WS/SweTjWtU57UG7FKNddtnFMzYwztx3332+R48eivnQoUNTbwXTNdZYwwsT7W+++WY/ePBgP88883hZ0ET56feyyPHHH3+8Hzt2rF933XW9TIqesQ3KMsZFhbWyA4mBVXRcyoJxEhZZHGq7MdbE5yXGtED1Ni6F987yy3zPvN8UYmVeVsrCiCQf+Morr+jHF/8gu3fv7mW1nTNIMzBusskmyduj8wsvvFAnLVmpRGkSUEyZk5DQmHIZbBhkknTnnXfqJLjjjjvmXBKVkKcO48eP96+//roPTIeIcHWAgeFiMJdoktF9siryzz77rH/ssce8iMqj9GocZGFELrjgAv14eb9AMGq8G4xmGhXDXlQA2lb77bdfdDu4rL/++v7KK6/UNJGmeZGUeBFLR3mOOOKI1PaJMtTwQRZGpBhuaa93wAEH+GWWWSbtkqYVwxHmn7YU6VRUBn2atGOPPTZKa40HWRgRsGAhct5550UQwJzPPffcfrfddovS4gc33XST4sc3HuiMM87QcvjmYDJYONGfA7388st6D4sfKMsYF+5tbb9ZGJFiGKdh8uCDDyrG+RbQ9TgupeGUL61VMCJM2qy0YDrikwuraxFR5rw7gyJSEomOmZMeP2HiCsTELyJQL+L9kKSr9lLLzceIUOhGG23kZ5999oipYDUkomzt2Aza/CGhoV4MWiGNX1FteN6f+rDKD9d4x/gAF1W+QgdZGJFXX33VS4TSnBqxwuMdRo0alZMeToq1KeVx/5gxYzxtRwdPSlcWWGABxYs+8MILL3gkJYX6Q3h2rf5mYUSK4Zb2bhI5WaVJ77zzjr/lllv8hAkTIoaY/MVwvPbaa7UtRNWWUzwSEQn5nZPW2k6yMCJiv6H9n99AjF9zzDGHh8lLoxNPPFEZ7bAwIc/TTz+tOI8ePdo/88wzepz8rpZffnn/17/+NSqy2BgXZWxlB1kYkWIYp0HCoooxl0U0Y9c999zjJfp4lLUex6Xo5TMclIMRqYqNiEw2EQ0ZMsSJJMChW0UPDclA4D744AO1P4gyygF2H4ToxkgrH4m6wGFQdNhhhzkRg7qff/7ZXXrppZq9KeXme97GG2+sBpNvvvmmwzhKVEiuQ4cOTkTfTqQF7vDDD3fYTYwYMcL179/fHX300VoU+Xv27Omk4zuZwJ18QE4mDSerJYdNiqgcSjYAzVfH5kjHdkdW6lHR4CyTl5MJTm10ogv/O8iCvai4NLeo1ZyoeJyofbQPgBttKgOw2oJg84NOXiZbtUuRidHJIJV8ZKs4z4Jb8kUx0hZG0YlUw7Vv394deOCBbquttnJdu3ZVDLPgiO0PxLcZiPbhT1buIaluf7ETo//zG0jUYU6knA67jzTi+5ZFjZNFR3SZMQ3CGF4WAHocsNcT+UcejJQDFRrjQp56/S2GcRou2JQwrwjD77BfZFxmfJMJVrPbuJSGWnnTqs6IDBw4UA239tprr+jNYDToGBgMxYlJDio2EMIQwATMnDlTmQSYAmHslIFpSrnxuoRjjMkgrOZ5HgzEoEGD3AYbbKAMyZFHHqnXMVJlcsXwD8I4CoNdEZ874cjdgAED9EPA0JaBjHoWs5rXgmrgH0wI7ScSCnfNNddoeyarlaVNwQgS/bkTiZATHbnbaaed1FiVfhKui+pHJ9VHH33UnX766U7E1zrZJp/ZGs6z4JZ8T5gy+tbWW2+tk9tbb72lDDFMrqgCMuHYuXNn7ati/+BE3K0MMkaUfEcYVBrlIoAxsdgpuR122MH17t079+L/zmTFnXdMY9dZYDaS4x7nyV1p+ca41AfXUWIxjNOgYJzFMF5UNLqYpL+zE4pNBTCWYdyxcSkNvfKkzVaeYhpXChMXKy4xBNJdKKEUJmyIiT1OrOQgdkowYdNZAonuNLJyZofN448/rp2IHRVMVmL06sTwS7MXKjeUl/UXBgQSkbUyFeykYVCCy37jjTeilTqMRRqxUmWFTz1hnvgTsaBmZTVc68QACePE6uGKK65wffr0Sa1yljYVwz2995BDDnFiIKnHSDtYESI5ElscTUMaIkbDTnT0jgkTRkTEqcpoxleoqRVpYYlZcEu+0sorr9xg4hIbGwcDh7RJDCEz4ciuKCbVQw89VPOLGlIlK4Ukksm61MO5GKC7c889V8cYMerN+8q0ZXJxEcY0pCBiX6L3Jnf5kScpJck3xiGhrWcqhnEaNixo4gTDLapMJzZvKlm0cSmOTvMcV1UiAocpujlVZ8Rfb6655tLVWPKjxd+B7IpRyQIiTrbAhT8x8nJcF8PXqCjR17ogkRC7A5el3OjmjAeTJ092YiOiInDULR07dtQVJJPnMccco6t6imIlmUbXX3+9E0NYJ7pix0DPhMGqtSUQ4mQYQphJ2c3kjjvuuLzVzoI90iEI5iIQUrC1117bsdKBAYX5gHnjNxBbTCHav7VRFtyS78wq7v3331dGPFxju/maa66pTG5WHOmXSFdQLcIgiw2DrhjZOm305zfN+AITsv/+++uKOkxaafiw6k4b08iLCo3rULIfc871cK3QGKeZ6vhfMYyT0DAuM7YkpexItCEWhTYuJVEr//n/jeblL7toiU899ZROMmkDGxM6Ou74BI7oLKhCWCGLEVH0h/6bQUF2WKh9SXg4kgkIhgUqVq5myviP1Q+cMyI8JgzZReNw/iRb+ZwYrerEDKMFJSUi4Rz7EDFGcy+++KJDx4xEIQxWIU/G6lQ0Gw6uYAiQCI0bN87tvffeRZ9fDHvaDv05E14gBgIkZ2LQ7GA2sZ9B1RaXFsnuJIfeHNuc1kjFcEu+M/2QPgWTG4jJDKYZZiQLjujFN998c/0GYfTAlgkQvzmofIycO+qooxRjfB8hoWNBUoiY3Jjw4v2bMQ1aZZVV1GcOi6eQRroYY6t6jetQljFOM9bpv2IYJ2FBrYyENWnXg68WFjvYiti4lEStGc5loi8rCXdZ1I8ID8RyHD8UcR8f8YrgB0Re14uxp+6OYMcM50mL8vg90nk0jzgM0q2zWP4Lh6w7Z8Lui8aUy64ZGYj9RRddpH9YZosuWHe6sEVSjMy0GjKA6PPFINWLWkatr7lOvcOWRzHK1XN8D4ju3oshoW7Zu+uuu3SrL88gP3/B50P8HStxzPsU8yMi0h6tI9uaAy7hFx8V0DnnnKM4hTpnwZ6tj2xhFCdmXkSmui1XBgTdSUM5d9xxhz6XfiOMrD/ttNN01xJ+XVoiZdk1Uww3toHLQKpbO8FAVCdeVFS6Ew2/N3wXwkwobsE/RhYcRdrlRc2j3xw+LfgG8Gshg3dLhDpznYXJLepHRBzGRd9/6PfhN/g6EvWw9v+w80hULtou+CSi7+KbJexeCpWThYhuAWb3HbtoRNWivlvYQgplGeNCWa3tN8uumSwYJ8clsW/TbwNfIbQVcw5jDlvgA9XbuBTeO8tvOXbNIHEoK2VlRGQlrY3Pvvh8hJMqtsMxKTOhi0FnvqxROswHDoDCZM42xjAxhkyllgsjEsrjV6QffqWVVvJiy+DFSjsUq8wVnZfBhXw4KxLjVR28ZVWr+dhuypZirvNBsA1WJAva8Ulj4JeVrF5nYKsGZWFEYPCob9rfVVddpdVmcuR6nIphL0Z4uv2R7XTcK7pxj2+AOIlBrDKxXKctYEqYjFsiZWFEeK9CuDH4gsUee+wRQcBEh98d0vmDMYH5iFMxHEXl5kXSqFsb+Q7xZxIcy8XLaW3HWRgRFhYB2+QvTv4gmECusTU3EBMdW6BJx+cIvpPiW0VhIsE5lIl7ABjyOGUZ4+L5W8txFkaEdy2GcXJcAn++nYA5DuVk16XHOVqgehuXwntn+S0HI9KGB0kDlI0QAWOlv+mmm5alzKDvlok/Z9tbocLZvvj222+rW/igkknmb0y5yTLynVM2Kgu2g8VtGUJ+1AoYeWJYGa6H3RFhO1/IW41f7AJQibA9tjkoC/YY7GGDQrunEdt5aWOMhFGLtVQSaYcTp3tqK1XsHbLgliwDDNnlQl9Moyw4oirExiTsWksrpzWloRJF7csOmOYiYfZVXczupjTi+yMWTbAbSebJMsYl72np59g9MW5mHZeKYZzEA6NgdsiwozGfmq1exqUkNoXOMbFgnMZus7FU84xIY1/M7ms8As3NiDS+Zq3vzlIYkdb39rX5RpVgRGrzzWu7VqUyIrX9Nq2nduVgRKpqrNp6msLexBAwBAwBQ8AQMAQag4AxIo1Bze4xBAwBQ8AQMAQMgbIgYIxIWWC0QgwBQ8AQMAQMAUOgMQgYI9IY1OweQ8AQMAQMAUPAECgLAlVnRIiv8JjEwMAraWM28LDbJMRhCBbN7AQwMgQMAUPAEDAEDIHaR6BqjAgeT4mOi7vpLl26qGdB4gTg378UIigaERMh7mW7WwhSBIMjfjz0mv0zBAwBQ8AQMAQMgdpDoCpB7/CjId5P1XeCOGpym2yyicayGDJkiLo4J9okweNKJRgbQp6H6JVHHHGEMjullmP5DQFDwBAwBAwBQ6AyCFSFEWHfMTEXCDEeIoESvwLHTsS0GDFihDIiqGpwkIakBOc+xF0ggm6+wFIEjeP+EDYbhodYAqhvWltU1sp0D3uKIWAIGAKGgCHQvAhURTUTvIeiOiF4WiC8sxEQimiWEAwE4a/F/a4yEuI62bVt29ZJrJdwS84vgafIj2qmc+fObvr06Rr2HO+qeCI0MgQMAUPAEDAEDIHaQqAqjAgRdAmbLXE2HEyJxFZQ6QgRaImeGCLsBqhwtzxs2DB1m859SFKK2ZIQuVfitrhu3bqpK/B8LnvDM+zXEDAEDAFDwBAwBCqPQFUYEV4T6cUtt9ziJMKnmzBhgko5iCGA7QiSkDgRt0YiJDoJfOckUJeqZoYPHx7P0uCYvDAfCy64oGvfvn2D65ZgCBgChoAhYAgYAtVHoGqMCK8ukWo1uBQBnh555BG37777unHjxrndd989BxkkJoEIviXRah3SEyNDwBAwBAwBQ8AQaNkIVMVYdcCAAeo7ZMyYMRp9luipEm5c/5BiDB061EnY5QjZEKE2JGCMms9gNeSxX0PAEDAEDAFDwBCofQSqIhEhnDiSj5EjRzZAaObMmbrrJR4ee+zYsVE+jE4nT57sOnbsGKXlO2jTpo0z52b50LF0Q8AQMAQMAUOg+ghUhRFhF0y7du1cr1693EEHHeRuuukmN2jQINezZ083evRoNWSNG5dOnDhRt/litLr99tu7jz/+2PXr168oekhNpk6dqoautmumKFyWwRAwBAwBQ8AQqDgCVWFE8KbKNl38howaNcodeuihrm/fvm7KlCnqCfXqq6/OAQKHZwMHDnQ9evRw06ZNc4MHD1ZvrGRCbRNUN8nfPn36uBkzZrjevXurC/mcQu3EEDAEDAFDwBAwBKqOQFVsRHhr/H088MADqjp56623HKoY3LOnERKU8ePH6/bd5A6YSZMmRbfAzPAXqH///moQizRk4YUXDsn2awgYAoaAIWAIGAI1gkDVGJHw/kgxVllllXCa9xdVTZIJyZs5dmG++eaLndmhIWAIGAKGgCFgCNQSAlVRzWQFIKhasua3fIaAIWAIGAKGgCHQshCoukSkEFy4cyfGTNxwtVB+u2YIGAKGgCFgCBgCLQuBmmZEgBIfI0aGgCFgCBgChoAh0DoRqGnVTOuE3N7KEDAEDAFDwBAwBAICxogEJOzXEDAEDAFDwBAwBCqOgDEiFYfcHmgIGAKGgCFgCBgCAQFjRAIS9msIGAKGgCFgCBgCFUfAGJGKQ24PNAQMAUPAEDAEDIGAQNl3zfz4448aC+aJJ54Iz7DfFobADz/84H799VfHr1HzIvDdd9+5J5980hGg0ag2EPDeO9rFxrDaaI9QCxuXAhK19fvZZ585wrY0hcrOiMw555xukUUWcWussUZT6mX3VhEBggoyEHfo0KGKtaiPR3/55Zdu9dVXj+Il1cdb1/ZbErH7q6++sjGsxprpk08+cd9++62NSzXWLr///rtj3m8KlZ0RmXXWWbVSMCNGLROB77//3hGfx9qw+dtvttlm0zhIfDdGtYHAH3/84WgX6/+10R6hFkEiYu0SEKmNX5iQpo5fZiNSG21ptTAEDAFDwBAwBOoSAWNE6rLZ7aUNAUPAEDAEDIHaQMAYkdpoB6uFIWAIGAKGgCFQlwgYI1KXzW4vbQgYAoaAIWAI1AYCxojURjtYLQwBQ8AQMAQMgbpEwBiRumx2e2lDwBAwBAwBQ6A2EDBGpDbawWphCBgChoAhYAjUJQLGiNRls9tLGwKGgCFgCBgCtYFA1RkRvOXhxbMQkQe3y6UQ9+AdsRBlLffTTz9Vt/V4HOUPb5h4kzP6E4EsWCexKoY93i3BuhAVK6PQvS31WnO8My6acWBn1DgEcLT14YcfljRGffPNN+6nn34q+EDK/eijj/LmefPNNx3fiVE6AlkwTr8zf2qxcYl54f3337fvKT+EqVeqxoiMHTvWtWvXTn3UL7jggm7LLbd0b7/9dk4lb7zxRnV/jR97vOldcsklOdfTToYNG+aWXHJJLbdt27Z6/8SJE3OyllruOuus45Zeeunob9FFF1Xvsbvuuqt76aWXcsoudsLA0qtXr5IGrWJlVut6FqyTdSuGPR/yCSec4OgTYL7WWmu56667LqeYYmXkZG4lJ6W+M3FS5p9//gZ/N9xwQ4TI/fff75Zbbjm3xBJL6PfSt2/faFEwfPhwN++886b+0SZGzk2bNs1tuummijFjGX324osvLgjN888/77bZZhu32GKLaf6dd97Z4ck4ScR62m677dwee+yRvKTnjIWrrLJKUWY99eZWnpgV4zgMK664YoNvZdttt42yZBmX/v73v7v55pvPLb/88vrdHHPMMQ4vvUYZEBBJQ1lJpAdegngVLFMa1a+wwgpeYmz4O++808tE46UB/UYbbRTdN2XKFC9uY323bt38Qw895Pv164dIxN9+++1RnuSBSEC0nM0228yPHDnSy+Ctz1looYW8rCQ1e2PKXXzxxb0wI/7WW2/1//znP/3ll1/uZdD2s8wyixcGyc+YMSNZlbznZ511lr6HcNZ581T7wrvvvuvlYy5YjSxYJwvIgv2pp56q+PD78MMPexmoFefXXntNi8tSRvK5tXwuzIDneyhEjXnnq6++WnE85ZRT/Jlnnhn9TZo0SR/13HPPeQm057t06aI4n3322V7cmvvzzz9frwuDHd0T7pdJUcvs2bNnoeq2+Gu0B+1SjHbZZRfP2HDZZZf5++67z/fo0UPxGTp0aOqtv/zyi5cYXF6YP3/zzTf7wYMH+3nmmcfLgiYnv0iotN8z3gmjk3NNJjYdfxh7uC6SmJzrrfnkvffeKzouZcU4jpMsDhVLxprQ1/ll/ghUbFx66qmntIx99tlHv6dDDjlEz4VhDEW02l/me+b9phAr87JSFkbkgQce0Ea67bbbomeHhhO1h6Z1797di2QjZ5BebbXV/CabbBLdkzy44IILtNzXX389ugTzwAcrK7xGl8tgwyCTJJgoBu8dd9wx55KIub2slvz48eM9dQlMh4ha/fHHH6/1EbWDl1VPdJ+sivyzzz7rH3vsMc9AVE3KwohkwTr5DsXaVAJaeVlV+v322y+6FVzWX399f+WVV2pasTKiG1vIQRZGpDHvfMABB/hlllkmLwp77rmnF4mT/+KLL6I8RxxxRGo/JwOTMwsFkQZ6+m5rpiyMCN83zMB5550XQQFzPvfcc/vddtstSosf3HTTTfrt840HOuOMM7QcvjlIJFleJLlazgILLJDDiMycOVPHP8Yz2tYYkYDi//1mwfj/cv959OCDDyqW+RbQWcYlvjfmAsZ4iLGdduzateufD2nF/8vBiFRFNYPoCnrxxRf1V9rIyYrXoUpBvAkh9txhhx1ygunIhO9kdZhXLyorFPfvf/87Jzpj0H0TxKqx5eqNKf9kwHEySboxY8ZEOkFhrpwwLloH6YROmCfXqVMnh75XJlMn0hQtCXXTqFGj1NZEmDAng47bcMMNXefOnVVMLivTlCfWTlIWrJO1LdamsqrQ6Jq9e/d2Mug6zvmdOnWqO/bYY7W4YmUkn9kazhvzzi+88ILr2LGjkwnODRkyxKGe5DsLRJ8V5loD7vEdCsPsrr32WieDcsiS84vKgW9v0KBBqvrMuViHJ6iKwUoktdHbYz+AKD5fADDakfFtq622iu5hTOM+WYRoGu2Guodz2k+kVlFeVDjYp6E2Qw1g1BCBLBgn7wJz2myllVZyo0ePdvfee6/DviRQlnEJFacwsO7VV1/V21DBUwYqH6PiCFSFEVlzzTWdiIzdpZdeqh9b+/btnYiKnayytUPQoB988EGDAQ9dNh+6rOJS34xw6rJ6jK79/PPPOrgyycMMNLbcqMCUg4033liZEAzH6HgMTB06dND3YXA//PDDdRIYMWKE69+/vzv66KO1FPKLiFuZERHRuhNPPNG98847TlZLDpsUEZUXNbZNqU7FkophnaxIFuxFxaW3icTMiTrNiYpN+wC4MVhnKSP53JZ+3ph3hvlmQBSVpuPbOvDAA3XygzFmMuMPA/Eff/xR7bTWW289taX6y1/+4kT83QAyjFnPOeccx6QJA2rkHHZijDX8BhJ1mMO2A7uPNOL7ZpESZy4Y06BgmM14IWoeJyocTY8zj9zLmLL33nvrNfvXEIEsGCfvwqaEeUXMBZxICnVcZnyTlb5mLTYukYlxn/Fqiy22cKLu1PajvLCASj7TznMRqAoj8vXXX+tETVVY8fIHBekFjAYdA2O7OMFQQKwKihFMyF577eXgdq+55ho1DitHucnnrrrqqpqE1TzvAQPBqnGDDTZQhuTII4/U63DITK4LL7ywnsMpYwwoIlZlwAYMGKAfAgwTAxnv//nnnycfV5PnaVgnK5oFezCCRH/uROTtMGjeaaed1Fh14MCByoA2tV8k61Xr51lwS74DzAR9a+utt1aJyFtvvaUMMUyuqAKinRisrGFOHn30UXf66ae7l19+WZmWZHliF6UT7FFHHZW8ZOf/QwBjYqSYSHGR6KURu+/yjWlhh5+oe9Ju1TQYmELX895YRxeyYJyEg3EWw3gkXCwmRb2jEmw2FcBYFhuXKO+NN95QJp7xCek39yFlKbYzKlmXej3/U19R4bdnomGSQWTcp08fbTRWvfyxKlt77bW1RoFBCdVjJQeh1gjqjnDtwgsvdMHKmY+ayRyO9oorrtBnkA9GACpUrmYo4R8MCLTssssqU8FOGgYluOzQOblOB00jxLSsTNmxwGqHPxg1iNVwrVM+rJP1zoK9GO7pbaiqkJhB9AdWjaixWNlD5Ww/LbCG/2XBLVn9lVdeuYE0DbUgjAfSJrFT0lvY6QGTweTWuXNnZUTuueceZfjiK30GZnZosNvDqCECYoDuzj33XCeG9U6M5Btm+F8KbZlcXIQxjZ1+Rk1HoDEYw4jH6eCDD3YTJkxwYl+oksVi4xJSrJNPPtmxIEMiw3fFNvvNN99cJSykGRVGID/7Xfi+Jl1FZMzkIkaJWs4cc8yhWzY5gSuda665VHKQ/GgREaNjpbMhpmQLXPgLNiCIOGFS0LHKDht33HHHRXXNUm6UOePB5MmT3eyzz64icNQt6HUZuHk/tm/BcEFxEWu86Ouvv1519U8//bQTY0C1I2HV2hKoENbJ+mfBHukQxKQYCCkYjCkrnSxlhPtay29j3pnVGL4M+A0055xzOlSiMLkw8jAfMMHxFTZiZYjvLBC2JTDUYsiao1II1+v5l28aiSdMyP77769jV5i00nBh1Z02ppEXFZpR0xEoFWPakLElKWVHog3xvRQbl7j3mWeeUQk8TAgEY8nCCRst7B+NCiNQFUYEZgKRVVDFUEUmcSh8yEzoMCzxCRwmJahCWCFjmBr+EDGj92ZwRUoxbty4VF1qsXK1Ehn/sfqBc0aEx4Qhu2jU2BIdr2zhUyYoGK4lJSLhHPsQjHcxGETHjIQoDFYhT8bqVDRbFqyTFSqGPYa/iJ/5qAMxEKBew5AXKlZGuK81/Zb6zvRD+hRMbiCYC5hmmBGYduyQsMuKS91kl5f6QcDGKRD3QKgcjHIRQFUFxrLVUyVLLEgKEZNbmLRCPsY0CImTUdMRKBVjpBgwD0m7HgxWYdKxFSk2LuE7hHE+6ZgTlSiEmtSoCAIy0ZeVhLss6kfk7rvvxnxftwqy9Yd999LgXhrMS+NpfcIWXxF7eZmIvDi50nuE8chbX5FAROVedNFFPv6H3wSoMeWK9MXL4ByVJ4alXgZm9cPANjrherVsGVT0+WKQ6mUV6UXMHW2zE6MlzSO7DzQPvgd4V+GaddvXXXfdpVt9qTPY8Bd8PuiNFfzH+xTzI5IFazFwVJxC1bNgz9ZHtsHhW0ZEptpHZEDwsstDi8lSRnheS/jNsn232DuL5EP9Toh6Ul9Z7Ep0my3b3/F7I4OqF2mH9qngH+OOO+7Qc2GiPT4QTjvtNC8TqfrHiePGtkS2pApTHE9u1cfCnBX1I8I2W2Ga9fuOjzMcB19Hjz/+uPZ/kSopXqKC1XbBJxGY4+tIJH5eVAGpeOLjJelHJGQUBkjbz/yIBET+/M2CcXJcEltCxRJfIbQVcw5jDn0/ULFxie+I/oAfHtww8Ay+G5HuhiJa7W85tu8icSgrZWFEeCAfkkhGtAMw6crWKf/II4/k1IVGFbWN5mHCF4POnOvJE/wihEk8+XvVVVdF2UstF0YkXp5IP7S++D4R/V9ULv5C6LwMLuQX6Y4X41W/7rrrelnVaj4cc4k6Sa/TWWV3gxcpjnZ87hH9vmLDMYNaNSgLI5IFa1ll6HvG36EY9mIs5vFxISsMvZfJFN8AcSpWRjxvrR9nYUR4h0LvzOBLf8HhWCAmOvzukM4f/j9gPuIkRtzqAJDr9GkGU5iaODERyiozntTqj7MwIiwsArbJXxwqQjCBXJMtoRFmTHRiT6bpTFQ4MxOpX3Q9fiDGxj6UFU/nODAipThTTJbR0s6zODTjnYphnByXwD8466O9RI3pDzvsMI9ztEDFxiV8jeD/CAYm9AcxtG/1PnfApxyMSBsKEuDKRoiAEUmxF74YsSVTJj0nH6TqrdPyB303e7wR25eLmqtc6kfZqIdWkO1biPeShDgcI08MAsP1sDsibOdL3lPJc3ZdoBJhW2dzUBbsMeDFBoV2T6MsZaTdV2tpIu1QV95BhVeofo15ZzCUAVX7YlrZfIOEVsDYGvWi0Z+G5ah8m1MdxbiHfZuJ7bP3OOyeGDezjkulYozhMDtk2NGYT81WbFzC5IDxk+8JlU09EH5WGKex22wsVWXXTKgsk3Axhy8YsrILoNzUXOVST8ou9F7o6JONFt+lUO53rbXysmCPrVA+JiRg3Bz9otawitcnC27x/BxjmFqI+AbrDcdCeFTqGosUo+ZFoFSM2Vodt49Kq12xcYlFNU4sjUpDoOFyvbT7LbchYAgYAoaAIWAIGAKNRsAYkUZDZzcaAoaAIWAIGAKGQFMRMEakqQja/YaAIWAIGAKGgCHQaASMEWk0dHajIWAIGAKGgCFgCDQVgaozIrjCfUxiYODQrDEbeNhtgiU1FCya2QlgZAgYAoaAIWAIGAK1j0DVGBFisRBhEqt+ohXiWRDX7fj3L4UIikbERIh7cfEbghTB4IgfD71m/wwBQ8AQMAQMAUOg9hCoyvZd/GgQQAvfCeKoyW2yySYa7C0EwWMbFcHjSiUYG/z7hwiXxMcI4bRLLcvyGwKGgCFgCBgChkDzI1AVRgQHKMRcEDfnUSRQQpZvt912uo97xIgRyoigqsFBGpISHMUQPEi8lEbxaJLwEDSOfeAwIqhrYHiIJYD6pp78dCRxsXNDwBAwBAwBQ6BWEaiKaiZ4D0V1Eg8UhAMrAp4RzRKCgSCKobjfVUZC3B27tm3bOon1koonIc3Jj2qmc+fObvr06Rr2HA+G8QB7qTdboiFgCBgChoAhYAhUHIGqMCJE0CVstsTZcDAl3bt3V+kIEWiJnhgi7AY0cLc8bNgwdZvOfUhSitmSELkXj5HdunVTF9b5XPaGZ9ivIWAIGAKGgCFgCFQegaowIrwm0otbbrnFderUyU2YMEGlHMQQwHYESUiciFsjERKdBL5zEqhLVTPDhw+PZ2lwTF6YDwms59q3b9/guiUYAoaAIWAIGAKGQPURqBojwqtLpFqHtIMAaxJ51+27775u3Lhxbvfdd89BBolJIImM6CRarUN6YmQIGAKGgCFgCBgCLRuBqhirDhgwQH2HjBkzRqPPEvWza9eu+ocUY+jQoU7CLkfIhgi1IQFjVIIPGRkChoAhYAgYAoZAy0agKhKRBRZYQCUfI0eObIDezJkzdddLPDz22LFjo3wYnU6ePNl17NgxSst30KZNG2fOzfKhY+mGgCFgCBgChkD1EagKI8IumHbt2rlevXq5gw46yN10001u0KBBrmfPnm706NFqyBo3Lp04caJu80WNs/3227uPP/7Y9evXryh6SE2mTp2qhq62a6YoXJbBEDAEDAFDwBCoOAJVYUTwpso2XfyGjBo1yh166KGub9++bsqUKeoJ9eqrr84BAodnAwcOdD169HDTpk1zgwcPVm+sZEJtE1Q3yd8+ffq4GTNmuN69e6sL+ZxC7cQQMAQMAUPAEDAEqo5AVWxEeGv8fTzwwAOqOnnrrbccqhjcs6cREpTx48fr9t3kDphJkyZFt8DM8Beof//+ahCLNGThhRcOyfZrCBgChoAhYAgYAjWCQNUYkfD+SDGIM1OMUNUkmZBi93B9vvnmy5LN8hgChoAhYAgYAoZAFRCoimom63sGVUvW/JbPEDAEDAFDwBAwBFoWAlWXiBSCC3fuxJiJG64Wym/XDAFDwBAwBAwBQ6BlIVDTjAhQ4mPEyBAwBAwBQ8AQMARaJwI1rZppnZDbWxkChoAhYAgYAoZAQMAYkYCE/RoChoAhYAgYAoZAxREwRqTikNsDDQFDwBAwBAwBQyAgYIxIQMJ+DQFDwBAwBAwBQ6DiCBgjUnHI7YGGgCFgCBgChoAhEBAo+66ZP/74w/3888/u888/D8+w3xaGwHfffed+/PFHa8MKtBtef7/44osoTEEFHmmPKIIAgTJpFxvDigBV4cs2LlUY8IyPY75n3m8KlZ0RIeLtr7/+arFdmtIqVb73l19+0YH4zTffrHJNWv/j8ZFDiAO+G6PaQMB7r76LrP/XRnuEWti4FJCorV/m+6aOX23ko/O19VpWG0PAEDAEDAFDwBCoFwTMRqReWtre0xAwBAwBQ8AQqEEEjBGpwUaxKhkChoAhYAgYAvWCgDEi9dLS9p6GgCFgCBgChkANImCMSA02ilXJEDAEDAFDwBCoFwSMEamXlrb3NAQMAUPAEDAEahABY0RqsFGsSoaAIWAIGAKGQL0gYIxIvbS0vachYAgYAoaAIVCDCBgjUoONYlUyBAwBQ8AQMATqBQFjROqlpe09DQFDwBAwBAyBGkTAGJEabBSrkiFgCBgChoAhUC8IGCNSLy1t72kIGAKGgCFgCNQgAsaI1GCjWJUMAUPAEDAEDIF6QcAYkXppaXtPQ8AQMAQMAUOgBhEwRqQGG8WqZAgYAoaAIWAI1AsC/x8HxNSnAnwKbQAAAABJRU5ErkJggg==)"
      ]
    }
  ]
}